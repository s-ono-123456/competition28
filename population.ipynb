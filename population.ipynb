{
 "cells": [
  {
   "cell_type": "code",
   "execution_count": 1,
   "id": "1c867183-1a20-4920-807c-5491065bd834",
   "metadata": {},
   "outputs": [],
   "source": [
    "import pandas as pd\n",
    "import numpy as np\n",
    "from sklearn.model_selection import KFold\n",
    "from functools import partial\n",
    "\n",
    "import optuna\n",
    "from xfeat import SelectCategorical, LabelEncoder, Pipeline, ConcatCombination, SelectNumerical, ArithmeticCombinations, TargetEncoder, aggregation, GBDTFeatureSelector, GBDTFeatureExplorer"
   ]
  },
  {
   "cell_type": "code",
   "execution_count": 2,
   "id": "b3d8830a-84f3-43b4-9fa2-fc7159458b8d",
   "metadata": {},
   "outputs": [],
   "source": [
    "df = pd.read_csv('reference/major_results_2020.csv')"
   ]
  },
  {
   "cell_type": "code",
   "execution_count": 3,
   "id": "3fadfd85-8d11-46b0-9a54-dba71dda69ba",
   "metadata": {},
   "outputs": [
    {
     "data": {
      "text/html": [
       "<div>\n",
       "<style scoped>\n",
       "    .dataframe tbody tr th:only-of-type {\n",
       "        vertical-align: middle;\n",
       "    }\n",
       "\n",
       "    .dataframe tbody tr th {\n",
       "        vertical-align: top;\n",
       "    }\n",
       "\n",
       "    .dataframe thead th {\n",
       "        text-align: right;\n",
       "    }\n",
       "</style>\n",
       "<table border=\"1\" class=\"dataframe\">\n",
       "  <thead>\n",
       "    <tr style=\"text-align: right;\">\n",
       "      <th></th>\n",
       "      <th>都道府県名</th>\n",
       "      <th>都道府県・市区町村名</th>\n",
       "      <th>都道府県・市区町村名（英語）</th>\n",
       "      <th>市などの別</th>\n",
       "      <th>総数（人）</th>\n",
       "      <th>男（人）</th>\n",
       "      <th>女（人）</th>\n",
       "      <th>2015年（平成27年）の人口（組替）（人）</th>\n",
       "      <th>5年間の人口増減数（人）</th>\n",
       "      <th>5年間の人口増減率（％）</th>\n",
       "      <th>...</th>\n",
       "      <th>一般世帯（世帯）.1</th>\n",
       "      <th>核家族世帯（世帯）</th>\n",
       "      <th>夫婦のみの世帯（世帯）</th>\n",
       "      <th>夫婦と子供から成る世帯（世帯）</th>\n",
       "      <th>男親と子供から成る世帯（世帯）</th>\n",
       "      <th>女親と子供から成る世帯（世帯）</th>\n",
       "      <th>単独世帯（世帯）</th>\n",
       "      <th>65歳以上の単独世帯（世帯）</th>\n",
       "      <th>夫65歳以上，妻60歳以上の夫婦のみの世帯（世帯）</th>\n",
       "      <th>3世代世帯（世帯）</th>\n",
       "    </tr>\n",
       "  </thead>\n",
       "  <tbody>\n",
       "    <tr>\n",
       "      <th>0</th>\n",
       "      <td>00_全国</td>\n",
       "      <td>00000_全国</td>\n",
       "      <td>Japan</td>\n",
       "      <td>a</td>\n",
       "      <td>126146099</td>\n",
       "      <td>61349581</td>\n",
       "      <td>64796518</td>\n",
       "      <td>127094745</td>\n",
       "      <td>-948646</td>\n",
       "      <td>-0.74641</td>\n",
       "      <td>...</td>\n",
       "      <td>55704949</td>\n",
       "      <td>30110571</td>\n",
       "      <td>11158840</td>\n",
       "      <td>13949190</td>\n",
       "      <td>738006</td>\n",
       "      <td>4264535</td>\n",
       "      <td>21151042</td>\n",
       "      <td>6716806</td>\n",
       "      <td>6533895</td>\n",
       "      <td>2337703</td>\n",
       "    </tr>\n",
       "    <tr>\n",
       "      <th>1</th>\n",
       "      <td>01_北海道</td>\n",
       "      <td>01000_北海道</td>\n",
       "      <td>Hokkaido</td>\n",
       "      <td>a</td>\n",
       "      <td>5224614</td>\n",
       "      <td>2465088</td>\n",
       "      <td>2759526</td>\n",
       "      <td>5381733</td>\n",
       "      <td>-157119</td>\n",
       "      <td>-2.91949</td>\n",
       "      <td>...</td>\n",
       "      <td>2469063</td>\n",
       "      <td>1324406</td>\n",
       "      <td>584819</td>\n",
       "      <td>511571</td>\n",
       "      <td>29921</td>\n",
       "      <td>198095</td>\n",
       "      <td>999825</td>\n",
       "      <td>361735</td>\n",
       "      <td>345741</td>\n",
       "      <td>59601</td>\n",
       "    </tr>\n",
       "    <tr>\n",
       "      <th>2</th>\n",
       "      <td>01_北海道</td>\n",
       "      <td>01100_札幌市</td>\n",
       "      <td>Sapporo-shi</td>\n",
       "      <td>1</td>\n",
       "      <td>1973395</td>\n",
       "      <td>918682</td>\n",
       "      <td>1054713</td>\n",
       "      <td>1952356</td>\n",
       "      <td>21039</td>\n",
       "      <td>1.07762</td>\n",
       "      <td>...</td>\n",
       "      <td>967372</td>\n",
       "      <td>496691</td>\n",
       "      <td>204909</td>\n",
       "      <td>204131</td>\n",
       "      <td>10175</td>\n",
       "      <td>77476</td>\n",
       "      <td>422160</td>\n",
       "      <td>121789</td>\n",
       "      <td>110890</td>\n",
       "      <td>15727</td>\n",
       "    </tr>\n",
       "    <tr>\n",
       "      <th>3</th>\n",
       "      <td>01_北海道</td>\n",
       "      <td>01101_札幌市中央区</td>\n",
       "      <td>Sapporo-shi Chuo-ku</td>\n",
       "      <td>0</td>\n",
       "      <td>248680</td>\n",
       "      <td>112853</td>\n",
       "      <td>135827</td>\n",
       "      <td>237627</td>\n",
       "      <td>11053</td>\n",
       "      <td>4.65141</td>\n",
       "      <td>...</td>\n",
       "      <td>141223</td>\n",
       "      <td>54941</td>\n",
       "      <td>24467</td>\n",
       "      <td>20812</td>\n",
       "      <td>878</td>\n",
       "      <td>8784</td>\n",
       "      <td>80425</td>\n",
       "      <td>16447</td>\n",
       "      <td>11059</td>\n",
       "      <td>1111</td>\n",
       "    </tr>\n",
       "  </tbody>\n",
       "</table>\n",
       "<p>4 rows × 49 columns</p>\n",
       "</div>"
      ],
      "text/plain": [
       "    都道府県名    都道府県・市区町村名       都道府県・市区町村名（英語） 市などの別      総数（人）      男（人）  \\\n",
       "0   00_全国      00000_全国                Japan     a  126146099  61349581   \n",
       "1  01_北海道     01000_北海道             Hokkaido     a    5224614   2465088   \n",
       "2  01_北海道     01100_札幌市          Sapporo-shi     1    1973395    918682   \n",
       "3  01_北海道  01101_札幌市中央区  Sapporo-shi Chuo-ku     0     248680    112853   \n",
       "\n",
       "       女（人） 2015年（平成27年）の人口（組替）（人）  5年間の人口増減数（人） 5年間の人口増減率（％）  ...  \\\n",
       "0  64796518              127094745       -948646     -0.74641  ...   \n",
       "1   2759526                5381733       -157119     -2.91949  ...   \n",
       "2   1054713                1952356         21039      1.07762  ...   \n",
       "3    135827                 237627         11053      4.65141  ...   \n",
       "\n",
       "   一般世帯（世帯）.1  核家族世帯（世帯） 夫婦のみの世帯（世帯） 夫婦と子供から成る世帯（世帯） 男親と子供から成る世帯（世帯）  \\\n",
       "0    55704949   30110571    11158840        13949190          738006   \n",
       "1     2469063    1324406      584819          511571           29921   \n",
       "2      967372     496691      204909          204131           10175   \n",
       "3      141223      54941       24467           20812             878   \n",
       "\n",
       "  女親と子供から成る世帯（世帯）  単独世帯（世帯） 65歳以上の単独世帯（世帯） 夫65歳以上，妻60歳以上の夫婦のみの世帯（世帯） 3世代世帯（世帯）  \n",
       "0         4264535  21151042        6716806                   6533895   2337703  \n",
       "1          198095    999825         361735                    345741     59601  \n",
       "2           77476    422160         121789                    110890     15727  \n",
       "3            8784     80425          16447                     11059      1111  \n",
       "\n",
       "[4 rows x 49 columns]"
      ]
     },
     "execution_count": 3,
     "metadata": {},
     "output_type": "execute_result"
    }
   ],
   "source": [
    "df.head(4)"
   ]
  },
  {
   "cell_type": "code",
   "execution_count": 4,
   "id": "a1605a6c-9ead-49be-a1a2-32ee0b04407c",
   "metadata": {},
   "outputs": [
    {
     "name": "stdout",
     "output_type": "stream",
     "text": [
      "<class 'pandas.core.frame.DataFrame'>\n",
      "RangeIndex: 1965 entries, 0 to 1964\n",
      "Data columns (total 49 columns):\n",
      " #   Column                       Non-Null Count  Dtype  \n",
      "---  ------                       --------------  -----  \n",
      " 0   都道府県名                        1965 non-null   object \n",
      " 1   都道府県・市区町村名                   1965 non-null   object \n",
      " 2   都道府県・市区町村名（英語）               1965 non-null   object \n",
      " 3   市などの別                        1965 non-null   object \n",
      " 4   総数（人）                        1965 non-null   object \n",
      " 5   男（人）                         1965 non-null   object \n",
      " 6   女（人）                         1965 non-null   object \n",
      " 7   2015年（平成27年）の人口（組替）（人）       1965 non-null   object \n",
      " 8   5年間の人口増減数（人）                 1965 non-null   int64  \n",
      " 9   5年間の人口増減率（％）                 1965 non-null   object \n",
      " 10  面積（参考）（km2）                  1965 non-null   float64\n",
      " 11  人口密度（人/km2）                  1965 non-null   float64\n",
      " 12  平均年齢（歳）                      1965 non-null   object \n",
      " 13  年齢中位数（歳）                     1965 non-null   object \n",
      " 14  年齢別人口（男女「総数」）15歳未満（人）        1965 non-null   object \n",
      " 15  年齢別人口（男女「総数」）15～64歳（人）       1965 non-null   object \n",
      " 16  年齢別人口（男女「総数」）65歳以上（人）        1965 non-null   object \n",
      " 17  人口構成比［年齢別］(男女「総数」）15歳未満（％）   1965 non-null   object \n",
      " 18  人口構成比［年齢別］(男女「総数」）15～64歳（％）  1965 non-null   object \n",
      " 19  人口構成比［年齢別］(男女「総数」）65歳以上（％）   1965 non-null   object \n",
      " 20  年齢別人口（男）15歳未満（人）             1965 non-null   object \n",
      " 21  年齢別人口（男）15～64歳（人）            1965 non-null   object \n",
      " 22  年齢別人口（男）65歳以上（人）             1965 non-null   object \n",
      " 23  人口構成比［年齢別］(男）15歳未満（％）        1965 non-null   object \n",
      " 24  人口構成比［年齢別］(男）15～64歳（％）       1965 non-null   object \n",
      " 25  人口構成比［年齢別］(男）65歳以上（％）        1965 non-null   object \n",
      " 26  年齢別人口（女）15歳未満（人）             1965 non-null   object \n",
      " 27  年齢別人口（女）15～64歳（人）            1965 non-null   object \n",
      " 28  年齢別人口（女）65歳以上（人）             1965 non-null   object \n",
      " 29  人口構成比［年齢別］(女）15歳未満（％）        1965 non-null   object \n",
      " 30  人口構成比［年齢別］(女）15～64歳（％）       1965 non-null   object \n",
      " 31  人口構成比［年齢別］(女）65歳以上（％）        1965 non-null   object \n",
      " 32  人口性比（％）                      1965 non-null   object \n",
      " 33  日本人（人）                       1965 non-null   object \n",
      " 34  外国人（人）                       1965 non-null   object \n",
      " 35  総世帯（世帯）                      1965 non-null   object \n",
      " 36  一般世帯（世帯）                     1965 non-null   object \n",
      " 37  施設等の世帯（世帯）                   1965 non-null   object \n",
      " 38  2015年（平成27年）の世帯数（組替）（世帯）     1965 non-null   object \n",
      " 39  一般世帯（世帯）.1                   1965 non-null   object \n",
      " 40  核家族世帯（世帯）                    1965 non-null   object \n",
      " 41  夫婦のみの世帯（世帯）                  1965 non-null   object \n",
      " 42  夫婦と子供から成る世帯（世帯）              1965 non-null   object \n",
      " 43  男親と子供から成る世帯（世帯）              1965 non-null   object \n",
      " 44  女親と子供から成る世帯（世帯）              1965 non-null   object \n",
      " 45  単独世帯（世帯）                     1965 non-null   object \n",
      " 46  65歳以上の単独世帯（世帯）               1965 non-null   object \n",
      " 47  夫65歳以上，妻60歳以上の夫婦のみの世帯（世帯）    1965 non-null   object \n",
      " 48  3世代世帯（世帯）                    1965 non-null   object \n",
      "dtypes: float64(2), int64(1), object(46)\n",
      "memory usage: 752.4+ KB\n"
     ]
    }
   ],
   "source": [
    "df.info()"
   ]
  },
  {
   "cell_type": "code",
   "execution_count": 5,
   "id": "996f3b9f-b84a-4e72-be5b-be77a66e14a9",
   "metadata": {},
   "outputs": [
    {
     "data": {
      "text/plain": [
       "Index(['都道府県名', '都道府県・市区町村名', '都道府県・市区町村名（英語）', '市などの別', '総数（人）', '男（人）',\n",
       "       '女（人）', '2015年（平成27年）の人口（組替）（人）', '5年間の人口増減数（人）', '5年間の人口増減率（％）',\n",
       "       '面積（参考）（km2）', '人口密度（人/km2）', '平均年齢（歳）', '年齢中位数（歳）',\n",
       "       '年齢別人口（男女「総数」）15歳未満（人）', '年齢別人口（男女「総数」）15～64歳（人）',\n",
       "       '年齢別人口（男女「総数」）65歳以上（人）', '人口構成比［年齢別］(男女「総数」）15歳未満（％）',\n",
       "       '人口構成比［年齢別］(男女「総数」）15～64歳（％）', '人口構成比［年齢別］(男女「総数」）65歳以上（％）',\n",
       "       '年齢別人口（男）15歳未満（人）', '年齢別人口（男）15～64歳（人）', '年齢別人口（男）65歳以上（人）',\n",
       "       '人口構成比［年齢別］(男）15歳未満（％）', '人口構成比［年齢別］(男）15～64歳（％）',\n",
       "       '人口構成比［年齢別］(男）65歳以上（％）', '年齢別人口（女）15歳未満（人）', '年齢別人口（女）15～64歳（人）',\n",
       "       '年齢別人口（女）65歳以上（人）', '人口構成比［年齢別］(女）15歳未満（％）', '人口構成比［年齢別］(女）15～64歳（％）',\n",
       "       '人口構成比［年齢別］(女）65歳以上（％）', '人口性比（％）', '日本人（人）', '外国人（人）', '総世帯（世帯）',\n",
       "       '一般世帯（世帯）', '施設等の世帯（世帯）', '2015年（平成27年）の世帯数（組替）（世帯）', '一般世帯（世帯）.1',\n",
       "       '核家族世帯（世帯）', '夫婦のみの世帯（世帯）', '夫婦と子供から成る世帯（世帯）', '男親と子供から成る世帯（世帯）',\n",
       "       '女親と子供から成る世帯（世帯）', '単独世帯（世帯）', '65歳以上の単独世帯（世帯）',\n",
       "       '夫65歳以上，妻60歳以上の夫婦のみの世帯（世帯）', '3世代世帯（世帯）'],\n",
       "      dtype='object')"
      ]
     },
     "execution_count": 5,
     "metadata": {},
     "output_type": "execute_result"
    }
   ],
   "source": [
    "df.columns"
   ]
  },
  {
   "cell_type": "code",
   "execution_count": 6,
   "id": "d3aec082-a5c1-4877-8050-0c89f48b1891",
   "metadata": {},
   "outputs": [],
   "source": [
    "dropcol = ['都道府県名', '都道府県・市区町村名（英語）', '一般世帯（世帯）.1', '2015年（平成27年）の人口（組替）（人）', '5年間の人口増減数（人）', '5年間の人口増減率（％）', '2015年（平成27年）の世帯数（組替）（世帯）']\n",
    "df = df.drop(dropcol, axis=1)"
   ]
  },
  {
   "cell_type": "code",
   "execution_count": 7,
   "id": "2c149c9e-a7e5-428a-8953-770214279baa",
   "metadata": {},
   "outputs": [],
   "source": [
    "df['市区町村コード'] = df['都道府県・市区町村名'].str.split('_',expand=True)[0].astype(int).astype(object)\n",
    "df['都道府県・市区町村名'] = df['都道府県・市区町村名'].str.split('_',expand=True)[1]\n"
   ]
  },
  {
   "cell_type": "code",
   "execution_count": null,
   "id": "320580d5-13f0-4b0e-aa3b-aff608018760",
   "metadata": {},
   "outputs": [],
   "source": []
  },
  {
   "cell_type": "code",
   "execution_count": 8,
   "id": "b923b1ec-b173-4cca-8714-ffe0f0d04604",
   "metadata": {},
   "outputs": [
    {
     "name": "stderr",
     "output_type": "stream",
     "text": [
      "/usr/local/lib/python3.9/site-packages/pandas/core/indexes/base.py:6982: FutureWarning: In a future version, the Index constructor will not infer numeric dtypes when passed object-dtype sequences (matching Series behavior)\n",
      "  return Index(sequences[0], name=names)\n"
     ]
    }
   ],
   "source": [
    "# 区および、市（政令市を除く）、町、村のレコードを取得\n",
    "# 政令市のデータ、都道府県のデータも取得する。\n",
    "sikutyouson = df[(df['市などの別'] == '0') | (df['市などの別'] == '2')\n",
    "                 | (df['市などの別'] == '3')]\n",
    "seireishi = df[df['市などの別'] == '1']\n",
    "todouhuken = df[df['市などの別'] == 'a']\n",
    "sikutyouson = sikutyouson.set_index(['市区町村コード'])"
   ]
  },
  {
   "cell_type": "code",
   "execution_count": 9,
   "id": "cd9f6bae-8bd4-4637-b62e-92757ce27b49",
   "metadata": {},
   "outputs": [
    {
     "data": {
      "text/plain": [
       "都道府県・市区町村名                     0\n",
       "市などの別                          0\n",
       "総数（人）                          0\n",
       "男（人）                           0\n",
       "女（人）                           0\n",
       "面積（参考）（km2）                    0\n",
       "人口密度（人/km2）                    0\n",
       "平均年齢（歳）                        0\n",
       "年齢中位数（歳）                       0\n",
       "年齢別人口（男女「総数」）15歳未満（人）          0\n",
       "年齢別人口（男女「総数」）15～64歳（人）         0\n",
       "年齢別人口（男女「総数」）65歳以上（人）          0\n",
       "人口構成比［年齢別］(男女「総数」）15歳未満（％）     0\n",
       "人口構成比［年齢別］(男女「総数」）15～64歳（％）    0\n",
       "人口構成比［年齢別］(男女「総数」）65歳以上（％）     0\n",
       "年齢別人口（男）15歳未満（人）               0\n",
       "年齢別人口（男）15～64歳（人）              0\n",
       "年齢別人口（男）65歳以上（人）               0\n",
       "人口構成比［年齢別］(男）15歳未満（％）          0\n",
       "人口構成比［年齢別］(男）15～64歳（％）         0\n",
       "人口構成比［年齢別］(男）65歳以上（％）          0\n",
       "年齢別人口（女）15歳未満（人）               0\n",
       "年齢別人口（女）15～64歳（人）              0\n",
       "年齢別人口（女）65歳以上（人）               0\n",
       "人口構成比［年齢別］(女）15歳未満（％）          0\n",
       "人口構成比［年齢別］(女）15～64歳（％）         0\n",
       "人口構成比［年齢別］(女）65歳以上（％）          0\n",
       "人口性比（％）                        0\n",
       "日本人（人）                         0\n",
       "外国人（人）                         0\n",
       "総世帯（世帯）                        0\n",
       "一般世帯（世帯）                       0\n",
       "施設等の世帯（世帯）                     0\n",
       "核家族世帯（世帯）                      0\n",
       "夫婦のみの世帯（世帯）                    0\n",
       "夫婦と子供から成る世帯（世帯）                0\n",
       "男親と子供から成る世帯（世帯）                0\n",
       "女親と子供から成る世帯（世帯）                0\n",
       "単独世帯（世帯）                       0\n",
       "65歳以上の単独世帯（世帯）                 0\n",
       "夫65歳以上，妻60歳以上の夫婦のみの世帯（世帯）      0\n",
       "3世代世帯（世帯）                      0\n",
       "dtype: int64"
      ]
     },
     "execution_count": 9,
     "metadata": {},
     "output_type": "execute_result"
    }
   ],
   "source": [
    "sikutyouson.isnull().sum()"
   ]
  },
  {
   "cell_type": "code",
   "execution_count": 10,
   "id": "d17b91dd-5cc5-456e-be17-e926cf6c4a62",
   "metadata": {},
   "outputs": [],
   "source": [
    "sikutyouson = sikutyouson.drop(['市などの別'], axis = 1)"
   ]
  },
  {
   "cell_type": "code",
   "execution_count": null,
   "id": "e5ca06d5-facb-4f6f-96d9-23c959e62d2f",
   "metadata": {},
   "outputs": [],
   "source": []
  },
  {
   "cell_type": "code",
   "execution_count": 11,
   "id": "b15e4c4e-049a-4bbe-ad38-96518c149a4a",
   "metadata": {},
   "outputs": [],
   "source": [
    "for colname in sikutyouson.columns:\n",
    "    if colname == '都道府県・市区町村名':\n",
    "        continue\n",
    "    sikutyouson[sikutyouson[colname] == '-'] = 0\n",
    "    sikutyouson[colname] = sikutyouson[colname].astype(float)"
   ]
  },
  {
   "cell_type": "code",
   "execution_count": 12,
   "id": "34b35413-746e-480e-b5a2-8d9425eadee5",
   "metadata": {},
   "outputs": [],
   "source": [
    "sikutyouson.to_csv('reference/population.csv', index=True, header=True)"
   ]
  }
 ],
 "metadata": {
  "kernelspec": {
   "display_name": "Python 3 (ipykernel)",
   "language": "python",
   "name": "python3"
  },
  "language_info": {
   "codemirror_mode": {
    "name": "ipython",
    "version": 3
   },
   "file_extension": ".py",
   "mimetype": "text/x-python",
   "name": "python",
   "nbconvert_exporter": "python",
   "pygments_lexer": "ipython3",
   "version": "3.9.7"
  }
 },
 "nbformat": 4,
 "nbformat_minor": 5
}
