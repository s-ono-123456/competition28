{
 "cells": [
  {
   "cell_type": "code",
   "execution_count": 6,
   "id": "fe416a2a-fa9c-4787-b03c-b62f1e058a11",
   "metadata": {},
   "outputs": [],
   "source": [
    "import pickle\n",
    "import pandas as pd\n",
    "import numpy as np\n",
    "\n",
    "from heamy.dataset import Dataset\n",
    "from sklearn.metrics import mean_absolute_error\n",
    "from sklearn.model_selection import KFold\n",
    "\n",
    "from catboost import Pool\n",
    "from catboost import CatBoostRegressor"
   ]
  },
  {
   "cell_type": "code",
   "execution_count": null,
   "id": "cd871ba1-5d91-46c8-b910-9951e2da85f2",
   "metadata": {},
   "outputs": [],
   "source": []
  },
  {
   "cell_type": "code",
   "execution_count": null,
   "id": "90719eec-53fc-46cc-8370-d836f425baff",
   "metadata": {},
   "outputs": [],
   "source": []
  },
  {
   "cell_type": "code",
   "execution_count": 3,
   "id": "b81926b1-1235-4b66-81ae-542664bb9aaf",
   "metadata": {},
   "outputs": [],
   "source": [
    "filename = 'dataset/stack.sav'\n",
    "dataset_stack = pickle.load(open(filename, 'rb'))"
   ]
  },
  {
   "cell_type": "code",
   "execution_count": 4,
   "id": "c16d3d65-8ee2-466c-a580-74667539ff81",
   "metadata": {},
   "outputs": [],
   "source": [
    "best_params_cat = {'l2_leaf_reg': 33.51917340457483, 'random_strength': 0.16779085114202497, 'subsample': 0.9828709713363581, 'objective': 'MAE', 'colsample_bylevel': 0.09, 'depth': 12, 'boosting_type': 'Plain', 'bootstrap_type': 'Bernoulli', 'eval_metric': 'MAE', 'learning_rate': 0.1, 'early_stopping_rounds': 50, 'iterations': 20000, 'verbose': 500, 'loss_function': 'MAE', 'random_seed': 42}\n"
   ]
  },
  {
   "cell_type": "code",
   "execution_count": 7,
   "id": "415694ed-0c3d-4982-9152-e7767e57a5e5",
   "metadata": {},
   "outputs": [
    {
     "name": "stdout",
     "output_type": "stream",
     "text": [
      "0:\tlearn: 0.2424987\ttest: 0.2431377\tbest: 0.2431377 (0)\ttotal: 523ms\tremaining: 2h 54m 15s\n",
      "Stopped by overfitting detector  (50 iterations wait)\n",
      "\n",
      "bestTest = 0.06779303872\n",
      "bestIteration = 279\n",
      "\n",
      "Shrink model to first 280 iterations.\n",
      "fold 0 MAE: 0.06779404141230155\n",
      "0:\tlearn: 0.2433564\ttest: 0.2439967\tbest: 0.2439967 (0)\ttotal: 406ms\tremaining: 2h 15m 29s\n",
      "Stopped by overfitting detector  (50 iterations wait)\n",
      "\n",
      "bestTest = 0.06728300569\n",
      "bestIteration = 343\n",
      "\n",
      "Shrink model to first 344 iterations.\n",
      "fold 1 MAE: 0.06728400767721814\n",
      "0:\tlearn: 0.2423649\ttest: 0.2429946\tbest: 0.2429946 (0)\ttotal: 366ms\tremaining: 2h 1m 55s\n",
      "Stopped by overfitting detector  (50 iterations wait)\n",
      "\n",
      "bestTest = 0.06742354255\n",
      "bestIteration = 359\n",
      "\n",
      "Shrink model to first 360 iterations.\n",
      "fold 2 MAE: 0.06742454449256575\n",
      "0:\tlearn: 0.2428823\ttest: 0.2445630\tbest: 0.2445630 (0)\ttotal: 391ms\tremaining: 2h 10m 17s\n",
      "Stopped by overfitting detector  (50 iterations wait)\n",
      "\n",
      "bestTest = 0.06829816772\n",
      "bestIteration = 362\n",
      "\n",
      "Shrink model to first 363 iterations.\n",
      "fold 3 MAE: 0.06829917060532391\n",
      "0:\tlearn: 0.2430736\ttest: 0.2421588\tbest: 0.2421588 (0)\ttotal: 400ms\tremaining: 2h 13m 13s\n",
      "Stopped by overfitting detector  (50 iterations wait)\n",
      "\n",
      "bestTest = 0.06728872776\n",
      "bestIteration = 388\n",
      "\n",
      "Shrink model to first 389 iterations.\n",
      "fold 4 MAE: 0.06728973000498974\n",
      "0:\tlearn: 0.2427730\ttest: 0.2435085\tbest: 0.2435085 (0)\ttotal: 427ms\tremaining: 2h 22m 13s\n",
      "Stopped by overfitting detector  (50 iterations wait)\n",
      "\n",
      "bestTest = 0.0682125171\n",
      "bestIteration = 338\n",
      "\n",
      "Shrink model to first 339 iterations.\n",
      "fold 5 MAE: 0.06821351952145038\n",
      "0:\tlearn: 0.2425792\ttest: 0.2435383\tbest: 0.2435383 (0)\ttotal: 396ms\tremaining: 2h 12m\n",
      "Stopped by overfitting detector  (50 iterations wait)\n",
      "\n",
      "bestTest = 0.06810268507\n",
      "bestIteration = 352\n",
      "\n",
      "Shrink model to first 353 iterations.\n",
      "fold 6 MAE: 0.06810368698282937\n",
      "0:\tlearn: 0.2429837\ttest: 0.2412131\tbest: 0.2412131 (0)\ttotal: 551ms\tremaining: 3h 3m 32s\n",
      "Stopped by overfitting detector  (50 iterations wait)\n",
      "\n",
      "bestTest = 0.06751104123\n",
      "bestIteration = 371\n",
      "\n",
      "Shrink model to first 372 iterations.\n",
      "fold 7 MAE: 0.06751204399847711\n",
      "0:\tlearn: 0.2425084\ttest: 0.2425712\tbest: 0.2425712 (0)\ttotal: 512ms\tremaining: 2h 50m 49s\n",
      "Stopped by overfitting detector  (50 iterations wait)\n",
      "\n",
      "bestTest = 0.06737366916\n",
      "bestIteration = 282\n",
      "\n",
      "Shrink model to first 283 iterations.\n",
      "fold 8 MAE: 0.06737467181928504\n",
      "0:\tlearn: 0.2431676\ttest: 0.2407179\tbest: 0.2407179 (0)\ttotal: 532ms\tremaining: 2h 57m 18s\n",
      "Stopped by overfitting detector  (50 iterations wait)\n",
      "\n",
      "bestTest = 0.06726735481\n",
      "bestIteration = 244\n",
      "\n",
      "Shrink model to first 245 iterations.\n",
      "fold 9 MAE: 0.06726835678023205\n",
      "CV score: 0.0676563773294673\n"
     ]
    }
   ],
   "source": [
    "FOLD = 10\n",
    "valid_scores_cat = []\n",
    "models_cat = []\n",
    "kf = KFold(n_splits=FOLD, shuffle=True, random_state=42)\n",
    "for fold, (train_indices, valid_indices) in enumerate(kf.split(dataset_stack.X_train.values)):\n",
    "    X_train, X_valid = dataset_stack.X_train.values[train_indices], dataset_stack.X_train.values[valid_indices]\n",
    "    y_train, y_valid = dataset_stack.y_train[train_indices], dataset_stack.y_train[valid_indices]\n",
    "    train_pool = Pool(X_train, y_train)\n",
    "    validate_pool = Pool(X_valid, y_valid)\n",
    "    \n",
    "    model = CatBoostRegressor(**best_params_cat)\n",
    "    model.fit(train_pool, eval_set=validate_pool)\n",
    "\n",
    "    y_valid_pred = model.predict(X_valid)\n",
    "    \n",
    "    score = mean_absolute_error(y_valid, y_valid_pred)\n",
    "    print(f'fold {fold} MAE: {score}')\n",
    "    valid_scores_cat.append(score)\n",
    "\n",
    "    models_cat.append(model)\n",
    "\n",
    "cv_score = np.mean(valid_scores_cat)\n",
    "print(f'CV score: {cv_score}')"
   ]
  },
  {
   "cell_type": "code",
   "execution_count": 87,
   "id": "93c9f9e4-bd95-47eb-a18b-2d3c398969b7",
   "metadata": {},
   "outputs": [],
   "source": [
    "submit_pred_cats = []\n",
    "for i in range(FOLD):\n",
    "    submit_pred = models_cat[i].predict(dataset_stack.X_test.values)\n",
    "    submit_pred_cats.append(submit_pred)\n",
    "\n",
    "for i in range(FOLD):\n",
    "    if i == 0:\n",
    "        submit_pred_cat = submit_pred_cats[i]\n",
    "    else:\n",
    "        submit_pred_cat = submit_pred_cat + submit_pred_cats[i]\n",
    "\n",
    "submit_pred_cat = submit_pred_cat/FOLD"
   ]
  },
  {
   "cell_type": "code",
   "execution_count": 88,
   "id": "32c07977-eab6-446f-9d88-7fb67cddbc43",
   "metadata": {},
   "outputs": [
    {
     "data": {
      "text/plain": [
       "array([7.27821623, 7.27267218, 7.27977657, ..., 6.89096343, 6.37370112,\n",
       "       7.59301751])"
      ]
     },
     "execution_count": 88,
     "metadata": {},
     "output_type": "execute_result"
    }
   ],
   "source": [
    "submit_pred_cat"
   ]
  },
  {
   "cell_type": "code",
   "execution_count": 89,
   "id": "a111e915-1017-4c72-9e88-a01b925a3a91",
   "metadata": {},
   "outputs": [],
   "source": [
    "import decimal\n",
    "# 有効数字2桁指定\n",
    "# 切り上げ\n",
    "decimal.getcontext().prec = 2\n",
    "# ROUND_05UP, ROUND_DOWN, ROUND_UP\n",
    "decimal.getcontext().rounding = decimal.ROUND_UP\n",
    "# c = +decimal.Decimal(1518000)"
   ]
  },
  {
   "cell_type": "code",
   "execution_count": 53,
   "id": "b0292a4d-b7e6-4850-a2b8-9e6dd7f93db6",
   "metadata": {},
   "outputs": [],
   "source": [
    "# c"
   ]
  },
  {
   "cell_type": "code",
   "execution_count": 90,
   "id": "2dd4e791-e787-4b49-8d86-049acd68d3d3",
   "metadata": {},
   "outputs": [],
   "source": [
    "floats = []\n",
    "for val in np.power(10, submit_pred_cat):\n",
    "    floats.append(float(+decimal.Decimal(val)))"
   ]
  },
  {
   "cell_type": "code",
   "execution_count": 91,
   "id": "7ad2ad05-4790-42fe-830e-dca9f4f39ce4",
   "metadata": {},
   "outputs": [
    {
     "data": {
      "text/plain": [
       "array([7.2787536 , 7.2787536 , 7.30103   , ..., 6.8920946 , 6.38021124,\n",
       "       7.60205999])"
      ]
     },
     "execution_count": 91,
     "metadata": {},
     "output_type": "execute_result"
    }
   ],
   "source": [
    "np.log10(np.array(floats))"
   ]
  },
  {
   "cell_type": "code",
   "execution_count": 76,
   "id": "58b2d946-f7ef-4e4d-bd45-433f4d3e97e8",
   "metadata": {},
   "outputs": [
    {
     "data": {
      "text/plain": [
       "array([7.25527251, 7.25527251, 7.2787536 , ..., 6.88649073, 6.36172784,\n",
       "       7.59106461])"
      ]
     },
     "execution_count": 76,
     "metadata": {},
     "output_type": "execute_result"
    }
   ],
   "source": [
    "np.log10(np.array(floats))"
   ]
  },
  {
   "cell_type": "code",
   "execution_count": 92,
   "id": "309aa1cd-7b1c-4d19-b2fc-38f67d4dba05",
   "metadata": {},
   "outputs": [],
   "source": [
    "submit_pred_cat = np.log10(np.array(floats))"
   ]
  },
  {
   "cell_type": "code",
   "execution_count": null,
   "id": "d7c62b59-e769-4091-af3f-0b4e28adf63d",
   "metadata": {},
   "outputs": [],
   "source": [
    "# submit_pred_cat = np.log10(np.ceil(np.power(10, submit_pred_cat)/100000)*100000)"
   ]
  },
  {
   "cell_type": "code",
   "execution_count": 93,
   "id": "70383b65-0470-4643-bff8-8874cdea6e46",
   "metadata": {},
   "outputs": [],
   "source": [
    "ID = 'ID'\n",
    "TARGET = '取引価格（総額）_log'\n",
    "X_submit_df = dataset_stack.X_test\n",
    "submit_pred_cat_df = pd.DataFrame(submit_pred_cat, columns=[TARGET])\n",
    "submit_pred_cat_df[ID] = X_submit_df[ID]\n",
    "submit_pred_cat_df = submit_pred_cat_df[[ID, TARGET]].astype({ID:int})\n",
    "# submit_pred_cat_df.to_csv('./output/submission_cat.csv', index = False)"
   ]
  },
  {
   "cell_type": "code",
   "execution_count": 94,
   "id": "c2f058a4-e363-46dc-90df-0ffc03714bef",
   "metadata": {},
   "outputs": [],
   "source": [
    "sub_df = pd.read_csv('data/sample_submission.csv')\n",
    "sub_df = pd.merge(sub_df[[ID]], submit_pred_cat_df[[ID, TARGET]], on=ID)\n",
    "sub_df.to_csv('output/submission_cat01_10.csv', index=False)"
   ]
  }
 ],
 "metadata": {
  "kernelspec": {
   "display_name": "Python 3 (ipykernel)",
   "language": "python",
   "name": "python3"
  },
  "language_info": {
   "codemirror_mode": {
    "name": "ipython",
    "version": 3
   },
   "file_extension": ".py",
   "mimetype": "text/x-python",
   "name": "python",
   "nbconvert_exporter": "python",
   "pygments_lexer": "ipython3",
   "version": "3.9.7"
  }
 },
 "nbformat": 4,
 "nbformat_minor": 5
}
