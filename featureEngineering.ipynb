{
 "cells": [
  {
   "cell_type": "code",
   "execution_count": null,
   "id": "90e41758-3697-44f0-8728-88422c2e4cd2",
   "metadata": {},
   "outputs": [],
   "source": [
    "!pip install git+https://github.com/pfnet-research/xfeat.git > /dev/null\n",
    "!pip install catboost > /dev/null"
   ]
  },
  {
   "cell_type": "code",
   "execution_count": null,
   "id": "f7a070a4-263c-489c-8a5c-b5da44f5a6bc",
   "metadata": {},
   "outputs": [],
   "source": [
    "import pandas as pd\n",
    "import numpy as np\n",
    "import xfeat\n",
    "from sklearn.model_selection import KFold\n",
    "from functools import partial\n",
    "import seaborn as sns\n",
    "import optuna\n",
    "import pickle\n",
    "from xfeat import SelectCategorical, LabelEncoder, Pipeline, ConcatCombination, SelectNumerical, ArithmeticCombinations, TargetEncoder, aggregation, GBDTFeatureSelector, GBDTFeatureExplorer, CountEncoder"
   ]
  },
  {
   "cell_type": "code",
   "execution_count": null,
   "id": "b8077820-e558-41e5-8172-73345ecd7ec4",
   "metadata": {},
   "outputs": [],
   "source": [
    "df = pd.read_csv('fixed/rawdata.csv')\n",
    "display(df.head(2))\n",
    "print(df.columns)\n",
    "category_cols = SelectCategorical().fit_transform(df).columns\n",
    "category_cols"
   ]
  },
  {
   "cell_type": "code",
   "execution_count": null,
   "id": "1cd1ab13-81a9-4e58-9a9c-495508ff2017",
   "metadata": {},
   "outputs": [],
   "source": [
    "# 面積関連の特徴量を作成する\n",
    "df['面積log'] = pd.DataFrame(np.log10(df['面積（㎡）']))\n",
    "df['価格/面積log'] = 0\n",
    "df.loc[df['学習データ'] == True,'価格/面積log'] = df['取引価格（総額）_log'] - df['面積log']"
   ]
  },
  {
   "cell_type": "code",
   "execution_count": null,
   "id": "babe1685-b038-431e-a2f8-6e8f5db91460",
   "metadata": {},
   "outputs": [],
   "source": [
    "# TargetEncoderを利用\n",
    "train = df[df['学習データ']==True]\n",
    "test = df[df['学習データ']==False]\n",
    "fold = KFold(n_splits=2, shuffle=True, random_state=42)\n",
    "te = TargetEncoder(fold=fold, target_col='取引価格（総額）_log', input_cols=['都道府県名', '市区町村名', '地区名', '最寄駅：名称', '間取り', '建物の構造', '用途', '今後の利用目的',\n",
    "       '都市計画', '改装', '取引の事情等'])\n",
    "train = te.fit_transform(train)\n",
    "test = te.transform(test)\n",
    "df = pd.concat([train, test])\n",
    "del train\n",
    "del test"
   ]
  },
  {
   "cell_type": "code",
   "execution_count": null,
   "id": "9fe1becd-21df-405c-9e47-7538378ffd08",
   "metadata": {},
   "outputs": [],
   "source": [
    "# CountEncoder\n",
    "ce = CountEncoder(output_suffix=\"_ce\",input_cols=['都道府県名', '市区町村名', '地区名', '最寄駅：名称', '間取り', '建物の構造', '用途', '今後の利用目的',\n",
    "       '都市計画', '改装', '取引の事情等'])\n",
    "df = ce.fit_transform(df)\n",
    "df.sample(2)"
   ]
  },
  {
   "cell_type": "code",
   "execution_count": null,
   "id": "f3f8ceb2-65cf-4a1b-9b95-1bccffb41d66",
   "metadata": {},
   "outputs": [],
   "source": [
    "# 人口密度データのマージ\n",
    "# 人口密度はあまり役に立たなさそう。\n",
    "# population = pd.read_csv('reference/population.csv')\n",
    "# population = population.drop(['都道府県・市区町村名'], axis=1)\n",
    "# population = population[['市区町村コード','総数（人）', '面積（参考）（km2）', '人口密度（人/km2）', '平均年齢（歳）', '年齢中位数（歳）', '人口性比（％）']]\n",
    "# display(population.head(2))\n",
    "# df = pd.merge(df, population, left_on=['市区町村コード'], right_on=['市区町村コード'], how='left')\n",
    "# del population"
   ]
  },
  {
   "cell_type": "code",
   "execution_count": null,
   "id": "34b0cdfa-f2b0-45e9-83c2-974ea941cfa1",
   "metadata": {},
   "outputs": [],
   "source": [
    "# 乗降客数データのマージ\n",
    "passengers = pd.read_csv('reference/passengers.csv')\n",
    "# 表記ゆれの修正（UNICODE正規化、(JR)等を除去、ヶ→ケに置換）\n",
    "df['最寄駅：名称'] = df['最寄駅：名称'].str.normalize(\"NFKC\")\n",
    "passengers['駅名'] = passengers['駅名'].str.normalize(\"NFKC\")\n",
    "df['最寄駅：名称'] = df['最寄駅：名称'].str.replace('(', '_', regex=False)\n",
    "df['最寄駅：名称'] = df['最寄駅：名称'].str.replace(')', '', regex=False)\n",
    "\n",
    "df['最寄駅：名称'] = df['最寄駅：名称'].str.replace('ヶ', 'ケ')\n",
    "passengers['駅名'] = passengers['駅名'].str.replace('ヶ', 'ケ')\n",
    "df['最寄駅：名称'] = df['最寄駅：名称'].str.replace('なんば', '難波')\n",
    "df['最寄駅：名称'] = df['最寄駅：名称'].str.replace('なかもず', '中百舌鳥')\n",
    "df['最寄駅：名称'] = df['最寄駅：名称'].str.replace('なかもず', '中百舌鳥')\n",
    "df['最寄駅：名称'] = df['最寄駅：名称'].str.replace('本町4丁目', '本町四丁目')\n",
    "df['最寄駅：名称'] = df['最寄駅：名称'].str.replace('本町6丁目', '本町六丁目')\n",
    "df['最寄駅：名称'] = df['最寄駅：名称'].str.replace('本町3丁目', '本町三丁目')\n",
    "df['最寄駅：名称'] = df['最寄駅：名称'].str.replace('本町5丁目', '本町五丁目')\n",
    "df['最寄駅：名称'] = df['最寄駅：名称'].str.replace('萱町6丁目', '萱町六丁目')\n",
    "df['最寄駅：名称'] = df['最寄駅：名称'].str.replace('平和通1丁目', '平和通一丁目')\n",
    "df['最寄駅：名称'] = df['最寄駅：名称'].str.replace('下祇園', '下祗園')\n",
    "passengers['駅名'] = passengers['駅名'].str.replace('押上_スカイツリー前', '押上', regex=False)\n",
    "passengers['駅名'] = passengers['駅名'].str.replace('西武園ゆうえんち', '多摩湖', regex=False)\n",
    "passengers['駅名'] = passengers['駅名'].str.replace('遊園地西', '西武園ゆうえんち', regex=False)\n",
    "passengers['駅名'] = passengers['駅名'].str.replace('蓮町(馬場記念公園前)', '蓮町', regex=False)\n",
    "passengers['駅名'] = passengers['駅名'].str.replace('本諫早(諫早市役所前)', '本諫早', regex=False)\n",
    "passengers['駅名'] = passengers['駅名'].str.replace('押上(スカイツリー前)', '押上', regex=False)\n",
    "df['最寄駅：名称'] = df['最寄駅：名称'].str.replace('ジヤトコ前_ジヤトコ1地区前', 'ジヤトコ前(ジヤトコ1地区前)', regex=False)\n",
    "df['最寄駅：名称'] = df['最寄駅：名称'].str.replace('西鉄福岡_天神', '西鉄福岡(天神)', regex=False)\n",
    "\n",
    "df['最寄駅：名称'] = df['最寄駅：名称'].str.replace('大山_東京', '大山')\n",
    "df['最寄駅：名称'] = df['最寄駅：名称'].str.replace('トヨタモビリティ富山 Gスクエア五福前', '富山トヨペット本社前(五福末広町)')\n",
    "\n",
    "df['最寄駅：名称'] = df['最寄駅：名称'].str.replace('平岸_札幌市営', '平岸')\n",
    "df['最寄駅：名称'] = df['最寄駅：名称'].str.replace('落合_東京', '落合')\n",
    "df['最寄駅：名称'] = df['最寄駅：名称'].str.replace('松原_東京', '松原')\n",
    "df['最寄駅：名称'] = df['最寄駅：名称'].str.replace('中川_神奈川', '中川')\n",
    "df['最寄駅：名称'] = df['最寄駅：名称'].str.replace('生田_神奈川', '生田')\n",
    "df['最寄駅：名称'] = df['最寄駅：名称'].str.replace('北山田_神奈川', '北山田')\n",
    "df['最寄駅：名称'] = df['最寄駅：名称'].str.replace('番田_神奈川', '番田')\n",
    "df['最寄駅：名称'] = df['最寄駅：名称'].str.replace('根岸_神奈川', '根岸')\n",
    "df['最寄駅：名称'] = df['最寄駅：名称'].str.replace('杉田_神奈川', '杉田')\n",
    "df['最寄駅：名称'] = df['最寄駅：名称'].str.replace('江田_神奈川', '江田')\n",
    "df['最寄駅：名称'] = df['最寄駅：名称'].str.replace('月岡_新潟', '月岡')\n",
    "df['最寄駅：名称'] = df['最寄駅：名称'].str.replace('内海_愛知', '内海')\n",
    "df['最寄駅：名称'] = df['最寄駅：名称'].str.replace('黄金_愛知', '黄金')\n",
    "df['最寄駅：名称'] = df['最寄駅：名称'].str.replace('羽黒_愛知', '羽黒')\n",
    "df['最寄駅：名称'] = df['最寄駅：名称'].str.replace('瀬田_滋賀', '瀬田')\n",
    "df['最寄駅：名称'] = df['最寄駅：名称'].str.replace('醍醐_京都', '醍醐')\n",
    "df['最寄駅：名称'] = df['最寄駅：名称'].str.replace('扇町_大阪', '扇町')\n",
    "df['最寄駅：名称'] = df['最寄駅：名称'].str.replace('玉川_大阪', '玉川')\n",
    "df['最寄駅：名称'] = df['最寄駅：名称'].str.replace('平林_大阪', '平林')\n",
    "df['最寄駅：名称'] = df['最寄駅：名称'].str.replace('南方_大阪', '南方')\n",
    "df['最寄駅：名称'] = df['最寄駅：名称'].str.replace('今川_大阪', '今川')\n",
    "df['最寄駅：名称'] = df['最寄駅：名称'].str.replace('滝谷_大阪', '滝谷')\n",
    "df['最寄駅：名称'] = df['最寄駅：名称'].str.replace('庄内_大阪', '庄内')\n",
    "df['最寄駅：名称'] = df['最寄駅：名称'].str.replace('額田_大阪', '額田')\n",
    "df['最寄駅：名称'] = df['最寄駅：名称'].str.replace('上牧_大阪', '上牧')\n",
    "df['最寄駅：名称'] = df['最寄駅：名称'].str.replace('船尾_大阪', '船尾')\n",
    "df['最寄駅：名称'] = df['最寄駅：名称'].str.replace('妙法寺_兵庫', '妙法寺')\n",
    "df['最寄駅：名称'] = df['最寄駅：名称'].str.replace('岩屋_兵庫', '岩屋')\n",
    "df['最寄駅：名称'] = df['最寄駅：名称'].str.replace('藤崎_福岡', '藤崎')\n",
    "df['最寄駅：名称'] = df['最寄駅：名称'].str.replace('祇園_福岡', '祇園')\n",
    "df['最寄駅：名称'] = df['最寄駅：名称'].str.replace('北方_福岡', '北方')\n",
    "df['最寄駅：名称'] = df['最寄駅：名称'].str.replace('西山_福岡', '西山')\n",
    "df['最寄駅：名称'] = df['最寄駅：名称'].str.replace('浦田_福岡', '浦田')\n",
    "df['最寄駅：名称'] = df['最寄駅：名称'].str.replace('加納_宮崎', '加納')\n",
    "\n",
    "df['最寄駅：名称'] = df['最寄駅：名称'].str.replace('旭ケ丘_宮城', '旭ケ丘')\n",
    "df['最寄駅：名称'] = df['最寄駅：名称'].str.replace('ひばりケ丘_東京', 'ひばりケ丘')\n",
    "df['最寄駅：名称'] = df['最寄駅：名称'].str.replace('霞ケ関_埼玉', '霞ケ関')\n",
    "df['最寄駅：名称'] = df['最寄駅：名称'].str.replace('愛宕_千葉', '愛宕')\n",
    "df['最寄駅：名称'] = df['最寄駅：名称'].str.replace('入谷_神奈川', '入谷')\n",
    "df['最寄駅：名称'] = df['最寄駅：名称'].str.replace('蓮町_馬場記念公園前', '蓮町')\n",
    "df['最寄駅：名称'] = df['最寄駅：名称'].str.replace('桐原_長野', '桐原')\n",
    "df['最寄駅：名称'] = df['最寄駅：名称'].str.replace('柳津_岐阜', '柳津')\n",
    "df['最寄駅：名称'] = df['最寄駅：名称'].str.replace('自由ケ丘_愛知', '自由ケ丘')\n",
    "df['最寄駅：名称'] = df['最寄駅：名称'].str.replace('五条_京都市営', '五条')\n",
    "df['最寄駅：名称'] = df['最寄駅：名称'].str.replace('とうきょうスカイツリー', '押上')\n",
    "\n",
    "df = pd.merge(df, passengers, left_on=['最寄駅：名称'], right_on=['駅名'], how='left').drop(['駅名'],axis=1)\n",
    "\n",
    "# 多摩湖駅は0で設定\n",
    "# 伏石駅は3000程度\n",
    "df.loc[df['最寄駅：名称'] == '多摩湖', '乗降客数2019'] = 0\n",
    "df.loc[df['最寄駅：名称'] == '伏石', '乗降客数2019'] = 3000\n",
    "\n",
    "display(df.head(2))\n",
    "del passengers"
   ]
  },
  {
   "cell_type": "code",
   "execution_count": null,
   "id": "5984b611-afe2-4e4d-8e14-98005eb710f3",
   "metadata": {},
   "outputs": [],
   "source": [
    "# 公示地価データのマージ\n",
    "correction = pd.read_csv('reference/correction.csv')\n",
    "# display(correction.head(2))\n",
    "df = pd.merge(df, correction, left_on=['市区町村コード', '取引時点int'], right_on=['所在地コード', '年度'], how='inner').drop(['所在地コード','年度'],axis=1)\n",
    "display(df.head(2))\n",
    "del correction"
   ]
  },
  {
   "cell_type": "code",
   "execution_count": null,
   "id": "274b0c76-04ee-4a9c-83dd-4330b37b8641",
   "metadata": {},
   "outputs": [],
   "source": [
    "# 特徴量について。\n",
    "# ID、市区町村コード：削除？\n",
    "# '都道府県名', '市区町村名', '地区名', '最寄駅：名称'\n",
    "# '最寄駅：距離（分）', '面積（㎡）', '建築年', '取引時点築年数', '平均地価log'：そのまま\n",
    "# '間取り', '建物の構造', '用途', '今後の利用目的', '取引の事情等' : 要素の抜き出し\n",
    "# '都市計画', '改装': カテゴリデータとして利用\n",
    "# '建ぺい率（％）', '容積率（％）', '面積（㎡）' : かけ合わせデータを作成\n",
    "# '取引時点', '取引時点int': どちらかを落とす。\n",
    "# '取引価格（総額）_log': 目的変数\n",
    "# '学習データ': 学習データを示すフラグ"
   ]
  },
  {
   "cell_type": "code",
   "execution_count": null,
   "id": "9132c67f-d8ae-48c9-9cea-c3a839c25936",
   "metadata": {},
   "outputs": [],
   "source": [
    "# '間取り', '建物の構造', '用途', '今後の利用目的', '取引の事情等' : 要素の抜き出しを行う。\n",
    "colname = '間取り'\n",
    "\n",
    "madori = pd.DataFrame(index=[], columns=['間取り', '部屋の数', 'リビング', 'ダイニング', 'キッチン', 'サービス', 'オープンフロア', 'スタジオ', 'メゾネット'])\n",
    "madori = madori.astype({'部屋の数':float, 'リビング':float, 'ダイニング':float,\n",
    "                            'キッチン':float, 'サービス':float, 'オープンフロア':float ,\n",
    "                            'スタジオ':float, 'メゾネット':float})\n",
    "for room in df[colname].unique():\n",
    "    if room in ['オープンフロア', 'スタジオ', 'メゾネット']:\n",
    "        room_num = 1\n",
    "    else:\n",
    "        room_num = int(room[:1])\n",
    "    tmp = pd.DataFrame(index = [1],\n",
    "                   data = [{'間取り':room, '部屋の数':int(room_num), 'リビング':room.count('Ｌ'), 'ダイニング':room.count('Ｄ'),\n",
    "                            'キッチン':room.count('Ｋ'), 'サービス':room.count('Ｓ'), 'オープンフロア':room.count('オープンフロア') ,\n",
    "                            'スタジオ':room.count('スタジオ'), 'メゾネット':room.count('メゾネット')}])\n",
    "    madori = pd.concat([madori, tmp])\n",
    "df = pd.merge(df, madori, left_on=['間取り'], right_on=['間取り'], how='left')\n",
    "display(df.head(2))\n",
    "del madori"
   ]
  },
  {
   "cell_type": "code",
   "execution_count": null,
   "id": "93ac47b5-b938-407e-a09c-f102c6dc7350",
   "metadata": {},
   "outputs": [],
   "source": [
    "colname = '建物の構造'\n",
    "df[colname].unique()\n",
    "kouzo = pd.DataFrame(index=[], columns=['建物の構造', 'ＲＣ', 'ＳＲＣ', '鉄骨造', '軽量鉄骨造', '木造', 'ブロック造'])\n",
    "kouzo = kouzo.astype({'ＲＣ':float, 'ＳＲＣ':float, '鉄骨造':float,\n",
    "                            '軽量鉄骨造':float, '木造':float, 'ブロック造':float})\n",
    "\n",
    "for value in df[colname].unique():\n",
    "    if value == 'ＳＲＣ、ＲＣ、鉄骨造':\n",
    "        tmp2 = pd.DataFrame(index = [1], data = [{'建物の構造':value, 'ＲＣ':1, 'ＳＲＣ':1, '鉄骨造':1, '軽量鉄骨造':0, '木造':0, 'ブロック造':0}])\n",
    "    elif value == 'ＳＲＣ、鉄骨造':\n",
    "        tmp2 = pd.DataFrame(index = [1], data = [{'建物の構造':value, 'ＲＣ':0, 'ＳＲＣ':1, '鉄骨造':1, '軽量鉄骨造':0, '木造':0, 'ブロック造':0}])\n",
    "    elif value == 'ＲＣ、木造':\n",
    "        tmp2 = pd.DataFrame(index = [1], data = [{'建物の構造':value, 'ＲＣ':1, 'ＳＲＣ':0, '鉄骨造':1, '軽量鉄骨造':0, '木造':1, 'ブロック造':0}])\n",
    "    elif value == '軽量鉄骨造':\n",
    "        tmp2 = pd.DataFrame(index = [1], data = [{'建物の構造':value, 'ＲＣ':0, 'ＳＲＣ':0, '鉄骨造':0, '軽量鉄骨造':1, '木造':0, 'ブロック造':0}])\n",
    "    elif value == 'ＲＣ、ブロック造':\n",
    "        tmp2 = pd.DataFrame(index = [1], data = [{'建物の構造':value, 'ＲＣ':1, 'ＳＲＣ':0, '鉄骨造':0, '軽量鉄骨造':0, '木造':0, 'ブロック造':1}])\n",
    "    elif value == 'ＲＣ、鉄骨造':\n",
    "        tmp2 = pd.DataFrame(index = [1], data = [{'建物の構造':value, 'ＲＣ':1, 'ＳＲＣ':0, '鉄骨造':1, '軽量鉄骨造':0, '木造':0, 'ブロック造':0}])\n",
    "    elif value == '木造':\n",
    "        tmp2 = pd.DataFrame(index = [1], data = [{'建物の構造':value, 'ＲＣ':0, 'ＳＲＣ':0, '鉄骨造':0, '軽量鉄骨造':0, '木造':1, 'ブロック造':0}])\n",
    "    elif value == 'ブロック造':\n",
    "        tmp2 = pd.DataFrame(index = [1], data = [{'建物の構造':value, 'ＲＣ':0, 'ＳＲＣ':0, '鉄骨造':0, '軽量鉄骨造':0, '木造':0, 'ブロック造':1}])\n",
    "    elif value == 'ＳＲＣ、ＲＣ':\n",
    "        tmp2 = pd.DataFrame(index = [1], data = [{'建物の構造':value, 'ＲＣ':1, 'ＳＲＣ':1, '鉄骨造':0, '軽量鉄骨造':0, '木造':0, 'ブロック造':0}])\n",
    "    elif value == '鉄骨造':\n",
    "        tmp2 = pd.DataFrame(index = [1], data = [{'建物の構造':value, 'ＲＣ':0, 'ＳＲＣ':0, '鉄骨造':1, '軽量鉄骨造':0, '木造':0, 'ブロック造':0}])\n",
    "    elif value == 'ＳＲＣ':\n",
    "        tmp2 = pd.DataFrame(index = [1], data = [{'建物の構造':value, 'ＲＣ':0, 'ＳＲＣ':1, '鉄骨造':0, '軽量鉄骨造':0, '木造':0, 'ブロック造':0}])\n",
    "    elif value == 'ＲＣ':\n",
    "        tmp2 = pd.DataFrame(index = [1], data = [{'建物の構造':value, 'ＲＣ':1, 'ＳＲＣ':0, '鉄骨造':0, '軽量鉄骨造':0, '木造':0, 'ブロック造':0}])\n",
    "        \n",
    "    kouzo = pd.concat([kouzo, tmp2])\n",
    "df = pd.merge(df, kouzo, left_on=['建物の構造'], right_on=['建物の構造'], how='left')\n",
    "df.head(2)\n",
    "\n",
    "display(df.head(2))\n",
    "del kouzo"
   ]
  },
  {
   "cell_type": "code",
   "execution_count": null,
   "id": "e6da1ccb-eb92-4f65-8a83-d1d15bccdaea",
   "metadata": {},
   "outputs": [],
   "source": [
    "colname = '用途'\n",
    "df[colname].unique()\n",
    "youto = pd.DataFrame(index=[], columns=['用途', '住宅', '店舗', '事務所', '駐車場', '倉庫', '作業場', '工場', 'その他', '不明'])\n",
    "youto = youto.astype({'住宅':float, '店舗':float, '事務所':float, '駐車場':float, '倉庫':float, '作業場':float, '工場':float, 'その他':float, '不明':float})\n",
    "for value in df[colname].unique():\n",
    "    tmp3 = pd.DataFrame(index = [1], data = [{'用途':value, '住宅':value.count('住宅'), '店舗':value.count('店舗'), \n",
    "                                              '事務所':value.count('事務所'), '駐車場':value.count('駐車場'), '倉庫':value.count('倉庫'),\n",
    "                                              '作業場':value.count('作業場'), '工場':value.count('工場'), 'その他':value.count('その他'), '不明':value.count('不明')}])\n",
    "\n",
    "    youto = pd.concat([youto, tmp3])\n",
    "df = pd.merge(df, youto, left_on=['用途'], right_on=['用途'], how='left')\n",
    "display(df.head(2))\n",
    "del youto"
   ]
  },
  {
   "cell_type": "code",
   "execution_count": null,
   "id": "2fd186b3-19f4-4186-aa4f-0b4066ad1631",
   "metadata": {},
   "outputs": [],
   "source": [
    "# そのままラベル化する。\n",
    "colname = '取引の事情等'\n",
    "torihiki = pd.DataFrame(index=[], columns=['取引の事情等', '取引の事情なし', '調停・競売等', '関係者間取引', 'その他事情有り', '瑕疵有りの可能性', '他の権利・負担付き'])\n",
    "torihiki = torihiki.astype({'取引の事情なし':float, '調停・競売等':float, '関係者間取引':float, 'その他事情有り':float, '瑕疵有りの可能性':float, '他の権利・負担付き':float})\n",
    "for value in df[colname].unique():\n",
    "    tmp4 = pd.DataFrame(index = [1], data = [{'取引の事情等':value, '取引の事情なし':value.count('なし'), '調停・競売等':value.count('調停・競売等'),\n",
    "                                              '関係者間取引':value.count('関係者間取引'), 'その他事情有り':value.count('その他事情有り'),\n",
    "                                              '瑕疵有りの可能性':value.count('瑕疵有りの可能性'), '他の権利・負担付き':value.count('他の権利・負担付き')}])\n",
    "    torihiki = pd.concat([torihiki, tmp4])\n",
    "df = pd.merge(df, torihiki, left_on=['取引の事情等'], right_on=['取引の事情等'], how='left')\n",
    "display(df.head(2))\n",
    "del torihiki"
   ]
  },
  {
   "cell_type": "code",
   "execution_count": null,
   "id": "2adc7d3b-1eee-4b7b-ab76-5dd3df0e4bde",
   "metadata": {},
   "outputs": [],
   "source": [
    "# '建ぺい率（％）', '容積率（％）' , '面積（㎡）': かけ合わせデータを作成\n",
    "df['建ぺい率×容積率'] = df['建ぺい率（％）'] * df['容積率（％）']\n",
    "df['容積率/建ぺい率'] = df['容積率（％）'] / df['建ぺい率（％）']\n",
    "df['建ぺい率×面積'] = df['建ぺい率（％）'] * df['面積（㎡）']\n",
    "df['容積率×面積'] = df['容積率（％）'] * df['面積（㎡）']"
   ]
  },
  {
   "cell_type": "code",
   "execution_count": null,
   "id": "713ae7f4-36e3-43df-a774-15d4333a15e7",
   "metadata": {},
   "outputs": [],
   "source": [
    "# LabelEncoderと集積特徴量を作成する前にDataFrameを保存\n",
    "filename = 'fixed/df.sav'\n",
    "pickle.dump(df, open(filename, 'wb'))"
   ]
  },
  {
   "cell_type": "code",
   "execution_count": null,
   "id": "ead64d28-cca7-46df-8788-a8bbc68c500b",
   "metadata": {},
   "outputs": [],
   "source": [
    "filename = 'fixed/df.sav'\n",
    "df = pickle.load(open(filename, 'rb'))"
   ]
  },
  {
   "cell_type": "code",
   "execution_count": null,
   "id": "1fec3e1d-9829-4caa-86ea-306d5f4390f6",
   "metadata": {},
   "outputs": [],
   "source": [
    "encoder = Pipeline([\n",
    "    SelectCategorical(),\n",
    "    LabelEncoder(output_suffix=\"\"),\n",
    "])\n",
    "encoded_df = encoder.fit_transform(df)\n",
    "# encoded_df.head(2)\n",
    "for encode in encoded_df.columns:\n",
    "    df[encode] = encoded_df[encode]"
   ]
  },
  {
   "cell_type": "code",
   "execution_count": null,
   "id": "42ef7322-d208-49d2-b2b3-d7dfd6b8d401",
   "metadata": {},
   "outputs": [],
   "source": [
    "# 集積特徴量\n",
    "# 都道府県ごとに最寄り駅の距離の平均、分散、最大値、最小値、最大-最小を算出する。\n",
    "def max_min(x):\n",
    "    return max(x)-min(x)\n",
    "columns = ['都道府県名', '市区町村名', '地区名', '最寄駅：名称', '建物の構造', '用途', '今後の利用目的', '都市計画', '改装', '取引の事情等']\n",
    "agg_dfs = []\n",
    "for column in columns:\n",
    "    agg_df,agg_cols = xfeat.aggregation(\n",
    "        df,\n",
    "        group_key=column,\n",
    "        group_values=[\n",
    "            '最寄駅：距離（分）', '建ぺい率（％）', '容積率（％）' , \n",
    "            '面積（㎡）', '建築年', '取引時点', '取引時点築年数', '面積log', '乗降客数2019'\n",
    "        ],\n",
    "        agg_methods=['count', 'min', 'max', 'mean', 'std', max_min],\n",
    "    )\n",
    "    agg_dfs.append(agg_df[agg_cols])\n",
    "df = pd.concat([df]+agg_dfs, axis=1)"
   ]
  },
  {
   "cell_type": "code",
   "execution_count": null,
   "id": "9caae28f-213d-4dc0-a14d-5e8aebd1ac73",
   "metadata": {},
   "outputs": [],
   "source": [
    "del agg_dfs\n",
    "df.info()"
   ]
  },
  {
   "cell_type": "code",
   "execution_count": null,
   "id": "83080a1b-f168-481d-b0c3-8efee89d3e72",
   "metadata": {},
   "outputs": [],
   "source": [
    "colnames = [\n",
    "    'agg_std_最寄駅：距離（分）_grpby_市区町村名',\n",
    "    'agg_std_建ぺい率（％）_grpby_市区町村名',\n",
    "    'agg_std_容積率（％）_grpby_市区町村名',\n",
    "    'agg_std_面積（㎡）_grpby_市区町村名',\n",
    "    'agg_std_建築年_grpby_市区町村名',\n",
    "    'agg_std_取引時点_grpby_市区町村名',\n",
    "    'agg_std_取引時点築年数_grpby_市区町村名',\n",
    "    'agg_std_面積log_grpby_市区町村名',\n",
    "    'agg_std_乗降客数2019_grpby_市区町村名',\n",
    "    'agg_std_最寄駅：距離（分）_grpby_地区名',\n",
    "    'agg_std_建ぺい率（％）_grpby_地区名',\n",
    "    'agg_std_容積率（％）_grpby_地区名',\n",
    "    'agg_std_面積（㎡）_grpby_地区名',\n",
    "    'agg_std_建築年_grpby_地区名',\n",
    "    'agg_std_取引時点_grpby_地区名',\n",
    "    'agg_std_取引時点築年数_grpby_地区名',\n",
    "    'agg_std_面積log_grpby_地区名',\n",
    "    'agg_std_乗降客数2019_grpby_地区名',\n",
    "    'agg_std_最寄駅：距離（分）_grpby_最寄駅：名称',\n",
    "    'agg_std_建ぺい率（％）_grpby_最寄駅：名称',\n",
    "    'agg_std_容積率（％）_grpby_最寄駅：名称',\n",
    "    'agg_std_面積（㎡）_grpby_最寄駅：名称',\n",
    "    'agg_std_建築年_grpby_最寄駅：名称',\n",
    "    'agg_std_取引時点_grpby_最寄駅：名称',\n",
    "    'agg_std_取引時点築年数_grpby_最寄駅：名称',\n",
    "    'agg_std_面積log_grpby_最寄駅：名称',\n",
    "    'agg_std_乗降客数2019_grpby_最寄駅：名称',\n",
    "    'agg_std_最寄駅：距離（分）_grpby_建物の構造',\n",
    "    'agg_std_建ぺい率（％）_grpby_建物の構造',\n",
    "    'agg_std_容積率（％）_grpby_建物の構造',\n",
    "    'agg_std_面積（㎡）_grpby_建物の構造',\n",
    "    'agg_std_建築年_grpby_建物の構造',\n",
    "    'agg_std_取引時点_grpby_建物の構造',\n",
    "    'agg_std_取引時点築年数_grpby_建物の構造',\n",
    "    'agg_std_面積log_grpby_建物の構造',\n",
    "    'agg_std_乗降客数2019_grpby_建物の構造',\n",
    "    'agg_std_最寄駅：距離（分）_grpby_用途',\n",
    "    'agg_std_建ぺい率（％）_grpby_用途',\n",
    "    'agg_std_容積率（％）_grpby_用途',\n",
    "    'agg_std_面積（㎡）_grpby_用途',\n",
    "    'agg_std_建築年_grpby_用途',\n",
    "    'agg_std_取引時点_grpby_用途',\n",
    "    'agg_std_取引時点築年数_grpby_用途',\n",
    "    'agg_std_面積log_grpby_用途',\n",
    "    'agg_std_乗降客数2019_grpby_用途',\n",
    "    'agg_std_最寄駅：距離（分）_grpby_取引の事情等',\n",
    "    'agg_std_建ぺい率（％）_grpby_取引の事情等',\n",
    "    'agg_std_容積率（％）_grpby_取引の事情等',\n",
    "    'agg_std_面積（㎡）_grpby_取引の事情等',\n",
    "    'agg_std_建築年_grpby_取引の事情等',\n",
    "    'agg_std_取引時点_grpby_取引の事情等',\n",
    "    'agg_std_取引時点築年数_grpby_取引の事情等',\n",
    "    'agg_std_面積log_grpby_取引の事情等',\n",
    "    'agg_std_乗降客数2019_grpby_取引の事情等'\n",
    "]"
   ]
  },
  {
   "cell_type": "code",
   "execution_count": null,
   "id": "5c5d9bc6-a012-4a53-b8d8-c4b2bd508190",
   "metadata": {},
   "outputs": [],
   "source": [
    "for colname in colnames:\n",
    "    df.loc[df[colname].isna(), colname] = 0.0"
   ]
  },
  {
   "cell_type": "code",
   "execution_count": null,
   "id": "da4c6504-546d-4b19-bbb9-0b94336d9598",
   "metadata": {},
   "outputs": [],
   "source": [
    "df.isnull().sum()[df.isnull().sum() != 0]"
   ]
  },
  {
   "cell_type": "code",
   "execution_count": null,
   "id": "ae86388c-897f-4fa5-870d-f5080bed95df",
   "metadata": {},
   "outputs": [],
   "source": [
    "df.info()"
   ]
  },
  {
   "cell_type": "code",
   "execution_count": null,
   "id": "03a7915f-503d-4837-b1cc-b2cb8841dd17",
   "metadata": {},
   "outputs": [],
   "source": [
    "# 集積特徴量を作成後にDataFrameを保存\n",
    "filename = 'fixed/df_agg.sav'\n",
    "pickle.dump(df, open(filename, 'wb'))"
   ]
  },
  {
   "cell_type": "code",
   "execution_count": null,
   "id": "4ba716c5-cb19-4790-9ae7-b3d6e57ffe88",
   "metadata": {},
   "outputs": [],
   "source": [
    "filename = 'fixed/df_agg.sav'\n",
    "df = pickle.load(open(filename, 'rb'))"
   ]
  },
  {
   "cell_type": "code",
   "execution_count": null,
   "id": "986740c8-370d-4127-bff0-93502b8b9716",
   "metadata": {},
   "outputs": [],
   "source": [
    "from sklearn.preprocessing import StandardScaler\n",
    "float_cols = df.select_dtypes(float).columns\n",
    "float_cols = float_cols[float_cols != '取引価格（総額）_log']\n",
    "# float_cols = float_cols[float_cols != '面積log']\n",
    "scaler = StandardScaler()\n",
    "scale_df = df[float_cols]\n",
    "scaler.fit(scale_df)\n",
    "scale_df = scaler.transform(scale_df)\n",
    "scale_df = pd.DataFrame(data=scale_df , columns=float_cols)\n",
    "for colname in scale_df.columns:\n",
    "    if colname == '面積log':\n",
    "        df['面積log_scaled'] = scale_df[colname]\n",
    "    else:\n",
    "        df[colname] = scale_df[colname]\n",
    "del scale_df\n",
    "df.head(2)"
   ]
  },
  {
   "cell_type": "code",
   "execution_count": null,
   "id": "cc73ce04-2e35-4d47-be5c-928feefea8c9",
   "metadata": {},
   "outputs": [],
   "source": [
    "# 標準化後にDataFrameを保存\n",
    "filename = 'fixed/df_std.sav'\n",
    "pickle.dump(df, open(filename, 'wb'))"
   ]
  },
  {
   "cell_type": "code",
   "execution_count": null,
   "id": "9587c0e7-86d2-4d03-9948-b4cb06aba497",
   "metadata": {},
   "outputs": [],
   "source": [
    "filename = 'fixed/df_std.sav'\n",
    "df = pickle.load(open(filename, 'rb'))"
   ]
  },
  {
   "cell_type": "markdown",
   "id": "86049564-0125-432e-88d8-78f2d08d5cfd",
   "metadata": {},
   "source": [
    "# 学習の実施"
   ]
  },
  {
   "cell_type": "code",
   "execution_count": null,
   "id": "587571cd-bd0d-41c7-9a1b-476af2b6d9eb",
   "metadata": {},
   "outputs": [],
   "source": [
    "import lightgbm as lgb\n",
    "import japanize_matplotlib\n",
    "import optuna\n",
    "import pickle\n",
    "from sklearn.model_selection import train_test_split\n",
    "from sklearn.model_selection import KFold\n",
    "from sklearn.metrics import mean_absolute_error\n",
    "from modules.dinamiclr import LrSchedulingCallback\n",
    "from catboost import Pool\n",
    "from catboost import CatBoostRegressor"
   ]
  },
  {
   "cell_type": "code",
   "execution_count": null,
   "id": "87cd11f4-e147-44f5-af5a-608253e5abbb",
   "metadata": {},
   "outputs": [],
   "source": [
    "ID = 'ID'\n",
    "TARGET = '取引価格（総額）_log'"
   ]
  },
  {
   "cell_type": "code",
   "execution_count": null,
   "id": "9d8c8255-d8ca-453a-a9dc-31373fdd65f8",
   "metadata": {},
   "outputs": [],
   "source": [
    "dropcol = ['市区町村コード', '取引時点int']\n",
    "df = df.drop(dropcol, axis=1)\n",
    "# df.set_index('ID', inplace = True)\n",
    "test = df[df['学習データ']==False]\n",
    "train = df[df['学習データ']==True]"
   ]
  },
  {
   "cell_type": "code",
   "execution_count": null,
   "id": "83159165-6ae0-42cd-885b-af648204d6ee",
   "metadata": {},
   "outputs": [],
   "source": [
    "train.head(1)"
   ]
  },
  {
   "cell_type": "code",
   "execution_count": null,
   "id": "cf11f377-7572-4678-a7f4-9c299912aa85",
   "metadata": {},
   "outputs": [],
   "source": [
    "sns.jointplot(x='面積log', y='価格/面積log', data=train, kind='scatter')"
   ]
  },
  {
   "cell_type": "code",
   "execution_count": null,
   "id": "c45db16f-2c7c-4997-ae12-13fd31eee3e6",
   "metadata": {},
   "outputs": [],
   "source": [
    "sns.jointplot(x='面積log_scaled', y='価格/面積log', data=train, kind='scatter')"
   ]
  },
  {
   "cell_type": "code",
   "execution_count": null,
   "id": "2cd5b486-64be-4c0e-ae77-59b80d02eb8e",
   "metadata": {},
   "outputs": [],
   "source": [
    "# 価格/面積log > 3.0 のtrainデータを削除する。\n",
    "# 標準化した結果-1~1とする。（この範囲に68%が入っているはず。）\n",
    "# 2つ目以降のモデルでは-2～2や-1.5～1.5などで検討したい。"
   ]
  },
  {
   "cell_type": "code",
   "execution_count": null,
   "id": "c74d253e-d82d-4b33-85aa-a08ad5a6e023",
   "metadata": {},
   "outputs": [],
   "source": [
    "# train_2は価格/面積log > 1 の上位16%を取ったデータを利用する。 \n",
    "# train_2 = train[train['価格/面積log'] < -1]"
   ]
  },
  {
   "cell_type": "code",
   "execution_count": null,
   "id": "d9261fbc-31e3-4ee6-958a-8fd5000b6a50",
   "metadata": {},
   "outputs": [],
   "source": [
    "# train[train['価格/面積log'] < -0.5]"
   ]
  },
  {
   "cell_type": "code",
   "execution_count": null,
   "id": "d1ce3c4b-165a-4510-a894-654686ca1642",
   "metadata": {},
   "outputs": [],
   "source": [
    "train_1 = train[train['価格/面積log'] <= 1]\n",
    "train_1 = train_1[train_1['価格/面積log'] >= -1]"
   ]
  },
  {
   "cell_type": "code",
   "execution_count": null,
   "id": "d191bc2a-94c8-431e-95ad-18db7c20fe72",
   "metadata": {},
   "outputs": [],
   "source": [
    "cols = df.columns\n",
    "cols = cols[cols != '取引価格（総額）_log']\n",
    "cols = cols[cols != '学習データ']\n",
    "cols = cols[cols != '価格/面積log']\n",
    "cols = cols[cols != '面積（㎡）']\n",
    "# cols = cols[cols != 'ID']"
   ]
  },
  {
   "cell_type": "code",
   "execution_count": null,
   "id": "fe97c921-20a3-47ad-84fe-9a17d499d5ae",
   "metadata": {},
   "outputs": [],
   "source": [
    "X_np_1 = np.array(train_1[cols])\n",
    "y_np_1 = train_1['取引価格（総額）_log'].values\n",
    "X_submit = np.array(test[cols])\n",
    "X_np = np.array(train[cols])\n",
    "y_np = train['取引価格（総額）_log'].values"
   ]
  },
  {
   "cell_type": "code",
   "execution_count": null,
   "id": "a76cd45e-f351-48c1-a1a3-8bf80b459b59",
   "metadata": {},
   "outputs": [],
   "source": [
    "# del df"
   ]
  },
  {
   "cell_type": "code",
   "execution_count": null,
   "id": "f73c67b5-fc3b-4a2a-94ef-db2746e0c064",
   "metadata": {},
   "outputs": [],
   "source": [
    "# 遺伝的アルゴリズムの検証\n",
    "# from GaSolverImpl import GaSolverImpl"
   ]
  },
  {
   "cell_type": "code",
   "execution_count": null,
   "id": "40e62177-fac9-4289-883a-dac2275bc57a",
   "metadata": {},
   "outputs": [],
   "source": [
    "# solver = GaSolverImpl(\n",
    "#     chromosome_length = train[cols].shape[1], \n",
    "#     population_size = 30,\n",
    "#     pick_out_size = 10,\n",
    "#     individual_mutation_probability = 0.3,\n",
    "#     gene_mutation_probability = 0.1,\n",
    "#     iteration = 50,\n",
    "#     verbose = True\n",
    "# )"
   ]
  },
  {
   "cell_type": "code",
   "execution_count": null,
   "id": "a7a187f7-e3ef-427c-b4a0-8eab5787f539",
   "metadata": {
    "scrolled": true,
    "tags": []
   },
   "outputs": [],
   "source": [
    "# history = solver.solve(train[cols], train['取引価格（総額）_log'])"
   ]
  },
  {
   "cell_type": "code",
   "execution_count": null,
   "id": "26343996-4f97-41e9-95b3-9307c2a636c0",
   "metadata": {},
   "outputs": [],
   "source": [
    "# 50回で1700sec程度"
   ]
  },
  {
   "cell_type": "code",
   "execution_count": null,
   "id": "31cb8b51-29bc-4a2e-8251-d87fe430f028",
   "metadata": {},
   "outputs": [],
   "source": [
    "# min(history['Min'])"
   ]
  },
  {
   "cell_type": "code",
   "execution_count": null,
   "id": "4aae486f-f9c6-4fda-8a7e-68bfbaaae222",
   "metadata": {},
   "outputs": [],
   "source": [
    "# history['Min'][1]"
   ]
  },
  {
   "cell_type": "code",
   "execution_count": null,
   "id": "ec906963-7624-4533-b499-848edd7a2eba",
   "metadata": {},
   "outputs": [],
   "source": [
    "# for i in range(len(history['Min'])):\n",
    "#     if min(history['Min']) == history['Min'][i]:\n",
    "#         bestchromosome = history['BestChromosome'][i]\n",
    "#         print('{}:{}'.format(i,history['Min'][i]))\n"
   ]
  },
  {
   "cell_type": "code",
   "execution_count": null,
   "id": "716620d1-e366-45e0-8e1d-363bf58c37a7",
   "metadata": {},
   "outputs": [],
   "source": []
  },
  {
   "cell_type": "code",
   "execution_count": null,
   "id": "3c2b068d-340f-4d58-b8ab-68b55d5b05c5",
   "metadata": {},
   "outputs": [],
   "source": [
    "# print(\"最も優れた個体は{}\".format(bestchromosome))"
   ]
  },
  {
   "cell_type": "code",
   "execution_count": null,
   "id": "bda610c5-1c1c-4dcd-966b-5d48503f975a",
   "metadata": {},
   "outputs": [],
   "source": [
    "# use_cols = [bool(gene) for gene in bestchromosome]"
   ]
  },
  {
   "cell_type": "code",
   "execution_count": null,
   "id": "3359f514-0d15-4973-9fd7-323cc628b418",
   "metadata": {},
   "outputs": [],
   "source": [
    "# X_best = train[cols].iloc[:, use_cols]"
   ]
  },
  {
   "cell_type": "code",
   "execution_count": null,
   "id": "e9a06fa2-004c-46a0-9df5-d6330fdd9b10",
   "metadata": {},
   "outputs": [],
   "source": [
    "# X_best.head(2)"
   ]
  },
  {
   "cell_type": "code",
   "execution_count": null,
   "id": "a38e6407-2831-4d67-811b-1368dafbaf07",
   "metadata": {},
   "outputs": [],
   "source": [
    "# bestcols = X_best.columns"
   ]
  },
  {
   "cell_type": "code",
   "execution_count": null,
   "id": "11deb0d0-bb58-42af-beb7-5fff21a45256",
   "metadata": {},
   "outputs": [],
   "source": [
    "# X_np = np.array(X_best)\n",
    "# y_np = train['取引価格（総額）_log'].values\n",
    "# X_submit = np.array(test[bestcols])"
   ]
  },
  {
   "cell_type": "code",
   "execution_count": null,
   "id": "5ae14691-2a38-48f8-8c33-71e63a6dbdfa",
   "metadata": {},
   "outputs": [],
   "source": [
    "# train：KFoldするため。test：検証のため。\n",
    "# X_train_0, X_test_0, y_train_0, y_test_0 = train_test_split(X_np, y_np, test_size=0.3, random_state=42)\n",
    "# X_train_1, X_test_1, y_train_1, y_test_1 = train_test_split(X_np_1, y_np_1, test_size=0.3, random_state=42)"
   ]
  },
  {
   "cell_type": "code",
   "execution_count": null,
   "id": "ea0d7e5d-d5ce-46dd-a769-59f9330ba7c3",
   "metadata": {},
   "outputs": [],
   "source": [
    "# X_valid_0, X_test_0, y_valid_0, y_test_0 = train_test_split(X_test_0, y_test_0, test_size=0.3, random_state=42)\n",
    "# X_valid_1, X_test_1, y_valid_1, y_test_1 = train_test_split(X_test_1, y_test_1, test_size=0.3, random_state=42)"
   ]
  },
  {
   "cell_type": "code",
   "execution_count": null,
   "id": "25c1b408-8966-476f-a699-f93dc0d77d7d",
   "metadata": {},
   "outputs": [],
   "source": [
    "# # DataFrameの作成\n",
    "# X_train_df = pd.DataFrame(X_train, columns=cols)\n",
    "# X_test_df = pd.DataFrame(X_test, columns=cols)\n",
    "# y_train_df = pd.DataFrame(y_train, columns=['取引価格（総額）_log'])\n",
    "# y_test_df = pd.DataFrame(y_test, columns=['取引価格（総額）_log'])"
   ]
  },
  {
   "cell_type": "code",
   "execution_count": null,
   "id": "8d85fb77-0fda-4063-a868-a9461a9c8d4a",
   "metadata": {},
   "outputs": [],
   "source": [
    "# X_train_df_1 = pd.DataFrame(X_train_1, columns=cols)\n",
    "# X_test_df_1 = pd.DataFrame(X_test_1, columns=cols)\n",
    "# y_train_df_1 = pd.DataFrame(y_train_1, columns=['取引価格（総額）_log'])\n",
    "# y_test_df_1 = pd.DataFrame(y_test_1, columns=['取引価格（総額）_log'])"
   ]
  },
  {
   "cell_type": "code",
   "execution_count": null,
   "id": "246a4d56-0d1a-4d8a-b1fd-ac411db9bc81",
   "metadata": {},
   "outputs": [],
   "source": [
    "# X_train_df.head(2)"
   ]
  },
  {
   "cell_type": "code",
   "execution_count": null,
   "id": "fd96d0ac-56ee-438a-827c-91adf6467f8f",
   "metadata": {},
   "outputs": [],
   "source": [
    "# y_train_df.head(2)"
   ]
  },
  {
   "cell_type": "code",
   "execution_count": null,
   "id": "b091f8ed-af9f-40db-9af9-b7de73d7520b",
   "metadata": {},
   "outputs": [],
   "source": []
  },
  {
   "cell_type": "code",
   "execution_count": null,
   "id": "67901254-bc99-4cb4-9fc8-0e3db0b1b26a",
   "metadata": {},
   "outputs": [],
   "source": [
    "# del X_np\n",
    "# del y_np\n",
    "# del X_train\n",
    "# del y_train\n",
    "# del X_test\n",
    "# del y_test"
   ]
  },
  {
   "cell_type": "code",
   "execution_count": null,
   "id": "1018f8e9-2f50-49f0-93ea-54b7b1296b33",
   "metadata": {},
   "outputs": [],
   "source": [
    "# del X_np_1\n",
    "# del y_np_1\n",
    "# del X_train_1\n",
    "# del y_train_1\n",
    "# del X_test_1\n",
    "# del y_test_1"
   ]
  },
  {
   "cell_type": "code",
   "execution_count": null,
   "id": "11ce112c-11d0-4eb8-9bec-72671187958a",
   "metadata": {},
   "outputs": [],
   "source": [
    "# 価格/面積log > 3.0 のtrainデータを削除する。→どこで削除すべきか・・・\n",
    "# train = train[train['価格/面積log'] >= 3.0]"
   ]
  },
  {
   "cell_type": "code",
   "execution_count": null,
   "id": "0b1bdc97-6ec6-4ddb-8c09-fe10b9e22c6a",
   "metadata": {},
   "outputs": [],
   "source": []
  },
  {
   "cell_type": "code",
   "execution_count": null,
   "id": "e3b47449-b095-400b-9571-6acc2eb5e093",
   "metadata": {},
   "outputs": [],
   "source": [
    "# lgb_train = lgb.Dataset(X_train_df, y_train_df)\n",
    "# lgb_test = lgb.Dataset(X_test, y_test, reference=lgb_train)"
   ]
  },
  {
   "cell_type": "code",
   "execution_count": null,
   "id": "76f0dc3a-21c5-4b5b-82e1-c31ad4a9f344",
   "metadata": {},
   "outputs": [],
   "source": [
    "# params = {\n",
    "#     'objective': 'regression',\n",
    "#     'metric': 'mae',\n",
    "#     'num_leaves': 42,\n",
    "#     'max_depth': 7,\n",
    "#     \"feature_fraction\": 0.8,\n",
    "#     'subsample_freq': 1,\n",
    "#     \"bagging_fraction\": 0.95,\n",
    "#     'min_data_in_leaf': 2,\n",
    "#     'learning_rate': 0.1,\n",
    "#     \"boosting\": \"gbdt\",\n",
    "#     \"lambda_l1\": 0.1,\n",
    "#     \"lambda_l2\": 10,\n",
    "#     \"verbosity\": -1,\n",
    "#     \"random_state\": 42,\n",
    "#     \"num_boost_round\": 100, # 50000\n",
    "#     \"early_stopping_rounds\": 100\n",
    "# }\n",
    "# num_round = 100"
   ]
  },
  {
   "cell_type": "code",
   "execution_count": null,
   "id": "46158eba-e95d-4c7f-bc8c-fe541a2c5162",
   "metadata": {},
   "outputs": [],
   "source": [
    "# lgb_results = {}                                    # 学習の履歴を入れる入物\n",
    "\n",
    "# model = lgb.train(\n",
    "#                   params=params,                    # ハイパーパラメータをセット\n",
    "#                   train_set=lgb_train,              # 訓練データを訓練用にセット\n",
    "#                   valid_sets=[lgb_train, lgb_test], # 訓練データとテストデータをセット\n",
    "#                   valid_names=['Train', 'Test'],    # データセットの名前をそれぞれ設定\n",
    "#                   evals_result=lgb_results,             # 学習の履歴を保存\n",
    "#                   verbose_eval=100,                           # ログを100置きに表示\n",
    "#                   num_boost_round = 100\n",
    "#                   )  "
   ]
  },
  {
   "cell_type": "code",
   "execution_count": null,
   "id": "426f721e-8d68-47b7-9c68-ef62a0c5e317",
   "metadata": {},
   "outputs": [],
   "source": [
    "# test_pred = model.predict(X_test, num_iteration=model.best_iteration)\n",
    "# mae = mean_absolute_error(y_test, test_pred)"
   ]
  },
  {
   "cell_type": "code",
   "execution_count": null,
   "id": "e8cf9f66-9c4c-4dca-a473-5fff9303027d",
   "metadata": {},
   "outputs": [],
   "source": [
    "# mae"
   ]
  },
  {
   "cell_type": "code",
   "execution_count": null,
   "id": "15d1738c-281b-4527-96a9-0a9e22742b09",
   "metadata": {},
   "outputs": [],
   "source": [
    "# Early stopping, best iteration is:\n",
    "# [8466]\tTrain's l1: 0.0591203\tTest's l1: 0.0770325"
   ]
  },
  {
   "cell_type": "markdown",
   "id": "7a7df4a2-aefa-47dc-afcd-eea82044d69e",
   "metadata": {},
   "source": [
    "# Optunaを利用したハイパーパラメータチューニング"
   ]
  },
  {
   "cell_type": "code",
   "execution_count": null,
   "id": "368c4c2e-a5ee-450d-a1b0-d9e3b0bb80e9",
   "metadata": {},
   "outputs": [],
   "source": [
    "def sample_scheduler_func(current_lr, eval_history, best_round, is_higher_better):\n",
    "    \"\"\"次のラウンドで用いる学習率を決定するための関数 (この中身を好きに改造する)\n",
    "\n",
    "    :param current_lr: 現在の学習率 (指定されていない場合の初期値は None)\n",
    "    :param eval_history: 検証用データに対する評価指標の履歴\n",
    "    :param best_round: 現状で最も評価指標の良かったラウンド数\n",
    "    :param is_higher_better: 高い方が性能指標として優れているか否か\n",
    "    :return: 次のラウンドで用いる学習率\n",
    "\n",
    "    NOTE: 学習を打ち切りたいときには callback.EarlyStopException を上げる\n",
    "    \"\"\"\n",
    "    # 学習率が設定されていない場合のデフォルト\n",
    "    current_lr = current_lr or 0.2\n",
    "\n",
    "    # 試しに 20 ラウンド毎に学習率を半分にしてみる\n",
    "    if len(eval_history) > 900:\n",
    "        if len(eval_history) % 100 == 0:\n",
    "            current_lr /= 1.1\n",
    "\n",
    "    # 小さすぎるとほとんど学習が進まないので下限も用意する\n",
    "    min_threshold = 0.01\n",
    "    current_lr = max(min_threshold, current_lr)\n",
    "    \n",
    "    if len(eval_history) % 300 == 0:\n",
    "        print('現在の学習率：{}'.format(current_lr))\n",
    "    \n",
    "    return current_lr"
   ]
  },
  {
   "cell_type": "code",
   "execution_count": null,
   "id": "1b2cd59d-c5b9-40dd-a2bc-72a969323de9",
   "metadata": {},
   "outputs": [],
   "source": [
    "# lgb_train = lgb.Dataset(X_train_df, y_train_df)\n",
    "# lgb_test = lgb.Dataset(X_test_df, y_test_df, reference=lgb_train)\n",
    "# lgb_train_1 = lgb.Dataset(X_train_df_1, y_train_df_1)\n",
    "# lgb_test_1 = lgb.Dataset(X_test_df_1, y_test_df_1, reference=lgb_train_1)"
   ]
  },
  {
   "cell_type": "code",
   "execution_count": null,
   "id": "5cfffbaf-042f-4a0c-a759-4d47b0133f5d",
   "metadata": {},
   "outputs": [],
   "source": [
    "# LightGBMで\n",
    "def objective(trial):\n",
    "    num_leaves =  trial.suggest_int(\"num_leaves\", 40, 50)\n",
    "    max_depth = trial.suggest_int(\"max_depth\", 8, 12)\n",
    "    feature_fraction = trial.suggest_uniform('feature_fraction', 0.6, 1.0)\n",
    "    lambda_l1 = trial.suggest_uniform('lambda_l1', 0.0, 10.0)\n",
    "    lambda_l2 = trial.suggest_uniform('lambda_l2', 20.0, 50.0)\n",
    "    subsample_freq = trial.suggest_int('subsample_freq', 0, 5)\n",
    "    bagging_fraction = trial.suggest_uniform('bagging_fraction', 0.6, 1.0)\n",
    "    min_data_in_leaf = trial.suggest_int('min_data_in_leaf', 1, 20)\n",
    "    tree_learner = trial.suggest_categorical('tree_learner', [\"serial\", \"feature\", \"data\", \"voting\"])\n",
    "    \n",
    "    params = {\n",
    "        'objective': 'regression', \t\t# 固定\n",
    "        'metric': 'mae',\t\t\t\t# 固定\n",
    "        'num_leaves': num_leaves,\n",
    "        'tree_learner': tree_learner,\n",
    "        'max_depth': max_depth,\n",
    "        \"feature_fraction\": feature_fraction,\n",
    "        'subsample_freq': subsample_freq,\n",
    "        \"bagging_fraction\": bagging_fraction,\n",
    "        'min_data_in_leaf': min_data_in_leaf,\n",
    "        'learning_rate': 0.3,\n",
    "        \"boosting\": \"gbdt\",\t\t\t\t# 固定\n",
    "        \"lambda_l1\": lambda_l1,\n",
    "        \"lambda_l2\": lambda_l2,\n",
    "        \"verbosity\": -1,\t\t\t\t# 固定\n",
    "        \"random_state\": 42,\t\t\t\t# 固定\n",
    "        \"early_stopping_rounds\": 100,\t# 固定\n",
    "        \"feature_pre_filter\": False\n",
    "    }\n",
    "    callbacks = [\n",
    "        lgb.log_evaluation(100),       # ログを100置きに表示\n",
    "    ]\n",
    "    model = lgb.train(\n",
    "                  params=params,                    # ハイパーパラメータをセット\n",
    "                  train_set=lgb_train,              # 訓練データを訓練用にセット\n",
    "                  valid_sets=[lgb_train, lgb_test], # 訓練データとテストデータをセット\n",
    "                  valid_names=['Train', 'Test'],    # データセットの名前をそれぞれ設定\n",
    "                  callbacks=callbacks,\n",
    "                  num_boost_round = 100\t\t\t\t# 50000\n",
    "                  )\n",
    "    # 評価\n",
    "    return mean_absolute_error(y_test, model.predict(X_test))"
   ]
  },
  {
   "cell_type": "code",
   "execution_count": null,
   "id": "e701e656-9aa3-4261-95bb-dc748e798299",
   "metadata": {},
   "outputs": [],
   "source": [
    "def objective_1(trial):\n",
    "    num_leaves =  trial.suggest_int(\"num_leaves\", 40, 50)\n",
    "    max_depth = trial.suggest_int(\"max_depth\", 8, 12)\n",
    "    feature_fraction = trial.suggest_uniform('feature_fraction', 0.6, 1.0)\n",
    "    lambda_l1 = trial.suggest_uniform('lambda_l1', 0.0, 10.0)\n",
    "    lambda_l2 = trial.suggest_uniform('lambda_l2', 20.0, 50.0)\n",
    "    subsample_freq = trial.suggest_int('subsample_freq', 0, 5)\n",
    "    bagging_fraction = trial.suggest_uniform('bagging_fraction', 0.6, 1.0)\n",
    "    min_data_in_leaf = trial.suggest_int('min_data_in_leaf', 1, 20)\n",
    "    tree_learner = trial.suggest_categorical('tree_learner', [\"serial\", \"feature\", \"data\", \"voting\"])\n",
    "    \n",
    "    params = {\n",
    "        'objective': 'regression', \t\t# 固定\n",
    "        'metric': 'mae',\t\t\t\t# 固定\n",
    "        'num_leaves': num_leaves,\n",
    "        'tree_learner': tree_learner,\n",
    "        'max_depth': max_depth,\n",
    "        \"feature_fraction\": feature_fraction,\n",
    "        'subsample_freq': subsample_freq,\n",
    "        \"bagging_fraction\": bagging_fraction,\n",
    "        'min_data_in_leaf': min_data_in_leaf,\n",
    "        'learning_rate': 0.3,\n",
    "        \"boosting\": \"gbdt\",\t\t\t\t# 固定\n",
    "        \"lambda_l1\": lambda_l1,\n",
    "        \"lambda_l2\": lambda_l2,\n",
    "        \"verbosity\": -1,\t\t\t\t# 固定\n",
    "        \"random_state\": 42,\t\t\t\t# 固定\n",
    "        \"early_stopping_rounds\": 100,\t# 固定\n",
    "        \"feature_pre_filter\": False\n",
    "    }\n",
    "    callbacks = [\n",
    "        lgb.log_evaluation(100),       # ログを100置きに表示\n",
    "    ]\n",
    "    model = lgb.train(\n",
    "                  params=params,                    # ハイパーパラメータをセット\n",
    "                  train_set=lgb_train_1,              # 訓練データを訓練用にセット\n",
    "                  valid_sets=[lgb_train_1, lgb_test_1], # 訓練データとテストデータをセット\n",
    "                  valid_names=['Train', 'Test'],    # データセットの名前をそれぞれ設定\n",
    "                  callbacks=callbacks,\n",
    "                  num_boost_round = 100\t\t\t\t# 50000\n",
    "                  )\n",
    "    # 評価\n",
    "    return mean_absolute_error(y_test_1, model.predict(X_test_1))"
   ]
  },
  {
   "cell_type": "code",
   "execution_count": null,
   "id": "8504c198-549b-48b9-9fe4-7e23a121498d",
   "metadata": {},
   "outputs": [],
   "source": []
  },
  {
   "cell_type": "code",
   "execution_count": null,
   "id": "da603c60-ee12-4c56-90d5-59a8889bb666",
   "metadata": {},
   "outputs": [],
   "source": []
  },
  {
   "cell_type": "code",
   "execution_count": null,
   "id": "26b75199-c019-4718-9925-dab6b2a5b66a",
   "metadata": {},
   "outputs": [],
   "source": []
  },
  {
   "cell_type": "code",
   "execution_count": null,
   "id": "d64093ec-a94d-42e7-bbff-63e58de350a1",
   "metadata": {
    "tags": []
   },
   "outputs": [],
   "source": [
    "# n_trials = 50 # 50\n",
    "# study = optuna.create_study()\n",
    "# study.optimize(objective, n_trials=n_trials)\n",
    "# best_params = study.best_params\n",
    "# add_params = {\n",
    "#         'learning_rate': 0.3,\n",
    "#         'objective': 'regression',\n",
    "#         'metric': 'mae',\n",
    "#         # 'tree_learner': 'feature',\n",
    "#         # 'max_depth': 7,\n",
    "#         # \"feature_fraction\": 0.8,\n",
    "#         # 'subsample_freq': 1,\n",
    "#         # \"bagging_fraction\": 0.95,\n",
    "#         # 'min_data_in_leaf': 2,\n",
    "#         \"boosting\": \"gbdt\",\n",
    "#         # \"lambda_l1\": 0.1,\n",
    "#         # \"lambda_l2\": 10,\n",
    "#         \"verbosity\": -1,\n",
    "#         \"random_state\": 42,\n",
    "#         \"early_stopping_rounds\": 50,\n",
    "#     }\n",
    "# best_params.update(add_params)"
   ]
  },
  {
   "cell_type": "code",
   "execution_count": null,
   "id": "e05cb62e-2d3f-4b1a-864e-56369ca00c97",
   "metadata": {},
   "outputs": [],
   "source": [
    "# optuna.visualization.plot_contour(study)"
   ]
  },
  {
   "cell_type": "code",
   "execution_count": null,
   "id": "d79a0711-9635-4cc6-83d8-1e116ed0052f",
   "metadata": {},
   "outputs": [],
   "source": [
    "# optuna.visualization.plot_param_importances(study)"
   ]
  },
  {
   "cell_type": "code",
   "execution_count": null,
   "id": "b18f05dd-1833-4bd6-a194-1b451dd4162b",
   "metadata": {},
   "outputs": [],
   "source": []
  },
  {
   "cell_type": "code",
   "execution_count": null,
   "id": "faa385f0-1279-45bf-91f7-e63c12f102a1",
   "metadata": {},
   "outputs": [],
   "source": [
    "# print(best_params)"
   ]
  },
  {
   "cell_type": "code",
   "execution_count": null,
   "id": "23b35ac5-1c6c-4fc5-931d-af1ae0ddc80d",
   "metadata": {},
   "outputs": [],
   "source": []
  },
  {
   "cell_type": "code",
   "execution_count": null,
   "id": "47b91e80-6448-4a63-adc1-fbcd3951de46",
   "metadata": {},
   "outputs": [],
   "source": [
    "# best_params_1 = study.best_params\n",
    "# best_params_1.update(add_params)\n",
    "# print(best_params_1)"
   ]
  },
  {
   "cell_type": "markdown",
   "id": "dfee005b-f187-454a-9247-0d3c8de420e2",
   "metadata": {},
   "source": [
    "- 'learning_rate': 0.27246396622859664,\n",
    "- 'num_leaves': 48,\n",
    "- 'tree_learner': 'feature'\n",
    "- [1700]\tTrain's l1: 0.060631\tTest's l1: 0.076648\n",
    "- 提出後：0.0815"
   ]
  },
  {
   "cell_type": "code",
   "execution_count": null,
   "id": "9489feda-483d-4bf7-a83f-353a6f463ff6",
   "metadata": {},
   "outputs": [],
   "source": [
    "best_params = {'num_leaves': 50, 'max_depth': 9, 'feature_fraction': 0.6771189004705872, 'lambda_l1': 3.769927741005735, 'lambda_l2': 33.11864954025415, 'subsample_freq': 0, 'bagging_fraction': 0.9811102265887287, 'min_data_in_leaf': 1, 'tree_learner': 'voting', 'learning_rate': 0.3, 'objective': 'regression', 'metric': 'mae', 'boosting': 'gbdt', 'verbosity': -1, 'random_state': 42, 'early_stopping_rounds': 50}\n",
    "best_params_1 = {'num_leaves': 50, 'max_depth': 12, 'feature_fraction': 0.9936244753324097, 'lambda_l1': 1.99436831601929, 'lambda_l2': 41.53561366155952, 'subsample_freq': 4, 'bagging_fraction': 0.9055551419531833, 'min_data_in_leaf': 2, 'tree_learner': 'voting', 'learning_rate': 0.3, 'objective': 'regression', 'metric': 'mae', 'boosting': 'gbdt', 'verbosity': -1, 'random_state': 42, 'early_stopping_rounds': 50}\n"
   ]
  },
  {
   "cell_type": "code",
   "execution_count": null,
   "id": "9d6e8605-2d7b-4f8b-9502-8caeea7a7d1d",
   "metadata": {},
   "outputs": [],
   "source": []
  },
  {
   "cell_type": "code",
   "execution_count": null,
   "id": "841b8b1c-a8a6-41ed-8a07-9f13f739ddad",
   "metadata": {},
   "outputs": [],
   "source": [
    "# min, max, countを追加\n",
    "# {'learning_rate': 0.3137985421886106, 'num_leaves': 47, 'max_depth': 9, 'feature_fraction': 0.8823213918895785, 'lambda_l1': 8.487232300704612, 'lambda_l2': 18.508332918744934, 'subsample_freq': 5, 'bagging_fraction': 0.8210512881187388, 'min_data_in_leaf': 5, 'objective': 'regression', 'metric': 'mae', 'tree_learner': 'feature', 'boosting': 'gbdt', 'verbosity': -1, 'random_state': 42, 'early_stopping_rounds': 50}\n",
    "# [1900]\tTrain's l1: 0.0652579\tTest's l1: 0.0767014\n",
    "# 提出後 0.0808"
   ]
  },
  {
   "cell_type": "code",
   "execution_count": null,
   "id": "057ef199-b00e-4ba1-987f-6b0e79730183",
   "metadata": {},
   "outputs": [],
   "source": [
    "# 地価にmin,max,max-min,count,stdを追加\n",
    "# {'learning_rate': 0.25612821629251814, 'num_leaves': 47, 'max_depth': 10, 'feature_fraction': 0.6513130781826354, 'lambda_l1': 4.866437424633705, 'lambda_l2': 8.9330464563469, 'subsample_freq': 4, 'bagging_fraction': 0.7674893318623637, 'min_data_in_leaf': 1, 'objective': 'regression', 'metric': 'mae', 'tree_learner': 'feature', 'boosting': 'gbdt', 'verbosity': -1, 'random_state': 42, 'early_stopping_rounds': 50}\n",
    "# [1600]\tTrain's l1: 0.0656753\tTest's l1: 0.0765212\n",
    "# 提出後 0.0801"
   ]
  },
  {
   "cell_type": "code",
   "execution_count": null,
   "id": "8dc340bc-7d8b-45d9-a12e-31d837da34e0",
   "metadata": {},
   "outputs": [],
   "source": [
    "# 3.0以下の外れ値を除去\n",
    "# [1800]\tTrain's l1: 0.0656376\tTest's l1: 0.0768981\n",
    "# 提出後 0.0800"
   ]
  },
  {
   "cell_type": "code",
   "execution_count": null,
   "id": "ce971aa1-54c6-4b65-adb1-2d5235ef1da4",
   "metadata": {},
   "outputs": [],
   "source": [
    "# 3.0以下の外れ値を除去\n",
    "# {'learning_rate': 0.28103437166049444, 'num_leaves': 48, 'max_depth': 9, 'feature_fraction': 0.896819587342583, 'lambda_l1': 8.446775572884537, 'lambda_l2': 4.793434982955629, 'subsample_freq': 2, 'bagging_fraction': 0.9435825781121129, 'min_data_in_leaf': 15, 'objective': 'regression', 'metric': 'mae', 'tree_learner': 'feature', 'boosting': 'gbdt', 'verbosity': -1, 'random_state': 42, 'early_stopping_rounds': 50}\n",
    "# 0.075Xくらいだったような\n",
    "# 提出後 0.0798"
   ]
  },
  {
   "cell_type": "code",
   "execution_count": null,
   "id": "52090136-2a38-4088-9fbc-a0b3ce51ebed",
   "metadata": {},
   "outputs": [],
   "source": [
    "# {'learning_rate': 0.2816136833111954, 'num_leaves': 50, 'max_depth': 11, 'feature_fraction': 0.9992504277288726, 'lambda_l1': 1.4111483663786961, 'lambda_l2': 22.908251871514096, 'subsample_freq': 1, 'bagging_fraction': 0.9748873660775911, 'min_data_in_leaf': 2, 'tree_learner': 'feature', 'objective': 'regression', 'metric': 'mae', 'boosting': 'gbdt', 'verbosity': -1, 'random_state': 42, 'early_stopping_rounds': 50}\n",
    "# 特徴量を274個に減じた。\n",
    "# [1500]\tTrain's l1: 0.0617913\tTest's l1: 0.0764189\n",
    "# 提出後 0.0814"
   ]
  },
  {
   "cell_type": "code",
   "execution_count": null,
   "id": "744ed9c8-9a17-4966-87f8-9a0fb2a0c2db",
   "metadata": {},
   "outputs": [],
   "source": [
    "# {'learning_rate': 0.2997952552607652, 'num_leaves': 49, 'max_depth': 12, 'feature_fraction': 0.7534749533266163, 'lambda_l1': 2.7270263662026006, 'lambda_l2': 5.205898059128051, 'subsample_freq': 0, 'bagging_fraction': 0.7276572071292827, 'min_data_in_leaf': 3, 'tree_learner': 'voting', 'objective': 'regression', 'metric': 'mae', 'boosting': 'gbdt', 'verbosity': -1, 'random_state': 42, 'early_stopping_rounds': 50}\n",
    "# Standard Scalerを利用した。\n",
    "# 0.0759くらい。\n",
    "# 提出後 0.0800"
   ]
  },
  {
   "cell_type": "code",
   "execution_count": null,
   "id": "16fb5fa9-4236-42c7-9c85-ea36150c29e7",
   "metadata": {},
   "outputs": [],
   "source": [
    "# {'learning_rate': 0.2825500205118874, 'num_leaves': 50, 'max_depth': 9, 'feature_fraction': 0.9517762533772877, 'lambda_l1': 7.5440020768205285, 'lambda_l2': 14.881282532779924, 'subsample_freq': 3, 'bagging_fraction': 0.6767205770881366, 'min_data_in_leaf': 3, 'tree_learner': 'feature', 'objective': 'regression', 'metric': 'mae', 'boosting': 'gbdt', 'verbosity': -1, 'random_state': 42, 'early_stopping_rounds': 50}\n",
    "# Standard Scalerを利用した。900超の特徴量。（人口密度等）\n",
    "# [1400]\tTrain's l1: 0.0671291\tTest's l1: 0.0764916\n",
    "# 提出後 0.0804"
   ]
  },
  {
   "cell_type": "code",
   "execution_count": null,
   "id": "0f5fa616-61a0-497f-9281-256eb3392579",
   "metadata": {},
   "outputs": [],
   "source": [
    "# {'learning_rate': 0.2001026063764013, 'num_leaves': 48, 'max_depth': 10, 'feature_fraction': 0.6569581542581295, 'lambda_l1': 3.671429674023342, 'lambda_l2': 21.104969811169425, 'subsample_freq': 5, 'bagging_fraction': 0.9606337279489678, 'min_data_in_leaf': 20, 'tree_learner': 'serial', 'objective': 'regression', 'metric': 'mae', 'boosting': 'gbdt', 'verbosity': -1, 'random_state': 42, 'early_stopping_rounds': 50}\n",
    "# CountEncoder TargetEncoder\n",
    "# Standard Scaler\n",
    "# [2000]\tTrain's l1: 0.0626875\tTest's l1: 0.074743\n",
    "# 提出後 0.0788"
   ]
  },
  {
   "cell_type": "code",
   "execution_count": null,
   "id": "8906a67f-bbea-445d-ac16-6bd0d7841204",
   "metadata": {},
   "outputs": [],
   "source": [
    "# {'learning_rate': 0.28514803450634096, 'num_leaves': 49, 'max_depth': 10, 'feature_fraction': 0.983224445828606, 'lambda_l1': 3.7055473835000097, 'lambda_l2': 31.122941940770808, 'subsample_freq': 2, 'bagging_fraction': 0.928818087754744, 'min_data_in_leaf': 3, 'tree_learner': 'feature', 'objective': 'regression', 'metric': 'mae', 'boosting': 'gbdt', 'verbosity': -1, 'random_state': 42, 'early_stopping_rounds': 50}\n",
    "# CountEncoder TargetEncoder 乗降客数\n",
    "# [4800]\tTrain's l1: 0.0608743\tTest's l1: 0.0755986\n",
    "# 提出後 0.0787"
   ]
  },
  {
   "cell_type": "code",
   "execution_count": null,
   "id": "d5129495-ee8d-4909-8f08-52747a4a293d",
   "metadata": {},
   "outputs": [],
   "source": [
    "# {'learning_rate': 0.28514803450634096, 'num_leaves': 49, 'max_depth': 10, 'feature_fraction': 0.983224445828606, 'lambda_l1': 3.7055473835000097, 'lambda_l2': 31.122941940770808, 'subsample_freq': 2, 'bagging_fraction': 0.928818087754744, 'min_data_in_leaf': 3, 'tree_learner': 'feature', 'objective': 'regression', 'metric': 'mae', 'boosting': 'gbdt', 'verbosity': -1, 'random_state': 42, 'early_stopping_rounds': 50}\n",
    "# CountEncoder TargetEncoder 乗降客数 10万単位で切り上げ\n",
    "# Test's l1: 0.07544327084053161\n",
    "# 提出後 0.0785"
   ]
  },
  {
   "cell_type": "code",
   "execution_count": null,
   "id": "959a1463-7c01-45d5-8178-2e0ce1edab24",
   "metadata": {},
   "outputs": [],
   "source": []
  },
  {
   "cell_type": "code",
   "execution_count": null,
   "id": "a5367064-a00b-4048-9d34-6841334dbb88",
   "metadata": {},
   "outputs": [],
   "source": [
    "# KFoldを利用して交差検証を行う。"
   ]
  },
  {
   "cell_type": "code",
   "execution_count": null,
   "id": "aadbeb50-f971-47a8-80dc-f569b4c8e8d7",
   "metadata": {
    "scrolled": true,
    "tags": []
   },
   "outputs": [],
   "source": [
    "FOLD = 5\n",
    "\n",
    "valid_scores = []\n",
    "models = []\n",
    "y_pred = []\n",
    "kf = KFold(n_splits=FOLD, shuffle=True, random_state=42)\n",
    "\n",
    "# モデル1を実行（外れ値を未除去）\n",
    "\n",
    "for fold, (train_indices, valid_indices) in enumerate(kf.split(X_np)):\n",
    "    X_train, X_valid = X_np[train_indices], X_np[valid_indices]\n",
    "    y_train, y_valid = y_np[train_indices], y_np[valid_indices]\n",
    "    lgb_train = lgb.Dataset(X_train, y_train)\n",
    "    lgb_eval = lgb.Dataset(X_valid, y_valid)\n",
    "    lr_scheduler_cb = LrSchedulingCallback(strategy_func=sample_scheduler_func)\n",
    "\n",
    "    callbacks = [\n",
    "        lgb.log_evaluation(100),       # ログを100置きに表示\n",
    "        # lgb.record_evaluation(lgb_results),\n",
    "        lr_scheduler_cb,\n",
    "    ]\n",
    "    model = lgb.train(\n",
    "              params=best_params,                    # ハイパーパラメータをセット\n",
    "              train_set=lgb_train,              # 訓練データを訓練用にセット\n",
    "              valid_sets=[lgb_train, lgb_eval], # 訓練データとテストデータをセット\n",
    "              valid_names=['Train', 'Test'],    # データセットの名前をそれぞれ設定\n",
    "              callbacks=callbacks,\n",
    "              num_boost_round = 50000                   \n",
    "              )  \n",
    "\n",
    "    y_valid_pred = model.predict(X_valid)\n",
    "    \n",
    "    X_valid_df = pd.DataFrame(X_valid, columns=cols)\n",
    "    y_valid_pred_df = pd.DataFrame(y_valid_pred, columns=[TARGET])\n",
    "    y_valid_pred_df[ID] = X_valid_df[ID]\n",
    "    \n",
    "    y_pred.append(y_valid_pred_df)\n",
    "    \n",
    "    score = mean_absolute_error(y_valid, y_valid_pred)\n",
    "    print(f'fold {fold} MAE: {score}')\n",
    "    valid_scores.append(score)\n",
    "\n",
    "    models.append(model)\n",
    "\n",
    "cv_score = np.mean(valid_scores)\n",
    "print(f'CV score: {cv_score}')"
   ]
  },
  {
   "cell_type": "code",
   "execution_count": null,
   "id": "a2834245-2673-488b-9dda-b44baa36a698",
   "metadata": {},
   "outputs": [],
   "source": [
    "# モデルを保存する\n",
    "filename = 'models/lightgbm_0/models_{}.sav'\n",
    "for i in range(5):\n",
    "    pickle.dump(models[i], open(filename.format(i), 'wb'))"
   ]
  },
  {
   "cell_type": "code",
   "execution_count": null,
   "id": "c0dda784-02d0-4d33-9282-d9768892293d",
   "metadata": {},
   "outputs": [],
   "source": [
    "y_pred_lgb0 = pd.concat([y_pred[0], y_pred[1], y_pred[2], y_pred[3], y_pred[4]]).reset_index().drop(['index'], axis=1)\n",
    "y_pred_lgb0 = y_pred_lgb0.astype({ID:int})\n",
    "y_pred_lgb0[[ID, TARGET]].to_csv('./pre-pred/prepred_lgb0.csv', index = False)"
   ]
  },
  {
   "cell_type": "code",
   "execution_count": null,
   "id": "f3b0dc29-54d7-4a1c-ad2a-9166da4db81f",
   "metadata": {},
   "outputs": [],
   "source": [
    "# csv読み込み\n",
    "y_pred_lgb0 = pd.read_csv('./pre-pred/prepred_lgb0.csv')\n",
    "y_pred_lgb0.columns = [ID, '取引価格（総額）_log_pred']"
   ]
  },
  {
   "cell_type": "code",
   "execution_count": null,
   "id": "d4fe5bd0-1f6f-456a-b021-fcdc32faf733",
   "metadata": {},
   "outputs": [],
   "source": [
    "y_pred_lgb0 = pd.merge(train_1[[ID, TARGET]].astype({ID:int}), y_pred_lgb0, on=ID)"
   ]
  },
  {
   "cell_type": "code",
   "execution_count": null,
   "id": "08a2a622-8ffc-46db-b644-f48bfc653ea8",
   "metadata": {},
   "outputs": [],
   "source": []
  },
  {
   "cell_type": "code",
   "execution_count": null,
   "id": "65f12431-3c19-4167-a116-41ab99fc47a4",
   "metadata": {},
   "outputs": [],
   "source": []
  },
  {
   "cell_type": "code",
   "execution_count": null,
   "id": "2102df73-59b3-40b2-bacd-c36723a73b71",
   "metadata": {},
   "outputs": [],
   "source": [
    "# 保存したモデルをロードする\n",
    "filename = 'models/lightgbm_0/models_{}.sav'\n",
    "models = []\n",
    "for i in range(5):\n",
    "    loaded_model = pickle.load(open(filename.format(i), 'rb'))\n",
    "    models.append(loaded_model)"
   ]
  },
  {
   "cell_type": "code",
   "execution_count": null,
   "id": "8841c987-69df-4d0e-a7b7-c6f714fb958a",
   "metadata": {},
   "outputs": [],
   "source": [
    "# lgb0モデルでsubmitデータを作る\n",
    "submit_pred_lgb0 = []\n",
    "for i in range(5):\n",
    "    submit_pred = models[i].predict(X_submit)\n",
    "    submit_pred_lgb0.append(submit_pred)\n",
    "submit_pred_lgb0 = (submit_pred_lgb0[0] + submit_pred_lgb0[1] + submit_pred_lgb0[2] + submit_pred_lgb0[3] + submit_pred_lgb0[4])/5"
   ]
  },
  {
   "cell_type": "code",
   "execution_count": null,
   "id": "0e032613-6775-4433-a22e-daf7994ad5c3",
   "metadata": {},
   "outputs": [],
   "source": [
    "X_submit_df = pd.DataFrame(X_submit, columns=cols)\n",
    "submit_pred_lgb0_df = pd.DataFrame(submit_pred_lgb0, columns=[TARGET])\n",
    "submit_pred_lgb0_df[ID] = X_submit_df[ID]\n",
    "submit_pred_lgb0_df = submit_pred_lgb0_df[[ID, TARGET]].astype({ID:int})"
   ]
  },
  {
   "cell_type": "code",
   "execution_count": null,
   "id": "8776c401-a59d-4f99-b2d8-3bd3c352015a",
   "metadata": {},
   "outputs": [],
   "source": [
    "submit_pred_lgb0_df.to_csv('./pre-pred/submit/prepred_lgb0.csv', index = False)"
   ]
  },
  {
   "cell_type": "code",
   "execution_count": null,
   "id": "c4f1e7a2-56c7-4b7f-a2ac-c754c611bd19",
   "metadata": {},
   "outputs": [],
   "source": []
  },
  {
   "cell_type": "code",
   "execution_count": null,
   "id": "c27b4505-fac5-417c-8851-e0918416d6c1",
   "metadata": {
    "scrolled": true,
    "tags": []
   },
   "outputs": [],
   "source": [
    "# モデル2を実行（外れ値を除去済）\n",
    "FOLD = 5\n",
    "valid_scores_1 = []\n",
    "models_1 = []\n",
    "y_pred_1 = []\n",
    "kf = KFold(n_splits=FOLD, shuffle=True, random_state=42)\n",
    "for fold, (train_indices, valid_indices) in enumerate(kf.split(X_np_1)):\n",
    "    X_train, X_valid = X_np_1[train_indices], X_np_1[valid_indices]\n",
    "    y_train, y_valid = y_np_1[train_indices], y_np_1[valid_indices]\n",
    "    lgb_train = lgb.Dataset(X_train, y_train)\n",
    "    lgb_eval = lgb.Dataset(X_valid, y_valid)\n",
    "    lr_scheduler_cb = LrSchedulingCallback(strategy_func=sample_scheduler_func)\n",
    "    callbacks = [\n",
    "        lgb.log_evaluation(100),       # ログを100置きに表示\n",
    "        lr_scheduler_cb,\n",
    "    ]\n",
    "    model = lgb.train(\n",
    "              params=best_params_1,                    # ハイパーパラメータをセット\n",
    "              train_set=lgb_train,              # 訓練データを訓練用にセット\n",
    "              valid_sets=[lgb_train, lgb_eval], # 訓練データとテストデータをセット\n",
    "              valid_names=['Train', 'Test'],    # データセットの名前をそれぞれ設定\n",
    "              callbacks=callbacks,\n",
    "              num_boost_round = 50000                   \n",
    "              )\n",
    "\n",
    "    y_valid_pred = model.predict(X_valid)\n",
    "    \n",
    "    X_valid_df = pd.DataFrame(X_valid, columns=cols)\n",
    "    y_valid_pred_df = pd.DataFrame(y_valid_pred, columns=[TARGET])\n",
    "    y_valid_pred_df[ID] = X_valid_df[ID]\n",
    "    \n",
    "    y_pred_1.append(y_valid_pred_df)\n",
    "    \n",
    "    score = mean_absolute_error(y_valid, y_valid_pred)\n",
    "    print(f'fold {fold} MAE: {score}')\n",
    "    valid_scores_1.append(score)\n",
    "\n",
    "    models_1.append(model)\n",
    "\n",
    "cv_score = np.mean(valid_scores_1)\n",
    "print(f'CV score: {cv_score}')"
   ]
  },
  {
   "cell_type": "code",
   "execution_count": null,
   "id": "b63554b5-11bf-4922-b081-33c179046364",
   "metadata": {},
   "outputs": [],
   "source": [
    "# モデルを保存する\n",
    "filename = 'models/lightgbm_1/models_{}.sav'\n",
    "for i in range(5):\n",
    "    pickle.dump(models_1[i], open(filename.format(i), 'wb'))"
   ]
  },
  {
   "cell_type": "code",
   "execution_count": null,
   "id": "de2d52a4-3018-4055-a2f0-b089c6e10c2e",
   "metadata": {},
   "outputs": [],
   "source": [
    "y_pred_lgb = pd.concat([y_pred_1[0], y_pred_1[1], y_pred_1[2], y_pred_1[3], y_pred_1[4]]).reset_index().drop(['index'], axis=1)\n",
    "y_pred_lgb = y_pred_lgb.astype({ID:int})\n",
    "y_pred_lgb[[ID, TARGET]].to_csv('./pre-pred/prepred_lgb.csv', index = False)"
   ]
  },
  {
   "cell_type": "code",
   "execution_count": null,
   "id": "a653cfd4-5194-4fec-8b0c-99432d8bf52d",
   "metadata": {},
   "outputs": [],
   "source": [
    "# csv読み込み\n",
    "y_pred_lgb = pd.read_csv('./pre-pred/prepred_lgb.csv')\n",
    "y_pred_lgb.columns = [ID, '取引価格（総額）_log_pred']"
   ]
  },
  {
   "cell_type": "code",
   "execution_count": null,
   "id": "1b5f8b56-2ffc-4959-a8e7-c0c6dd145f0c",
   "metadata": {},
   "outputs": [],
   "source": [
    "y_pred_lgb = pd.merge(train_1[[ID, TARGET]].astype({ID:int}), y_pred_lgb, on=ID)"
   ]
  },
  {
   "cell_type": "code",
   "execution_count": null,
   "id": "d391f7f1-9971-49de-8ce1-9a26dfd96edd",
   "metadata": {},
   "outputs": [],
   "source": [
    "mean_absolute_error(y_pred_lgb[TARGET].values, y_pred_lgb[TARGET + '_pred'].values)"
   ]
  },
  {
   "cell_type": "code",
   "execution_count": null,
   "id": "71b1ed2b-68cc-4031-934b-aee1146d3fed",
   "metadata": {},
   "outputs": [],
   "source": [
    "mean_absolute_error(y_pred_lgb[TARGET].values, np.log10(np.ceil(np.power(10, y_pred_lgb[TARGET + '_pred'].values)/100000)*100000))"
   ]
  },
  {
   "cell_type": "code",
   "execution_count": null,
   "id": "6e0de6ce-a39e-4349-bab8-90a3ccc300a8",
   "metadata": {},
   "outputs": [],
   "source": [
    "y_pred_lgb"
   ]
  },
  {
   "cell_type": "code",
   "execution_count": null,
   "id": "605d2595-0396-411a-970f-6e74e3043039",
   "metadata": {},
   "outputs": [],
   "source": [
    "# 保存したモデルをロードする\n",
    "filename = 'models/lightgbm_1/models_{}.sav'\n",
    "models_1 = []\n",
    "for i in range(5):\n",
    "    loaded_model = pickle.load(open(filename.format(i), 'rb'))\n",
    "    models_1.append(loaded_model)"
   ]
  },
  {
   "cell_type": "code",
   "execution_count": null,
   "id": "c90fb901-3eb5-4402-b408-2cab28b17ed0",
   "metadata": {},
   "outputs": [],
   "source": [
    "# lgb0モデルでsubmitデータを作る\n",
    "submit_pred_lgb1 = []\n",
    "for i in range(5):\n",
    "    submit_pred = models_1[i].predict(X_submit)\n",
    "    submit_pred_lgb1.append(submit_pred)\n",
    "submit_pred_lgb1 = (submit_pred_lgb1[0] + submit_pred_lgb1[1] + submit_pred_lgb1[2] + submit_pred_lgb1[3] + submit_pred_lgb1[4])/5"
   ]
  },
  {
   "cell_type": "code",
   "execution_count": null,
   "id": "e9700747-6126-4107-bee8-650fa46f4808",
   "metadata": {},
   "outputs": [],
   "source": [
    "X_submit_df = pd.DataFrame(X_submit, columns=cols)\n",
    "submit_pred_lgb1_df = pd.DataFrame(submit_pred_lgb1, columns=[TARGET])\n",
    "submit_pred_lgb1_df[ID] = X_submit_df[ID]\n",
    "submit_pred_lgb1_df = submit_pred_lgb1_df[[ID, TARGET]].astype({ID:int})\n",
    "submit_pred_lgb1_df.to_csv('./pre-pred/submit/prepred_lgb1.csv', index = False)"
   ]
  },
  {
   "cell_type": "code",
   "execution_count": null,
   "id": "5ec49998-0d00-4e39-9749-6a1a86257192",
   "metadata": {},
   "outputs": [],
   "source": []
  },
  {
   "cell_type": "code",
   "execution_count": null,
   "id": "2052cc39-8c40-4226-acc2-d7fc26181d62",
   "metadata": {},
   "outputs": [],
   "source": []
  },
  {
   "cell_type": "code",
   "execution_count": null,
   "id": "0f06be52-a196-4d7d-b196-5a13b9fb9485",
   "metadata": {},
   "outputs": [],
   "source": [
    "# CatBoostを利用してみる"
   ]
  },
  {
   "cell_type": "code",
   "execution_count": null,
   "id": "3ca4feed-2f23-44aa-9f79-ff9d974be799",
   "metadata": {},
   "outputs": [],
   "source": []
  },
  {
   "cell_type": "code",
   "execution_count": null,
   "id": "e835079c-adcd-4e68-9ede-7d1acbe6df00",
   "metadata": {},
   "outputs": [],
   "source": []
  },
  {
   "cell_type": "code",
   "execution_count": null,
   "id": "dcfbef0c-1006-4ce2-818b-1ac72fa27803",
   "metadata": {},
   "outputs": [],
   "source": [
    "category_cols"
   ]
  },
  {
   "cell_type": "code",
   "execution_count": null,
   "id": "59232091-a086-4946-a679-dbb69448830c",
   "metadata": {},
   "outputs": [],
   "source": [
    "X_train_1, X_test_1, y_train_1, y_test_1 = train_test_split(X_np_1, y_np_1, test_size=0.3, random_state=42)\n",
    "\n",
    "# DataFrameの作成\n",
    "# X_train_df_1 = pd.DataFrame(X_train_1, columns=cols)\n",
    "# X_test_df_1 = pd.DataFrame(X_test_1, columns=cols)\n",
    "# y_train_df_1 = pd.DataFrame(y_train_1, columns=['取引価格（総額）_log'])\n",
    "# y_test_df_1 = pd.DataFrame(y_test_1, columns=['取引価格（総額）_log'])"
   ]
  },
  {
   "cell_type": "code",
   "execution_count": null,
   "id": "5ba5eea0-7c2b-4200-af00-fabca697d80c",
   "metadata": {},
   "outputs": [],
   "source": []
  },
  {
   "cell_type": "code",
   "execution_count": null,
   "id": "55718cbe-ba77-4b48-bcd4-afaa7785a09c",
   "metadata": {},
   "outputs": [],
   "source": []
  },
  {
   "cell_type": "code",
   "execution_count": null,
   "id": "cebda4ec-e81a-4db6-b45e-c7514e56bcd5",
   "metadata": {},
   "outputs": [],
   "source": [
    "train_pool = Pool(X_train_1, y_train_1)\n",
    "validate_pool = Pool(X_test_1, y_test_1)"
   ]
  },
  {
   "cell_type": "code",
   "execution_count": null,
   "id": "643a4189-cc1b-410c-a5d2-f47486bd7e9d",
   "metadata": {},
   "outputs": [],
   "source": [
    "# CatBoostでチューニング\n",
    "def cat_objective(trial):\n",
    "    print('開始')\n",
    "    params = {\n",
    "        'objective': 'MAE', #trial.suggest_categorical(\"objective\", [\"MAE\"]),\n",
    "        \"colsample_bylevel\": 0.09, #trial.suggest_float(\"colsample_bylevel\", 0.01, 0.1),\n",
    "        \"depth\": 12, #trial.suggest_int(\"depth\", 4, 12),\n",
    "        'l2_leaf_reg': trial.suggest_float('l2_leaf_reg', 2, 50),\n",
    "        'random_strength': trial.suggest_float('random_strength', 0.001, 100),\n",
    "        # 'od_type': trial.suggest_categorical('od_type', ['IncToDec', 'Iter']),\n",
    "        \"boosting_type\": 'Plain', #trial.suggest_categorical(\"boosting_type\", [\"Ordered\", \"Plain\"]),\n",
    "        \"bootstrap_type\": 'Bernoulli', #trial.suggest_categorical(\"bootstrap_type\", [\"Bayesian\", \"Bernoulli\", \"MVS\"]),\n",
    "        'eval_metric': 'MAE',\n",
    "        'learning_rate' : 0.1,       # 学習率\n",
    "        'early_stopping_rounds' : 50,\n",
    "        'iterations' : 20000, \n",
    "        'verbose' : 500,\n",
    "        'loss_function': 'MAE',\n",
    "        'random_seed' :42\n",
    "    }\n",
    "    # if params['od_type'] == 'IncToDec':\n",
    "    #     params['od_pval'] = trial.suggest_float('od_pval', 1e-10, 1e-2)\n",
    "    \n",
    "    if params[\"bootstrap_type\"] == \"Bayesian\":\n",
    "        params[\"bagging_temperature\"] = trial.suggest_float(\"bagging_temperature\", 0.01, 100)\n",
    "    elif params[\"bootstrap_type\"] == \"Bernoulli\":\n",
    "        params[\"subsample\"] = trial.suggest_float(\"subsample\", 0.1, 1)\n",
    "    print(params)\n",
    "    gbm = CatBoostRegressor(**params)\n",
    "    gbm.fit(train_pool, eval_set=validate_pool)\n",
    "    # 評価\n",
    "    score = mean_absolute_error(y_test_1, gbm.predict(X_test_1))\n",
    "    del gbm\n",
    "    print(score)\n",
    "    return score"
   ]
  },
  {
   "cell_type": "code",
   "execution_count": null,
   "id": "ff505d22-4303-4f62-b0f1-86e4accbae67",
   "metadata": {
    "tags": []
   },
   "outputs": [],
   "source": [
    "n_trials = 20\n",
    "study = optuna.create_study()\n",
    "study.optimize(cat_objective, n_trials=n_trials)"
   ]
  },
  {
   "cell_type": "code",
   "execution_count": null,
   "id": "6b76f612-6373-4382-8679-d8ae9ef2e26d",
   "metadata": {},
   "outputs": [],
   "source": [
    "best_params_cat = study.best_params\n",
    "add_params = {        \n",
    "        'objective': 'MAE',\n",
    "        \"colsample_bylevel\": 0.09, \n",
    "        \"depth\": 12, \n",
    "        \"boosting_type\": 'Plain',\n",
    "        \"bootstrap_type\": 'Bernoulli',\n",
    "        'eval_metric': 'MAE',\n",
    "        'learning_rate' : 0.1,       # 学習率\n",
    "        'early_stopping_rounds' : 50,\n",
    "        'iterations' : 20000, \n",
    "        'verbose' : 500,\n",
    "        'loss_function': 'MAE',\n",
    "        'random_seed' :42\n",
    "    }\n",
    "best_params_cat.update(add_params)\n",
    "print(best_params_cat)"
   ]
  },
  {
   "cell_type": "raw",
   "id": "a430455f-7153-4e4c-b57c-fa4005e45aff",
   "metadata": {},
   "source": [
    "{'objective': 'MAE', 'l2_leaf_reg': 30, 'colsample_bylevel': 0.08866525905610542, 'depth': 12, 'boosting_type': 'Plain', 'bootstrap_type': 'Bernoulli', 'subsample': 0.8944351669888124, 'learning_rate': 0.2, 'early_stopping_rounds': 50, 'iterations': 50000, 'verbose': 100, 'loss_function': 'MAE', 'random_seed': 42}\n",
    "\n",
    "{'colsample_bylevel': 0.09897209779670797, 'boosting_type': 'Plain', 'bootstrap_type': 'Bernoulli', 'subsample': 0.6214403110153519, 'learning_rate': 0.2, 'early_stopping_rounds': 50, 'l2_leaf_reg': 30, 'iterations': 50000, 'verbose': 100, 'loss_function': 'MAE', 'random_seed': 42}\n",
    "\n",
    "{'l2_leaf_reg': 33.51917340457483, 'random_strength': 0.16779085114202497, 'subsample': 0.9828709713363581, 'objective': 'MAE', 'colsample_bylevel': 0.09, 'depth': 12, 'boosting_type': 'Plain', 'bootstrap_type': 'Bernoulli', 'eval_metric': 'MAE', 'learning_rate': 0.1, 'early_stopping_rounds': 50, 'iterations': 20000, 'verbose': 500, 'loss_function': 'MAE', 'random_seed': 42}\n",
    "0.069329"
   ]
  },
  {
   "cell_type": "code",
   "execution_count": null,
   "id": "5bc39ea7-6c95-407f-9ee4-59568defb34e",
   "metadata": {},
   "outputs": [],
   "source": [
    "best_params_cat = {'l2_leaf_reg': 33.51917340457483, 'random_strength': 0.16779085114202497, 'subsample': 0.9828709713363581, 'objective': 'MAE', 'colsample_bylevel': 0.09, 'depth': 12, 'boosting_type': 'Plain', 'bootstrap_type': 'Bernoulli', 'eval_metric': 'MAE', 'learning_rate': 0.1, 'early_stopping_rounds': 50, 'iterations': 20000, 'verbose': 500, 'loss_function': 'MAE', 'random_seed': 42}\n"
   ]
  },
  {
   "cell_type": "code",
   "execution_count": null,
   "id": "1921db6b-4f02-4076-9bcf-ce7552fdb988",
   "metadata": {
    "scrolled": true,
    "tags": []
   },
   "outputs": [],
   "source": [
    "FOLD = 5\n",
    "valid_scores_cat = []\n",
    "models_cat = []\n",
    "y_pred_cat = []\n",
    "kf = KFold(n_splits=FOLD, shuffle=True, random_state=42)\n",
    "for fold, (train_indices, valid_indices) in enumerate(kf.split(X_np_1)):\n",
    "    X_train, X_valid = X_np_1[train_indices], X_np_1[valid_indices]\n",
    "    y_train, y_valid = y_np_1[train_indices], y_np_1[valid_indices]\n",
    "    train_pool = Pool(X_train, y_train)\n",
    "    validate_pool = Pool(X_valid, y_valid)\n",
    "    \n",
    "    model = CatBoostRegressor(**best_params_cat)\n",
    "    model.fit(train_pool, eval_set=validate_pool)\n",
    "\n",
    "    y_valid_pred = model.predict(X_valid)\n",
    "    \n",
    "    X_valid_df = pd.DataFrame(X_valid, columns=cols)\n",
    "    y_valid_pred_df = pd.DataFrame(y_valid_pred, columns=[TARGET])\n",
    "    y_valid_pred_df[ID] = X_valid_df[ID]\n",
    "    \n",
    "    y_pred_cat.append(y_valid_pred_df)\n",
    "    \n",
    "    score = mean_absolute_error(y_valid, y_valid_pred)\n",
    "    print(f'fold {fold} MAE: {score}')\n",
    "    valid_scores_cat.append(score)\n",
    "\n",
    "    models_cat.append(model)\n",
    "\n",
    "cv_score = np.mean(valid_scores_cat)\n",
    "print(f'CV score: {cv_score}')"
   ]
  },
  {
   "cell_type": "code",
   "execution_count": null,
   "id": "e1605fb9-965d-4a69-a155-7de974530f2d",
   "metadata": {},
   "outputs": [],
   "source": [
    "# モデルを保存する\n",
    "filename = 'models/catboost_1/models_{}.sav'\n",
    "for i in range(5):\n",
    "    pickle.dump(models_cat[i], open(filename.format(i), 'wb'))"
   ]
  },
  {
   "cell_type": "code",
   "execution_count": null,
   "id": "3ac16bfc-9a25-4ea8-be28-0561b699603f",
   "metadata": {},
   "outputs": [],
   "source": [
    "y_pred_cat = pd.concat([y_pred_cat[0], y_pred_cat[1], y_pred_cat[2], y_pred_cat[3], y_pred_cat[4]]).reset_index().drop(['index'], axis=1)\n",
    "y_pred_cat = y_pred_cat.astype({ID:int})\n",
    "y_pred_cat[[ID, TARGET]].to_csv('./pre-pred/prepred_cat.csv', index = False)"
   ]
  },
  {
   "cell_type": "code",
   "execution_count": null,
   "id": "59a2ae10-1e67-4ac6-b05e-d07d10395f14",
   "metadata": {},
   "outputs": [],
   "source": [
    "y_pred_cat"
   ]
  },
  {
   "cell_type": "code",
   "execution_count": null,
   "id": "79abff84-5240-4882-8fa4-c29849660573",
   "metadata": {},
   "outputs": [],
   "source": [
    "# csv読み込み\n",
    "y_pred_cat = pd.read_csv('./pre-pred/prepred_cat.csv')"
   ]
  },
  {
   "cell_type": "code",
   "execution_count": null,
   "id": "dddd4f2a-5802-4202-bfc0-5e5ce09c250f",
   "metadata": {},
   "outputs": [],
   "source": []
  },
  {
   "cell_type": "code",
   "execution_count": null,
   "id": "be4ea233-0121-4628-bc93-886b32fc664a",
   "metadata": {},
   "outputs": [],
   "source": [
    "y_pred_cat"
   ]
  },
  {
   "cell_type": "code",
   "execution_count": null,
   "id": "85576a2a-42aa-493f-a30f-25133546f50b",
   "metadata": {},
   "outputs": [],
   "source": [
    "y_pred_cat.columns = [ID, '取引価格（総額）_log_pred']"
   ]
  },
  {
   "cell_type": "code",
   "execution_count": null,
   "id": "0930b8d4-9976-4d17-8296-5c4df12a8dc7",
   "metadata": {},
   "outputs": [],
   "source": [
    "y_pred_cat = pd.merge(train_1[[ID, TARGET]].astype({ID:int}), y_pred_cat, on=ID)"
   ]
  },
  {
   "cell_type": "code",
   "execution_count": null,
   "id": "8c9bb952-3858-4386-b894-14e400ba710e",
   "metadata": {},
   "outputs": [],
   "source": [
    "mean_absolute_error(y_pred_cat[TARGET].values, y_pred_cat[TARGET + '_pred'].values)"
   ]
  },
  {
   "cell_type": "code",
   "execution_count": null,
   "id": "bf9e0d9f-a769-45ab-80a4-10940464f7f2",
   "metadata": {},
   "outputs": [],
   "source": [
    "y_pred_cat"
   ]
  },
  {
   "cell_type": "code",
   "execution_count": null,
   "id": "d100845e-e015-4805-866b-41ecd8f39042",
   "metadata": {},
   "outputs": [],
   "source": [
    "train_1[[ID, TARGET]].to_csv('./pre-pred/y_np.csv', index = False)"
   ]
  },
  {
   "cell_type": "code",
   "execution_count": null,
   "id": "205735b7-434b-40e6-b233-8c01caee32e2",
   "metadata": {},
   "outputs": [],
   "source": []
  },
  {
   "cell_type": "code",
   "execution_count": null,
   "id": "0533d1b4-b88a-44d5-a073-d8d333a4991a",
   "metadata": {},
   "outputs": [],
   "source": []
  },
  {
   "cell_type": "code",
   "execution_count": null,
   "id": "ad9daf28-0457-475c-81b3-bab704d1b9da",
   "metadata": {},
   "outputs": [],
   "source": []
  },
  {
   "cell_type": "code",
   "execution_count": null,
   "id": "6b210550-a078-4bfc-8683-9ec57ffacaba",
   "metadata": {},
   "outputs": [],
   "source": []
  },
  {
   "cell_type": "code",
   "execution_count": null,
   "id": "c2934fac-49ff-437a-936f-59b1419c245c",
   "metadata": {},
   "outputs": [],
   "source": [
    "# 保存したモデルをロードする\n",
    "filename = 'models/catboost_1/models_{}.sav'\n",
    "models_cat = []\n",
    "for i in range(5):\n",
    "    loaded_model = pickle.load(open(filename.format(i), 'rb'))\n",
    "    models_cat.append(loaded_model)"
   ]
  },
  {
   "cell_type": "code",
   "execution_count": null,
   "id": "6c053b80-2065-4f92-ae64-65665d2d72ec",
   "metadata": {},
   "outputs": [],
   "source": [
    "# lgb0モデルでsubmitデータを作る\n",
    "submit_pred_cat = []\n",
    "for i in range(5):\n",
    "    submit_pred = models_cat[i].predict(X_submit)\n",
    "    submit_pred_cat.append(submit_pred)\n",
    "submit_pred_cat = (submit_pred_cat[0] + submit_pred_cat[1] + submit_pred_cat[2] + submit_pred_cat[3] + submit_pred_cat[4])/5"
   ]
  },
  {
   "cell_type": "code",
   "execution_count": null,
   "id": "399b2cde-8eea-4d54-a539-82fe2e61fec3",
   "metadata": {},
   "outputs": [],
   "source": [
    "X_submit_df = pd.DataFrame(X_submit, columns=cols)\n",
    "submit_pred_cat_df = pd.DataFrame(submit_pred_cat, columns=[TARGET])\n",
    "submit_pred_cat_df[ID] = X_submit_df[ID]\n",
    "submit_pred_cat_df = submit_pred_cat_df[[ID, TARGET]].astype({ID:int})\n",
    "submit_pred_cat_df.to_csv('./pre-pred/submit/prepred_cat.csv', index = False)"
   ]
  },
  {
   "cell_type": "code",
   "execution_count": null,
   "id": "c3ac7a29-6787-46f2-ba60-67ed7c8030d0",
   "metadata": {},
   "outputs": [],
   "source": []
  },
  {
   "cell_type": "code",
   "execution_count": null,
   "id": "fe11c274-3de4-417d-b5cf-dbd786d8ad93",
   "metadata": {},
   "outputs": [],
   "source": []
  },
  {
   "cell_type": "code",
   "execution_count": null,
   "id": "364928b8-a954-44ae-b91d-85fa4fa89ca5",
   "metadata": {},
   "outputs": [],
   "source": [
    "# 分類用のインスタンスを作成\n",
    "model = CatBoostRegressor(**best_params_cat)\n",
    "\n",
    "# CatBoost, CatBoostRegressorも存在するが損失関数が異なるだけ\n",
    "model.fit(train_pool, eval_set=validate_pool)\n",
    "cat_pred = model.predict(X_valid_0)"
   ]
  },
  {
   "cell_type": "code",
   "execution_count": null,
   "id": "f1b92067-a4de-4dc8-83d0-178d452651ba",
   "metadata": {},
   "outputs": [],
   "source": [
    "score = mean_absolute_error(y_valid_0, cat_pred)\n",
    "print(f'catboost MAE: {score}')"
   ]
  },
  {
   "cell_type": "code",
   "execution_count": null,
   "id": "54eaa09b-7ef9-4ae2-a7ef-fcb69b6d08d8",
   "metadata": {},
   "outputs": [],
   "source": []
  },
  {
   "cell_type": "code",
   "execution_count": null,
   "id": "9299fbef-eeb2-4406-9357-5f92383737f8",
   "metadata": {},
   "outputs": [],
   "source": []
  },
  {
   "cell_type": "code",
   "execution_count": null,
   "id": "521c6dd8-87d5-4558-9308-b22a3a056724",
   "metadata": {},
   "outputs": [],
   "source": []
  },
  {
   "cell_type": "code",
   "execution_count": null,
   "id": "57107c5a-b091-4e30-9a9c-e2473fdf93da",
   "metadata": {},
   "outputs": [],
   "source": []
  },
  {
   "cell_type": "code",
   "execution_count": null,
   "id": "f3eb2063-6ef1-4790-9bcf-8b75d8610858",
   "metadata": {},
   "outputs": [],
   "source": []
  },
  {
   "cell_type": "code",
   "execution_count": null,
   "id": "4267cec8-5126-4d5e-9d3b-ef8995fa567b",
   "metadata": {},
   "outputs": [],
   "source": []
  },
  {
   "cell_type": "code",
   "execution_count": null,
   "id": "65f02eec-e6cc-4b06-84f1-7e4c24a96b8f",
   "metadata": {},
   "outputs": [],
   "source": []
  },
  {
   "cell_type": "code",
   "execution_count": null,
   "id": "ffa53458-a5eb-4607-b9e9-d64de4e3c186",
   "metadata": {},
   "outputs": [],
   "source": []
  },
  {
   "cell_type": "code",
   "execution_count": null,
   "id": "45f3c9aa-71ee-4f6c-a5fe-a51f3969b0ba",
   "metadata": {},
   "outputs": [],
   "source": []
  },
  {
   "cell_type": "code",
   "execution_count": null,
   "id": "d448fedc-46a5-4f24-8a56-596e6df5449b",
   "metadata": {},
   "outputs": [],
   "source": [
    "# valid_predの予測値の平均を出す。"
   ]
  },
  {
   "cell_type": "code",
   "execution_count": null,
   "id": "9a1481fd-7802-4c01-b2f4-fb737945e4b3",
   "metadata": {},
   "outputs": [],
   "source": [
    "valid_preds = []\n",
    "for i in range(4):\n",
    "    valid_pred = models[i].predict(X_valid_0, num_iteration=models[i].best_iteration)\n",
    "    score = mean_absolute_error(y_valid_0, valid_pred)\n",
    "    valid_preds.append(valid_pred)\n",
    "    print(f'fold {i} MAE: {score}')\n",
    "valid_pred = (valid_preds[0] + valid_preds[1] + valid_preds[2] + valid_preds[3])/4\n",
    "score = mean_absolute_error(y_valid_0, valid_pred)\n",
    "print(f'fold all MAE: {score}')"
   ]
  },
  {
   "cell_type": "code",
   "execution_count": null,
   "id": "b273c8c9-cf1b-4136-b566-5feefe4aa676",
   "metadata": {},
   "outputs": [],
   "source": [
    "# y_valid_0 が正解\n",
    "valid_preds_1 = []\n",
    "for i in range(4):\n",
    "    valid_pred_1 = models_1[i].predict(X_valid_0, num_iteration=models_1[i].best_iteration)\n",
    "    score = mean_absolute_error(y_valid_0, valid_pred_1)\n",
    "    valid_preds_1.append(valid_pred_1)\n",
    "    print(f'fold {i} MAE: {score}')\n",
    "valid_pred_1 = (valid_preds_1[0] + valid_preds_1[1] + valid_preds_1[2] + valid_preds_1[3])/4\n",
    "score = mean_absolute_error(y_valid_0, valid_pred_1)\n",
    "print(f'fold all MAE: {score}')"
   ]
  },
  {
   "cell_type": "code",
   "execution_count": null,
   "id": "8dfb016a-77fa-4aa1-8175-c534fc1b3e7d",
   "metadata": {},
   "outputs": [],
   "source": [
    "# y_valid_0 が正解\n",
    "valid_preds_cat = []\n",
    "for i in range(4):\n",
    "    valid_pred_cat = models_cat[i].predict(X_valid_0)\n",
    "    score = mean_absolute_error(y_valid_0, valid_pred_cat)\n",
    "    valid_preds_cat.append(valid_pred_cat)\n",
    "    print(f'fold {i} MAE: {score}')\n",
    "valid_pred_cat = (valid_preds_cat[0] + valid_preds_cat[1] + valid_preds_cat[2] + valid_preds_cat[3])/4\n",
    "score = mean_absolute_error(y_valid_0, valid_pred_cat)\n",
    "print(f'fold all MAE: {score}')"
   ]
  },
  {
   "cell_type": "code",
   "execution_count": null,
   "id": "612a7f34-e84e-4512-8844-50a60c350733",
   "metadata": {},
   "outputs": [],
   "source": [
    "# catboostモデルでsubmitデータを作る\n",
    "valid_preds_cat = []\n",
    "for i in range(5):\n",
    "    valid_pred_cat = models_cat[i].predict(X_submit)\n",
    "    valid_preds_cat.append(valid_pred_cat)\n",
    "test_pred_cat = (valid_preds_cat[0] + valid_preds_cat[1] + valid_preds_cat[2] + valid_preds_cat[3] + valid_preds_cat[4])/5"
   ]
  },
  {
   "cell_type": "code",
   "execution_count": null,
   "id": "10909717-75f3-43c1-9839-d83712344bcf",
   "metadata": {},
   "outputs": [],
   "source": [
    "test_pred_cat"
   ]
  },
  {
   "cell_type": "code",
   "execution_count": null,
   "id": "0fa1ad0c-f493-45da-8ad4-d5fa0db85f6e",
   "metadata": {},
   "outputs": [],
   "source": [
    "sub_df = pd.read_csv('data/sample_submission.csv')\n",
    "TARGET_1 = '取引価格（総額）_log_1'\n",
    "test_pred = np.log10(np.ceil(np.power(10, test_pred_cat)/100000)*100000)\n",
    "sub_df[TARGET] = test_pred\n",
    "sub_df.to_csv('output/test_submission.csv', index=False)"
   ]
  },
  {
   "cell_type": "code",
   "execution_count": null,
   "id": "61c5abcf-fa03-4862-8da6-dcda283712c2",
   "metadata": {},
   "outputs": [],
   "source": []
  },
  {
   "cell_type": "code",
   "execution_count": null,
   "id": "ee8284e3-77e8-402f-9953-784cb8486bf1",
   "metadata": {},
   "outputs": [],
   "source": [
    "# メタモデル用のテストデータ作成\n",
    "test_preds = []\n",
    "for i in range(4):\n",
    "    test_pred = models[i].predict(X_test_0, num_iteration=models[i].best_iteration)\n",
    "    score = mean_absolute_error(y_test_0, test_pred)\n",
    "    test_preds.append(test_pred)\n",
    "    print(f'fold {i} MAE: {score}')\n",
    "test_pred = (test_preds[0] + test_preds[1] + test_preds[2] + test_preds[3])/4\n",
    "score = mean_absolute_error(y_test_0, test_pred)\n",
    "print(f'fold all MAE: {score}')"
   ]
  },
  {
   "cell_type": "code",
   "execution_count": null,
   "id": "98258b4d-bd11-49ae-a5b3-53c9226aae10",
   "metadata": {},
   "outputs": [],
   "source": [
    "# y_test_0 が正解\n",
    "test_preds_1 = []\n",
    "for i in range(4):\n",
    "    test_pred_1 = models_1[i].predict(X_test_0, num_iteration=models[i].best_iteration)\n",
    "    score = mean_absolute_error(y_test_0, test_pred_1)\n",
    "    test_preds_1.append(test_pred_1)\n",
    "    print(f'fold {i} MAE: {score}')\n",
    "test_pred_1 = (test_preds_1[0] + test_preds_1[1] + test_preds_1[2] + test_preds_1[3])/4\n",
    "score = mean_absolute_error(y_test_0, test_pred_1)\n",
    "print(f'fold all MAE: {score}')"
   ]
  },
  {
   "cell_type": "code",
   "execution_count": null,
   "id": "c509f16e-d842-475c-97e5-cd8634767451",
   "metadata": {},
   "outputs": [],
   "source": [
    "# メタモデルへの入力の作成\n",
    "stacked_predictions_valid = np.column_stack((valid_pred, valid_pred_1))\n",
    "stacked_predictions_test = np.column_stack((test_pred, test_pred_1))"
   ]
  },
  {
   "cell_type": "code",
   "execution_count": null,
   "id": "dfb32b93-695d-4e59-a5ae-073ec878a56f",
   "metadata": {},
   "outputs": [],
   "source": []
  },
  {
   "cell_type": "code",
   "execution_count": null,
   "id": "9fedece8-f20d-40ce-b721-a1facb1c2243",
   "metadata": {},
   "outputs": [],
   "source": []
  },
  {
   "cell_type": "code",
   "execution_count": null,
   "id": "e98896f4-0511-4569-9a8f-54ff23ee4e05",
   "metadata": {},
   "outputs": [],
   "source": [
    "# メタモデルの学習\n",
    "meta_scores = []\n",
    "meta_models = []\n",
    "y_meta_pred = []\n",
    "kf = KFold(n_splits=FOLD, shuffle=True, random_state=42)\n",
    "for fold, (train_indices, valid_indices) in enumerate(kf.split(stacked_predictions_valid)):\n",
    "    X_train, X_valid = stacked_predictions_valid[train_indices], stacked_predictions_valid[valid_indices]\n",
    "    y_train, y_valid = y_valid_0[train_indices], y_valid_0[valid_indices]\n",
    "    lgb_train = lgb.Dataset(X_train, y_train)\n",
    "    lgb_eval = lgb.Dataset(X_valid, y_valid)\n",
    "    lr_scheduler_cb = LrSchedulingCallback(strategy_func=sample_scheduler_func)\n",
    "    callbacks = [\n",
    "        lgb.log_evaluation(100),       # ログを100置きに表示\n",
    "        lr_scheduler_cb,\n",
    "    ]\n",
    "    model = lgb.train(\n",
    "              params=meta_best_params,                    # ハイパーパラメータをセット\n",
    "              train_set=lgb_train,              # 訓練データを訓練用にセット\n",
    "              valid_sets=[lgb_train, lgb_eval], # 訓練データとテストデータをセット\n",
    "              valid_names=['Train', 'Test'],    # データセットの名前をそれぞれ設定\n",
    "              callbacks=callbacks,\n",
    "              num_boost_round = 50000                   \n",
    "              )  \n",
    "\n",
    "    y_valid_pred = model.predict(X_valid)\n",
    "    y_meta_pred.append(y_valid_pred_df)\n",
    "    \n",
    "    score = mean_absolute_error(y_valid, y_valid_pred)\n",
    "    print(f'fold {fold} MAE: {score}')\n",
    "    meta_scores.append(score)\n",
    "\n",
    "    meta_models.append(model)\n",
    "\n",
    "cv_score = np.mean(meta_scores)\n",
    "print(f'CV score: {cv_score}')"
   ]
  },
  {
   "cell_type": "code",
   "execution_count": null,
   "id": "4fdf68a9-bf66-4cad-a512-2de30e299d14",
   "metadata": {},
   "outputs": [],
   "source": [
    "test_preds = []\n",
    "for i in range(4):\n",
    "    test_pred = meta_models[i].predict(stacked_predictions_test, num_iteration=meta_models[i].best_iteration)\n",
    "    score = mean_absolute_error(y_test_0, test_pred)\n",
    "    test_preds.append(test_pred)\n",
    "    print(f'fold {i} MAE: {score}')\n",
    "test_pred = (test_preds[0] + test_preds[1] + test_preds[2] + test_preds[3])/4\n",
    "score = mean_absolute_error(y_test_0, test_pred)\n",
    "print(f'fold all MAE: {score}')"
   ]
  },
  {
   "cell_type": "code",
   "execution_count": null,
   "id": "b27ef21e-faef-4698-a677-4ba4a4a519f2",
   "metadata": {},
   "outputs": [],
   "source": []
  },
  {
   "cell_type": "code",
   "execution_count": null,
   "id": "bee0e4a5-721d-4069-ac11-7a716457d6b1",
   "metadata": {},
   "outputs": [],
   "source": []
  },
  {
   "cell_type": "code",
   "execution_count": null,
   "id": "66b4feef-9572-4dac-a98c-64883d397482",
   "metadata": {},
   "outputs": [],
   "source": [
    "from sklearn.linear_model import Ridge\n",
    "# train meta model \n",
    "meta_model = Ridge()\n",
    "meta_model.fit(stacked_predictions, y_valid_0)"
   ]
  },
  {
   "cell_type": "code",
   "execution_count": null,
   "id": "fa54afa0-1f71-46dd-a9d6-27d9dfaf86f1",
   "metadata": {},
   "outputs": [],
   "source": []
  },
  {
   "cell_type": "code",
   "execution_count": null,
   "id": "f0b0b2f1-a9ed-4600-9d13-dd5e2b5de28d",
   "metadata": {},
   "outputs": [],
   "source": []
  },
  {
   "cell_type": "code",
   "execution_count": null,
   "id": "ee25af9a-8f2c-48c1-b5ae-0f8ed391a406",
   "metadata": {},
   "outputs": [],
   "source": [
    "stacked_predictions_test = np.column_stack((test_pred, test_pred_1))"
   ]
  },
  {
   "cell_type": "code",
   "execution_count": null,
   "id": "98f6511f-c29d-4ae3-b215-1abb310dcedd",
   "metadata": {},
   "outputs": [],
   "source": [
    "test_prediction = meta_model.predict(stacked_predictions_test)"
   ]
  },
  {
   "cell_type": "code",
   "execution_count": null,
   "id": "7c3c300d-7464-44ec-9c0a-b35342d136f6",
   "metadata": {},
   "outputs": [],
   "source": [
    "score = mean_absolute_error(y_test_0, test_prediction)\n",
    "print(f'fold all MAE: {score}')"
   ]
  },
  {
   "cell_type": "code",
   "execution_count": null,
   "id": "adf985fd-65b4-4dac-a8c9-109353804f28",
   "metadata": {},
   "outputs": [],
   "source": [
    "# fold 0 MAE: 0.07283609637675516\n",
    "# fold 1 MAE: 0.07251080524602205\n",
    "# fold 2 MAE: 0.07285066014110207\n",
    "# fold 3 MAE: 0.07246340988132395"
   ]
  },
  {
   "cell_type": "code",
   "execution_count": null,
   "id": "c9b0c1d8-b719-4bf3-9def-e7f1da0d4363",
   "metadata": {},
   "outputs": [],
   "source": [
    "# test_predとtest_pred_1をX軸を面積logとしてグラフ化する。"
   ]
  },
  {
   "cell_type": "code",
   "execution_count": null,
   "id": "a651a271-ef0b-4aaf-830d-80e2225520d3",
   "metadata": {},
   "outputs": [],
   "source": [
    "X_test_df = pd.DataFrame(X_submit, columns=cols)\n",
    "y_test_pred_df = pd.DataFrame(test_pred, columns=['取引価格（総額）_log'])\n",
    "X_test_df['取引価格（総額）_log'] = y_test_pred_df['取引価格（総額）_log']\n",
    "X_test_df['価格/面積log'] = X_test_df['取引価格（総額）_log'] - X_test_df['面積log']\n",
    "X_test_df"
   ]
  },
  {
   "cell_type": "code",
   "execution_count": null,
   "id": "4f1f50e5-1821-4526-97ff-72c6c3e7b6c2",
   "metadata": {},
   "outputs": [],
   "source": [
    "# 価格/面積logについて、標準化を行う。\n",
    "float_cols = ['価格/面積log']\n",
    "scaler = StandardScaler()\n",
    "scale_df = X_test_df[float_cols]\n",
    "scaler.fit(scale_df)\n",
    "scale_df = scaler.transform(scale_df)\n",
    "scale_df = pd.DataFrame(data=scale_df , columns=float_cols)\n",
    "for colname in scale_df.columns:\n",
    "    X_test_df[colname] = scale_df[colname]"
   ]
  },
  {
   "cell_type": "code",
   "execution_count": null,
   "id": "be6adf73-7135-4882-b537-6766c544e49e",
   "metadata": {},
   "outputs": [],
   "source": [
    "sns.jointplot(x='面積log_scaled', y='価格/面積log', data=X_test_df, kind='scatter')"
   ]
  },
  {
   "cell_type": "code",
   "execution_count": null,
   "id": "2992dad9-b0a9-4c4e-8d4a-1afee7fd93c4",
   "metadata": {},
   "outputs": [],
   "source": []
  },
  {
   "cell_type": "code",
   "execution_count": null,
   "id": "e18cc548-4ca4-4651-b630-c5f90f1f3d63",
   "metadata": {},
   "outputs": [],
   "source": []
  },
  {
   "cell_type": "code",
   "execution_count": null,
   "id": "47715aa9-db89-4ab8-9af6-01344395e0af",
   "metadata": {},
   "outputs": [],
   "source": [
    "X_test_df_1 = pd.DataFrame(X_submit, columns=cols)\n",
    "y_test_pred_df_1 = pd.DataFrame(test_pred_1, columns=['取引価格（総額）_log'])\n",
    "X_test_df_1['取引価格（総額）_log'] = y_test_pred_df_1['取引価格（総額）_log']\n",
    "X_test_df_1['価格/面積log'] = X_test_df_1['取引価格（総額）_log'] - X_test_df_1['面積log']\n",
    "X_test_df_1"
   ]
  },
  {
   "cell_type": "code",
   "execution_count": null,
   "id": "7e2941ba-ce0e-498e-90f9-7f19636edd91",
   "metadata": {},
   "outputs": [],
   "source": [
    "# 価格/面積logについて、標準化を行う。\n",
    "float_cols = ['価格/面積log']\n",
    "scaler = StandardScaler()\n",
    "scale_df = X_test_df_1[float_cols]\n",
    "scaler.fit(scale_df)\n",
    "scale_df = scaler.transform(scale_df)\n",
    "scale_df = pd.DataFrame(data=scale_df , columns=float_cols)\n",
    "for colname in scale_df.columns:\n",
    "    X_test_df_1[colname] = scale_df[colname]"
   ]
  },
  {
   "cell_type": "code",
   "execution_count": null,
   "id": "21b0b1e6-4ae6-434d-a215-e3853d49d10f",
   "metadata": {},
   "outputs": [],
   "source": [
    "sns.jointplot(x='面積log_scaled', y='価格/面積log', data=X_test_df_1, kind='scatter')"
   ]
  },
  {
   "cell_type": "code",
   "execution_count": null,
   "id": "27e4237c-7164-4636-ba15-9772ecd8a813",
   "metadata": {},
   "outputs": [],
   "source": [
    "# ここで、-1～1に入っていないデータについては、以下の計算式で2モデルをブレンドする。\n",
    "# min({abs(価格/面積log)-1}^2, 1)*test_pred_1 + (1-min({abs(価格/面積log)-1}^2, 1))*test_pred"
   ]
  },
  {
   "cell_type": "code",
   "execution_count": null,
   "id": "0f8f12d1-a6f1-42ad-b75c-73f2e736c9e1",
   "metadata": {},
   "outputs": [],
   "source": [
    "x = X_test_df['価格/面積log'].abs() - 1"
   ]
  },
  {
   "cell_type": "code",
   "execution_count": null,
   "id": "b9825a06-6255-4e5c-8736-2b92d18f483d",
   "metadata": {},
   "outputs": [],
   "source": [
    "x.loc[x < 0] = 0"
   ]
  },
  {
   "cell_type": "code",
   "execution_count": null,
   "id": "a07c58dd-d39f-4821-b21b-84ebd6f0eb60",
   "metadata": {},
   "outputs": [],
   "source": [
    "x.loc[x > 0] = x / x.max()"
   ]
  },
  {
   "cell_type": "code",
   "execution_count": null,
   "id": "a8ba14d3-6776-41f8-b481-5606a95df055",
   "metadata": {},
   "outputs": [],
   "source": [
    "x.loc[x > 0] = x ** 1.5"
   ]
  },
  {
   "cell_type": "code",
   "execution_count": null,
   "id": "1a9fc95b-8d4a-4b07-93d6-098f86cab7ec",
   "metadata": {},
   "outputs": [],
   "source": [
    "y = 1 - x"
   ]
  },
  {
   "cell_type": "code",
   "execution_count": null,
   "id": "f7135053-a5ae-487d-b177-3f868fe9b2c8",
   "metadata": {},
   "outputs": [],
   "source": [
    "y"
   ]
  },
  {
   "cell_type": "code",
   "execution_count": null,
   "id": "319b3904-f294-4a88-b2ba-25b1599e1207",
   "metadata": {},
   "outputs": [],
   "source": []
  },
  {
   "cell_type": "code",
   "execution_count": null,
   "id": "c70f9f5d-4825-444f-86d6-d9b339e591de",
   "metadata": {},
   "outputs": [],
   "source": [
    "pred = X_test_df[['ID', '取引価格（総額）_log']]"
   ]
  },
  {
   "cell_type": "code",
   "execution_count": null,
   "id": "318be54c-1515-4b93-9c8e-04b6b508eb00",
   "metadata": {},
   "outputs": [],
   "source": [
    "pred.columns = ['ID', '取引価格（総額）_log_0']"
   ]
  },
  {
   "cell_type": "code",
   "execution_count": null,
   "id": "51ec4f3c-1951-4227-a0fe-961b0abaebf9",
   "metadata": {},
   "outputs": [],
   "source": [
    "pred['取引価格（総額）_log_1'] = X_test_df_1['取引価格（総額）_log']"
   ]
  },
  {
   "cell_type": "code",
   "execution_count": null,
   "id": "b62940cb-ae03-4e4b-9e58-b10d97b0cfe7",
   "metadata": {},
   "outputs": [],
   "source": [
    "pred['x'] = x"
   ]
  },
  {
   "cell_type": "code",
   "execution_count": null,
   "id": "7ae7335b-0e1d-4f17-9870-41b6f50971f1",
   "metadata": {},
   "outputs": [],
   "source": [
    "pred['y'] = y"
   ]
  },
  {
   "cell_type": "code",
   "execution_count": null,
   "id": "8d2ea0aa-6a10-4f74-b814-9101d98cce40",
   "metadata": {},
   "outputs": [],
   "source": [
    "pred"
   ]
  },
  {
   "cell_type": "code",
   "execution_count": null,
   "id": "4df6b8ff-60b4-44cb-a4cd-51f62491a764",
   "metadata": {},
   "outputs": [],
   "source": [
    "pred['取引価格（総額）_log'] = pred['x'] * pred['取引価格（総額）_log_0'] + pred['y'] * pred['取引価格（総額）_log_1']"
   ]
  },
  {
   "cell_type": "code",
   "execution_count": null,
   "id": "47745257-37bf-4e1d-83f0-c54799c08be0",
   "metadata": {},
   "outputs": [],
   "source": [
    "pred"
   ]
  },
  {
   "cell_type": "code",
   "execution_count": null,
   "id": "0d1324dc-76e4-419b-939f-04f9047604f8",
   "metadata": {},
   "outputs": [],
   "source": [
    "# test_pred_tmp"
   ]
  },
  {
   "cell_type": "code",
   "execution_count": null,
   "id": "66fc497b-5c67-4280-9361-668d441062da",
   "metadata": {},
   "outputs": [],
   "source": [
    "# test_pred_1 = (test_preds[0] + test_preds[1] + test_preds[2] + test_preds[3])/4"
   ]
  },
  {
   "cell_type": "code",
   "execution_count": null,
   "id": "179b8685-d9f6-4bcb-8954-cc8c186ea087",
   "metadata": {},
   "outputs": [],
   "source": [
    "# test_pred"
   ]
  },
  {
   "cell_type": "code",
   "execution_count": null,
   "id": "78f82095-0216-4e67-9b3d-112fc1c02ebd",
   "metadata": {},
   "outputs": [],
   "source": [
    "# test_pred_1"
   ]
  },
  {
   "cell_type": "code",
   "execution_count": null,
   "id": "4384ed4e-14b0-4aba-a6fd-020ea7f41cc8",
   "metadata": {},
   "outputs": [],
   "source": []
  },
  {
   "cell_type": "code",
   "execution_count": null,
   "id": "f26498d4-1d4b-48c6-a05b-799bf02dd7a2",
   "metadata": {},
   "outputs": [],
   "source": []
  },
  {
   "cell_type": "code",
   "execution_count": null,
   "id": "97c73dcf-2b08-4a42-8e31-d7f1958825a4",
   "metadata": {},
   "outputs": [],
   "source": [
    "# models[1].predict(X_submit, num_iteration=models[1].best_iteration)"
   ]
  },
  {
   "cell_type": "code",
   "execution_count": null,
   "id": "d0718bd6-c63b-41c0-83c6-6fec80bd38d0",
   "metadata": {},
   "outputs": [],
   "source": [
    "# models[4].predict(X_submit, num_iteration=models[0].best_iteration)"
   ]
  },
  {
   "cell_type": "code",
   "execution_count": null,
   "id": "8c68ff2c-3679-4e7d-90d1-51a721f56b5c",
   "metadata": {},
   "outputs": [],
   "source": [
    "sub_df = pd.read_csv('data/sample_submission.csv')\n",
    "ID = 'ID'\n",
    "TARGET = '取引価格（総額）_log'\n",
    "TARGET_1 = '取引価格（総額）_log_1'"
   ]
  },
  {
   "cell_type": "code",
   "execution_count": null,
   "id": "a06d8683-3c11-41fc-84f9-4cc859d91045",
   "metadata": {},
   "outputs": [],
   "source": [
    "test_pred = np.log10(np.ceil(np.power(10, pred['取引価格（総額）_log'])/100000)*100000)"
   ]
  },
  {
   "cell_type": "code",
   "execution_count": null,
   "id": "7ac04678-c804-4c49-8994-4f3332db04bf",
   "metadata": {},
   "outputs": [],
   "source": [
    "test_pred"
   ]
  },
  {
   "cell_type": "code",
   "execution_count": null,
   "id": "4fa28fc3-1943-4f3a-b284-b35bcf6a078a",
   "metadata": {},
   "outputs": [],
   "source": [
    "sub_df[TARGET] = test_pred"
   ]
  },
  {
   "cell_type": "code",
   "execution_count": null,
   "id": "04f9f7b4-bc3a-4422-bed2-7e418d68c6f5",
   "metadata": {},
   "outputs": [],
   "source": [
    "# test.reset_index()\n",
    "# sub_df = pd.merge(sub_df[['ID']], test.reset_index()[['ID', TARGET]], on='ID')\n",
    "sub_df.to_csv('output/test_submission.csv', index=False)\n",
    "display(sub_df)"
   ]
  },
  {
   "cell_type": "code",
   "execution_count": null,
   "id": "8f5118ed-0df7-447c-9e41-495bbac162f7",
   "metadata": {},
   "outputs": [],
   "source": []
  },
  {
   "cell_type": "code",
   "execution_count": null,
   "id": "2ea8801f-d8e3-4d6f-a8eb-4969c6ffedc5",
   "metadata": {},
   "outputs": [],
   "source": [
    "test_pred_1 = np.log10(np.ceil(np.power(10, test_pred_1)/100000)*100000)\n",
    "test[TARGET] = test_pred_1"
   ]
  },
  {
   "cell_type": "code",
   "execution_count": null,
   "id": "a0283735-d04d-40a3-b302-efbdb54a6202",
   "metadata": {},
   "outputs": [],
   "source": [
    "test[['面積log', TARGET, TARGET_1]]"
   ]
  },
  {
   "cell_type": "code",
   "execution_count": null,
   "id": "16ac55e0-890c-488b-9535-ee0d2462dd7d",
   "metadata": {},
   "outputs": [],
   "source": [
    "test.reset_index()\n",
    "sub_df = pd.merge(sub_df[['ID']], test.reset_index()[['ID', TARGET]], on='ID')"
   ]
  },
  {
   "cell_type": "code",
   "execution_count": null,
   "id": "cbbebcfb-746a-448f-9652-4f605217b519",
   "metadata": {},
   "outputs": [],
   "source": [
    "lgb_train = lgb.Dataset(X_train_df, y_train_df)\n",
    "lgb_test = lgb.Dataset(X_test_df, y_test_df, reference=lgb_train)\n",
    "lgb_train_1 = lgb.Dataset(X_train_df_1, y_train_df_1)\n",
    "lgb_test_1 = lgb.Dataset(X_test_df_1, y_test_df_1, reference=lgb_train_1)"
   ]
  },
  {
   "cell_type": "code",
   "execution_count": null,
   "id": "0dd10aa3-c296-4239-9915-4ff8443066e7",
   "metadata": {},
   "outputs": [],
   "source": [
    "lgb_results = {}                                    # 学習の履歴を入れる入物\n",
    "callbacks = [\n",
    "    lgb.log_evaluation(100),       # ログを100置きに表示\n",
    "    lgb.record_evaluation(lgb_results),\n",
    "    lr_scheduler_cb,\n",
    "]\n",
    "model = lgb.train(\n",
    "              params=best_params,                    # ハイパーパラメータをセット\n",
    "              train_set=lgb_train,              # 訓練データを訓練用にセット\n",
    "              valid_sets=[lgb_train, lgb_test], # 訓練データとテストデータをセット\n",
    "              valid_names=['Train', 'Test'],    # データセットの名前をそれぞれ設定\n",
    "              callbacks=callbacks,\n",
    "              num_boost_round = 50000                   \n",
    "              )  "
   ]
  },
  {
   "cell_type": "code",
   "execution_count": null,
   "id": "35a20aec-2713-483b-bfc1-ca86b37a911a",
   "metadata": {},
   "outputs": [],
   "source": [
    "import matplotlib.pyplot as plt\n",
    "import japanize_matplotlib"
   ]
  },
  {
   "cell_type": "code",
   "execution_count": null,
   "id": "53cd6086-a2f3-4df6-8c8d-d59b529391e0",
   "metadata": {},
   "outputs": [],
   "source": [
    "lgb.plot_importance(model, figsize=(12,8), max_num_features=50, importance_type='gain')\n",
    "plt.tight_layout()\n",
    "plt.savefig('output/feature_importance.png')\n",
    "plt.show()\n",
    "plt.close()"
   ]
  },
  {
   "cell_type": "code",
   "execution_count": null,
   "id": "11806bca-71f2-4c35-9a73-02d2d630c1f1",
   "metadata": {},
   "outputs": [],
   "source": [
    "cols"
   ]
  },
  {
   "cell_type": "code",
   "execution_count": null,
   "id": "e6fb17fd-2bbb-44e5-b552-4d26d02687b8",
   "metadata": {},
   "outputs": [],
   "source": [
    "importance = pd.DataFrame(model.feature_importance(), columns=['importance'])\n",
    "display(importance)"
   ]
  },
  {
   "cell_type": "code",
   "execution_count": null,
   "id": "224254ef-47db-4b8f-93b7-2f8b1351f3a2",
   "metadata": {},
   "outputs": [],
   "source": [
    "# \n",
    "\n",
    "val_pred = model.predict(X_test, num_iteration=model.best_iteration)"
   ]
  },
  {
   "cell_type": "code",
   "execution_count": null,
   "id": "171f40d6-2cc8-4e27-8302-58beb3c7ac5a",
   "metadata": {},
   "outputs": [],
   "source": [
    "# 後処理\n",
    "y_test_actual   = np.power(10, y_test)\n",
    "val_pred_actual = np.power(10, val_pred)"
   ]
  },
  {
   "cell_type": "code",
   "execution_count": null,
   "id": "4ca5b58d-246c-4ef5-a199-333e341b6c29",
   "metadata": {},
   "outputs": [],
   "source": [
    "y_test_actual"
   ]
  },
  {
   "cell_type": "code",
   "execution_count": null,
   "id": "2c76ec9e-7aff-4a27-8c65-3714766a90c3",
   "metadata": {},
   "outputs": [],
   "source": [
    "np.log10(np.ceil(val_pred_actual/1000000)*1000000)"
   ]
  },
  {
   "cell_type": "code",
   "execution_count": null,
   "id": "b55a8cd2-879b-486c-b8d2-20ed4d92c1ea",
   "metadata": {},
   "outputs": [],
   "source": [
    "np.log10(np.round(val_pred_actual, decimals=-6))"
   ]
  },
  {
   "cell_type": "code",
   "execution_count": null,
   "id": "a35fd05c-1e23-4670-ba5a-e5b9f89ab465",
   "metadata": {},
   "outputs": [],
   "source": [
    "mean_absolute_error(y_test, np.log10(np.ceil(val_pred_actual/100000)*100000))"
   ]
  },
  {
   "cell_type": "code",
   "execution_count": null,
   "id": "74b34921-70fd-4ac6-93d4-8bd89ac59a50",
   "metadata": {},
   "outputs": [],
   "source": [
    "sub_df = pd.read_csv('data/sample_submission.csv')\n"
   ]
  },
  {
   "cell_type": "code",
   "execution_count": null,
   "id": "21ad17af-e127-4cbf-8f8a-c49d09bba59c",
   "metadata": {},
   "outputs": [],
   "source": [
    "test_pred = model.predict(X_submit, num_iteration=model.best_iteration)\n",
    "test_pred = np.log10(np.ceil(np.power(10, test_pred)/100000)*100000)\n",
    "test[TARGET] = test_pred\n",
    "test.reset_index()\n",
    "sub_df = pd.merge(sub_df[['ID']], test.reset_index()[['ID', TARGET]], on='ID')"
   ]
  },
  {
   "cell_type": "code",
   "execution_count": null,
   "id": "538732bc-28df-47cc-930a-71263838ee2e",
   "metadata": {},
   "outputs": [],
   "source": [
    "sub_df.to_csv('output/test_submission.csv', index=False)"
   ]
  },
  {
   "cell_type": "code",
   "execution_count": null,
   "id": "c00621cb-29c4-4912-913e-bc5dfa386056",
   "metadata": {},
   "outputs": [],
   "source": []
  },
  {
   "cell_type": "code",
   "execution_count": null,
   "id": "58213637-0da8-4f64-9dbe-b20bfbfd8a18",
   "metadata": {},
   "outputs": [],
   "source": []
  },
  {
   "cell_type": "code",
   "execution_count": null,
   "id": "9af65fc2-82a8-4358-b549-1a79dcff0c8f",
   "metadata": {},
   "outputs": [],
   "source": []
  },
  {
   "cell_type": "code",
   "execution_count": null,
   "id": "acf94d57-8f98-4e2b-9f02-34ce97ef3b8a",
   "metadata": {},
   "outputs": [],
   "source": []
  }
 ],
 "metadata": {
  "kernelspec": {
   "display_name": "Python 3 (ipykernel)",
   "language": "python",
   "name": "python3"
  },
  "language_info": {
   "codemirror_mode": {
    "name": "ipython",
    "version": 3
   },
   "file_extension": ".py",
   "mimetype": "text/x-python",
   "name": "python",
   "nbconvert_exporter": "python",
   "pygments_lexer": "ipython3",
   "version": "3.9.7"
  }
 },
 "nbformat": 4,
 "nbformat_minor": 5
}
