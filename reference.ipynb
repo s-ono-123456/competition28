{
 "cells": [
  {
   "cell_type": "code",
   "execution_count": 1,
   "id": "2da51bad-b7fa-41ed-957f-85f074e321b8",
   "metadata": {},
   "outputs": [],
   "source": [
    "import pandas as pd\n",
    "import numpy as np\n",
    "from sklearn.model_selection import KFold\n",
    "from functools import partial\n",
    "\n",
    "import optuna\n",
    "from xfeat import SelectCategorical, LabelEncoder, Pipeline, ConcatCombination, SelectNumerical, ArithmeticCombinations, TargetEncoder, aggregation, GBDTFeatureSelector, GBDTFeatureExplorer"
   ]
  },
  {
   "cell_type": "code",
   "execution_count": null,
   "id": "3ca255d4-7149-4ed5-a472-f8f3e1f36683",
   "metadata": {},
   "outputs": [],
   "source": [
    "# https://qiita.com/Ryo-Todaka/items/e97d6c065dcabe53dd08"
   ]
  },
  {
   "cell_type": "code",
   "execution_count": 2,
   "id": "d01ffd66-58b8-410b-bd63-e502614ffb10",
   "metadata": {},
   "outputs": [],
   "source": [
    "df = pd.read_csv('reference/L01-2022P-2K.csv')"
   ]
  },
  {
   "cell_type": "code",
   "execution_count": 3,
   "id": "cb155642-966b-4a43-88b3-40f27c11ad31",
   "metadata": {},
   "outputs": [
    {
     "data": {
      "text/plain": [
       "Index(['属性移動Ｓ５９', '属性移動Ｓ６０', '属性移動Ｓ６１', '属性移動Ｓ６２', '属性移動Ｓ６３', '属性移動Ｈ１',\n",
       "       '属性移動Ｈ２', '属性移動Ｈ３', '属性移動Ｈ４', '属性移動Ｈ５', '属性移動Ｈ６', '属性移動Ｈ７', '属性移動Ｈ８',\n",
       "       '属性移動Ｈ９', '属性移動Ｈ１０', '属性移動Ｈ１１', '属性移動Ｈ１２', '属性移動Ｈ１３', '属性移動Ｈ１４',\n",
       "       '属性移動Ｈ１５', '属性移動Ｈ１６', '属性移動Ｈ１７', '属性移動Ｈ１８', '属性移動Ｈ１９', '属性移動Ｈ２０',\n",
       "       '属性移動Ｈ２１', '属性移動Ｈ２２', '属性移動Ｈ２３', '属性移動Ｈ２４', '属性移動Ｈ２５', '属性移動Ｈ２６',\n",
       "       '属性移動Ｈ２７', '属性移動Ｈ２８', '属性移動Ｈ２９', '属性移動Ｈ３０', '属性移動Ｈ３１', '属性移動Ｒ２',\n",
       "       '属性移動Ｒ３', '属性移動Ｒ４'],\n",
       "      dtype='object')"
      ]
     },
     "execution_count": 3,
     "metadata": {},
     "output_type": "execute_result"
    }
   ],
   "source": [
    "df.columns[87:]"
   ]
  },
  {
   "cell_type": "code",
   "execution_count": 4,
   "id": "fb408e70-2661-4bfd-b0e0-a6daf2fec904",
   "metadata": {},
   "outputs": [],
   "source": [
    "dropcol = df.columns[87:]\n",
    "df = df.drop(dropcol, axis=1)"
   ]
  },
  {
   "cell_type": "code",
   "execution_count": 5,
   "id": "42b01ce6-dd06-4bce-b8df-dcf2c50a3f44",
   "metadata": {},
   "outputs": [
    {
     "data": {
      "text/plain": [
       "Index(['経度', '緯度', '所在地コード', '用途', '連番', '年次', '前年所在地コード', '前年用途', '前年連番',\n",
       "       '市区町村名', '所在並びに地番', '住居表示', '行政', '地積', '利用の現況', '利用状況表示', '利用区分',\n",
       "       '建物構造', '施設', '形状区分', '間口（比率）', '奥行（比率）', '階層（地上）', '階層（地下）', '前面道路区分',\n",
       "       '前面道路の方位区分', '前面道路の幅員', '前面道路の駅前区分', '前面道路の舗装状況', '側道区分', '側道方位区分',\n",
       "       '交通施設との近接区分', '周辺の土地の利用の現況', '駅名', '駅距離', '用途区分', '防火区分', '都市計画区分',\n",
       "       '高度地区', '森林区分', '公園区分', '建蔽率', '容積率', '割増容積率', '共通地点区分', '対前年変動率',\n",
       "       '選定年次ビット', 'Ｓ５８価格', 'Ｓ５９価格', 'Ｓ６０価格', 'Ｓ６１価格', 'Ｓ６２価格', 'Ｓ６３価格', 'Ｈ１価格',\n",
       "       'Ｈ２価格', 'Ｈ３価格', 'Ｈ４価格', 'Ｈ５価格', 'Ｈ６価格', 'Ｈ７価格', 'Ｈ８価格', 'Ｈ９価格', 'Ｈ１０価格',\n",
       "       'Ｈ１１価格', 'Ｈ１２価格', 'Ｈ１３価格', 'Ｈ１４価格', 'Ｈ１５価格', 'Ｈ１６価格', 'Ｈ１７価格', 'Ｈ１８価格',\n",
       "       'Ｈ１９価格', 'Ｈ２０価格', 'Ｈ２１価格', 'Ｈ２２価格', 'Ｈ２３価格', 'Ｈ２４価格', 'Ｈ２５価格', 'Ｈ２６価格',\n",
       "       'Ｈ２７価格', 'Ｈ２８価格', 'Ｈ２９価格', 'Ｈ３０価格', 'Ｈ３１価格', 'Ｒ２価格', 'Ｒ３価格', 'Ｒ４価格'],\n",
       "      dtype='object')"
      ]
     },
     "execution_count": 5,
     "metadata": {},
     "output_type": "execute_result"
    }
   ],
   "source": [
    "df.columns"
   ]
  },
  {
   "cell_type": "code",
   "execution_count": 6,
   "id": "375bc0ec-8211-467b-98cf-f709e4a3fea7",
   "metadata": {},
   "outputs": [],
   "source": [
    "dropcol = ['経度', '緯度', '用途', '連番', '年次', '前年所在地コード', '前年用途', '前年連番',\n",
    "           '市区町村名', '所在並びに地番', '住居表示', '行政', '地積', '利用の現況', '利用状況表示', '利用区分',\n",
    "           '建物構造', '施設', '形状区分', '間口（比率）', '奥行（比率）', '階層（地上）', '階層（地下）', '前面道路区分',\n",
    "           '前面道路の方位区分', '前面道路の幅員', '前面道路の駅前区分', '前面道路の舗装状況', '側道区分', '側道方位区分',\n",
    "           '交通施設との近接区分', '周辺の土地の利用の現況', '駅名', '駅距離', '用途区分', '防火区分', '都市計画区分',\n",
    "           '高度地区', '森林区分', '公園区分', '建蔽率', '容積率', '割増容積率', '共通地点区分', '対前年変動率',\n",
    "           '選定年次ビット',]\n",
    "df = df.drop(dropcol, axis=1)"
   ]
  },
  {
   "cell_type": "code",
   "execution_count": 7,
   "id": "a575a048-487b-4fbd-b956-efc704506793",
   "metadata": {},
   "outputs": [],
   "source": [
    "collist = ['Ｓ５８価格', 'Ｓ５９価格', 'Ｓ６０価格', 'Ｓ６１価格', 'Ｓ６２価格', 'Ｓ６３価格', 'Ｈ１価格',\n",
    "       'Ｈ２価格', 'Ｈ３価格', 'Ｈ４価格', 'Ｈ５価格', 'Ｈ６価格', 'Ｈ７価格', 'Ｈ８価格', 'Ｈ９価格', 'Ｈ１０価格',\n",
    "       'Ｈ１１価格', 'Ｈ１２価格', 'Ｈ１３価格', 'Ｈ１４価格', 'Ｈ１５価格', 'Ｈ１６価格', 'Ｈ１７価格', 'Ｈ１８価格',\n",
    "       'Ｈ１９価格', 'Ｈ２０価格', 'Ｈ２１価格', 'Ｈ２２価格', 'Ｈ２３価格', 'Ｈ２４価格', 'Ｈ２５価格', 'Ｈ２６価格',\n",
    "       'Ｈ２７価格', 'Ｈ２８価格', 'Ｈ２９価格', 'Ｈ３０価格', 'Ｈ３１価格', 'Ｒ２価格', 'Ｒ３価格', 'Ｒ４価格']"
   ]
  },
  {
   "cell_type": "code",
   "execution_count": null,
   "id": "27be24a2-0078-40eb-94e8-3ec4f03bed51",
   "metadata": {},
   "outputs": [],
   "source": []
  },
  {
   "cell_type": "code",
   "execution_count": 38,
   "id": "d3b491d1-4a9f-4f42-a3fd-90090d59014d",
   "metadata": {},
   "outputs": [
    {
     "name": "stderr",
     "output_type": "stream",
     "text": [
      "/usr/local/lib/python3.9/site-packages/pandas/core/arraylike.py:397: RuntimeWarning: divide by zero encountered in log10\n",
      "  result = getattr(ufunc, method)(*inputs, **kwargs)\n",
      "/usr/local/lib/python3.9/site-packages/pandas/core/arraylike.py:397: RuntimeWarning: divide by zero encountered in log10\n",
      "  result = getattr(ufunc, method)(*inputs, **kwargs)\n",
      "/usr/local/lib/python3.9/site-packages/pandas/core/arraylike.py:397: RuntimeWarning: divide by zero encountered in log10\n",
      "  result = getattr(ufunc, method)(*inputs, **kwargs)\n",
      "/usr/local/lib/python3.9/site-packages/pandas/core/arraylike.py:397: RuntimeWarning: divide by zero encountered in log10\n",
      "  result = getattr(ufunc, method)(*inputs, **kwargs)\n",
      "/usr/local/lib/python3.9/site-packages/pandas/core/arraylike.py:397: RuntimeWarning: divide by zero encountered in log10\n",
      "  result = getattr(ufunc, method)(*inputs, **kwargs)\n",
      "/usr/local/lib/python3.9/site-packages/pandas/core/arraylike.py:397: RuntimeWarning: divide by zero encountered in log10\n",
      "  result = getattr(ufunc, method)(*inputs, **kwargs)\n",
      "/usr/local/lib/python3.9/site-packages/pandas/core/arraylike.py:397: RuntimeWarning: divide by zero encountered in log10\n",
      "  result = getattr(ufunc, method)(*inputs, **kwargs)\n"
     ]
    },
    {
     "data": {
      "text/html": [
       "<div>\n",
       "<style scoped>\n",
       "    .dataframe tbody tr th:only-of-type {\n",
       "        vertical-align: middle;\n",
       "    }\n",
       "\n",
       "    .dataframe tbody tr th {\n",
       "        vertical-align: top;\n",
       "    }\n",
       "\n",
       "    .dataframe thead th {\n",
       "        text-align: right;\n",
       "    }\n",
       "</style>\n",
       "<table border=\"1\" class=\"dataframe\">\n",
       "  <thead>\n",
       "    <tr style=\"text-align: right;\">\n",
       "      <th></th>\n",
       "      <th>所在地コード</th>\n",
       "      <th>年度</th>\n",
       "      <th>平均地価log</th>\n",
       "      <th>地価_stdlog</th>\n",
       "      <th>地価_maxlog</th>\n",
       "      <th>地価_minlog</th>\n",
       "      <th>地価_maxminlog</th>\n",
       "      <th>地価_count</th>\n",
       "    </tr>\n",
       "  </thead>\n",
       "  <tbody>\n",
       "    <tr>\n",
       "      <th>0</th>\n",
       "      <td>1101</td>\n",
       "      <td>1983</td>\n",
       "      <td>5.742026</td>\n",
       "      <td>5.885713</td>\n",
       "      <td>6.380211</td>\n",
       "      <td>4.812913</td>\n",
       "      <td>1.567298</td>\n",
       "      <td>9</td>\n",
       "    </tr>\n",
       "    <tr>\n",
       "      <th>1</th>\n",
       "      <td>1102</td>\n",
       "      <td>1983</td>\n",
       "      <td>4.857709</td>\n",
       "      <td>4.936916</td>\n",
       "      <td>5.454845</td>\n",
       "      <td>4.361728</td>\n",
       "      <td>1.093117</td>\n",
       "      <td>8</td>\n",
       "    </tr>\n",
       "    <tr>\n",
       "      <th>2</th>\n",
       "      <td>1103</td>\n",
       "      <td>1983</td>\n",
       "      <td>4.836324</td>\n",
       "      <td>4.428763</td>\n",
       "      <td>5.079181</td>\n",
       "      <td>4.477121</td>\n",
       "      <td>0.60206</td>\n",
       "      <td>7</td>\n",
       "    </tr>\n",
       "    <tr>\n",
       "      <th>3</th>\n",
       "      <td>1104</td>\n",
       "      <td>1983</td>\n",
       "      <td>4.832509</td>\n",
       "      <td>4.178332</td>\n",
       "      <td>4.939519</td>\n",
       "      <td>4.732394</td>\n",
       "      <td>0.207125</td>\n",
       "      <td>4</td>\n",
       "    </tr>\n",
       "    <tr>\n",
       "      <th>4</th>\n",
       "      <td>1105</td>\n",
       "      <td>1983</td>\n",
       "      <td>4.831102</td>\n",
       "      <td>3.983841</td>\n",
       "      <td>4.897627</td>\n",
       "      <td>4.728354</td>\n",
       "      <td>0.169273</td>\n",
       "      <td>10</td>\n",
       "    </tr>\n",
       "    <tr>\n",
       "      <th>...</th>\n",
       "      <td>...</td>\n",
       "      <td>...</td>\n",
       "      <td>...</td>\n",
       "      <td>...</td>\n",
       "      <td>...</td>\n",
       "      <td>...</td>\n",
       "      <td>...</td>\n",
       "      <td>...</td>\n",
       "    </tr>\n",
       "    <tr>\n",
       "      <th>53924</th>\n",
       "      <td>47328</td>\n",
       "      <td>2022</td>\n",
       "      <td>5.052822</td>\n",
       "      <td>4.81275</td>\n",
       "      <td>5.20412</td>\n",
       "      <td>4.588832</td>\n",
       "      <td>0.615288</td>\n",
       "      <td>3</td>\n",
       "    </tr>\n",
       "    <tr>\n",
       "      <th>53925</th>\n",
       "      <td>47329</td>\n",
       "      <td>2022</td>\n",
       "      <td>4.929036</td>\n",
       "      <td>4.069128</td>\n",
       "      <td>5.0</td>\n",
       "      <td>4.822822</td>\n",
       "      <td>0.177178</td>\n",
       "      <td>8</td>\n",
       "    </tr>\n",
       "    <tr>\n",
       "      <th>53926</th>\n",
       "      <td>47348</td>\n",
       "      <td>2022</td>\n",
       "      <td>4.895975</td>\n",
       "      <td>4.362658</td>\n",
       "      <td>5.064458</td>\n",
       "      <td>4.716838</td>\n",
       "      <td>0.34762</td>\n",
       "      <td>6</td>\n",
       "    </tr>\n",
       "    <tr>\n",
       "      <th>53927</th>\n",
       "      <td>47350</td>\n",
       "      <td>2022</td>\n",
       "      <td>5.038024</td>\n",
       "      <td>4.50716</td>\n",
       "      <td>5.220108</td>\n",
       "      <td>4.906874</td>\n",
       "      <td>0.313235</td>\n",
       "      <td>6</td>\n",
       "    </tr>\n",
       "    <tr>\n",
       "      <th>53928</th>\n",
       "      <td>47362</td>\n",
       "      <td>2022</td>\n",
       "      <td>4.837431</td>\n",
       "      <td>4.366241</td>\n",
       "      <td>5.0</td>\n",
       "      <td>4.658011</td>\n",
       "      <td>0.341989</td>\n",
       "      <td>4</td>\n",
       "    </tr>\n",
       "  </tbody>\n",
       "</table>\n",
       "<p>53929 rows × 8 columns</p>\n",
       "</div>"
      ],
      "text/plain": [
       "      所在地コード    年度   平均地価log 地価_stdlog 地価_maxlog 地価_minlog 地価_maxminlog  \\\n",
       "0       1101  1983  5.742026  5.885713  6.380211  4.812913     1.567298   \n",
       "1       1102  1983  4.857709  4.936916  5.454845  4.361728     1.093117   \n",
       "2       1103  1983  4.836324  4.428763  5.079181  4.477121      0.60206   \n",
       "3       1104  1983  4.832509  4.178332  4.939519  4.732394     0.207125   \n",
       "4       1105  1983  4.831102  3.983841  4.897627  4.728354     0.169273   \n",
       "...      ...   ...       ...       ...       ...       ...          ...   \n",
       "53924  47328  2022  5.052822   4.81275   5.20412  4.588832     0.615288   \n",
       "53925  47329  2022  4.929036  4.069128       5.0  4.822822     0.177178   \n",
       "53926  47348  2022  4.895975  4.362658  5.064458  4.716838      0.34762   \n",
       "53927  47350  2022  5.038024   4.50716  5.220108  4.906874     0.313235   \n",
       "53928  47362  2022  4.837431  4.366241       5.0  4.658011     0.341989   \n",
       "\n",
       "      地価_count  \n",
       "0            9  \n",
       "1            8  \n",
       "2            7  \n",
       "3            4  \n",
       "4           10  \n",
       "...        ...  \n",
       "53924        3  \n",
       "53925        8  \n",
       "53926        6  \n",
       "53927        6  \n",
       "53928        4  \n",
       "\n",
       "[53929 rows x 8 columns]"
      ]
     },
     "execution_count": 38,
     "metadata": {},
     "output_type": "execute_result"
    }
   ],
   "source": [
    "# 対象年度のデータを取得し、0以外のデータの平均値を取り、lastyearの平均価格が当時の何倍かを確認する。この倍率の常用対数を取り、当時の価格に加える。\n",
    "correct = pd.DataFrame(index=[], columns=['所在地コード', '年度', '平均地価log', '地価_stdlog', '地価_maxlog', '地価_minlog', '地価_maxminlog', '地価_count'])\n",
    "year = 1983\n",
    "for colname in collist:\n",
    "    price = df[['所在地コード', colname]][df[colname] != 0]\n",
    "    price = price.groupby('所在地コード')\n",
    "    table = price.mean()\n",
    "    table = table.rename(columns={colname: '平均地価log'})\n",
    "    table['平均地価log'] = pd.DataFrame(np.log10(table['平均地価log']))\n",
    "    table['地価_stdlog'] = price.std()[colname]\n",
    "    table.loc[table['地価_stdlog'].isna(),'地価_stdlog'] = 1\n",
    "    table['地価_stdlog'] = pd.DataFrame(np.log10(table['地価_stdlog']))\n",
    "    table['地価_maxlog'] = price.max()[colname]\n",
    "    table['地価_maxlog'] = pd.DataFrame(np.log10(table['地価_maxlog']))\n",
    "    table['地価_minlog'] = price.min()[colname]\n",
    "    table['地価_minlog'] = pd.DataFrame(np.log10(table['地価_minlog']))\n",
    "    table['地価_maxminlog'] = table['地価_maxlog'] - table['地価_minlog']\n",
    "    table['地価_count'] = price.count()[colname]\n",
    "    table['年度'] = year\n",
    "    year += 1\n",
    "    table = table.reset_index()\n",
    "    correct = pd.concat([correct, table])\n",
    "    \n",
    "correct = correct.reset_index(drop=True)\n",
    "correct"
   ]
  },
  {
   "cell_type": "code",
   "execution_count": 39,
   "id": "69fad302-7e57-4e45-ab85-b9b62b42b391",
   "metadata": {},
   "outputs": [
    {
     "data": {
      "text/plain": [
       "所在地コード          0\n",
       "年度              0\n",
       "平均地価log         0\n",
       "地価_stdlog       0\n",
       "地価_maxlog       0\n",
       "地価_minlog       0\n",
       "地価_maxminlog    0\n",
       "地価_count        0\n",
       "dtype: int64"
      ]
     },
     "execution_count": 39,
     "metadata": {},
     "output_type": "execute_result"
    }
   ],
   "source": [
    "correct.isnull().sum()"
   ]
  },
  {
   "cell_type": "code",
   "execution_count": null,
   "id": "e9691768-0d95-4472-b62e-9be1a8e80321",
   "metadata": {},
   "outputs": [],
   "source": []
  },
  {
   "cell_type": "code",
   "execution_count": null,
   "id": "b32f9438-b0fc-4d8c-9797-cff171cc8914",
   "metadata": {},
   "outputs": [],
   "source": []
  },
  {
   "cell_type": "code",
   "execution_count": 40,
   "id": "276ef0e7-77ee-4d05-a2b9-b8a7c81e40c1",
   "metadata": {},
   "outputs": [],
   "source": [
    "# このデータをCSVとして出力する。\n",
    "correct.to_csv('reference/correction.csv', index=False, header=True)"
   ]
  }
 ],
 "metadata": {
  "kernelspec": {
   "display_name": "Python 3 (ipykernel)",
   "language": "python",
   "name": "python3"
  },
  "language_info": {
   "codemirror_mode": {
    "name": "ipython",
    "version": 3
   },
   "file_extension": ".py",
   "mimetype": "text/x-python",
   "name": "python",
   "nbconvert_exporter": "python",
   "pygments_lexer": "ipython3",
   "version": "3.9.7"
  }
 },
 "nbformat": 4,
 "nbformat_minor": 5
}
