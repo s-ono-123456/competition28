{
 "cells": [
  {
   "cell_type": "code",
   "execution_count": null,
   "id": "f9378ade-76d1-4e9d-80b2-1e8542c64c32",
   "metadata": {},
   "outputs": [],
   "source": [
    "!pip install -U heamy"
   ]
  },
  {
   "cell_type": "code",
   "execution_count": null,
   "id": "41479ecd-e6a2-4d46-b448-d1bc990c87be",
   "metadata": {},
   "outputs": [],
   "source": [
    "import lightgbm as lgb\n",
    "import japanize_matplotlib\n",
    "import pandas as pd\n",
    "import numpy as np\n",
    "import seaborn as sns\n",
    "import optuna\n",
    "import pickle\n",
    "from sklearn.model_selection import train_test_split\n",
    "from sklearn.model_selection import KFold\n",
    "from sklearn.metrics import mean_absolute_error\n",
    "from dinamiclr import LrSchedulingCallback\n",
    "from catboost import Pool\n",
    "from catboost import CatBoostRegressor\n",
    "\n",
    "from heamy.dataset import Dataset\n",
    "from heamy.estimator import Regressor\n",
    "from heamy.pipeline import ModelsPipeline\n",
    "\n",
    "from sklearn.ensemble import RandomForestRegressor\n",
    "from sklearn.linear_model import LinearRegression\n",
    "from sklearn.neighbors import KNeighborsRegressor"
   ]
  },
  {
   "cell_type": "code",
   "execution_count": null,
   "id": "a4c9a0bb-9ced-4b71-bc82-e05365039165",
   "metadata": {},
   "outputs": [],
   "source": [
    "df = pickle.load(open('fixed/df_std.sav', 'rb'))"
   ]
  },
  {
   "cell_type": "code",
   "execution_count": null,
   "id": "fb26266d-08a9-4730-a6f6-eeb2519c241f",
   "metadata": {},
   "outputs": [],
   "source": [
    "ID = 'ID'\n",
    "TARGET = '取引価格（総額）_log'\n",
    "dropcol = ['市区町村コード', '取引時点int']\n",
    "dropval = 0.9\n",
    "df = df.drop(dropcol, axis=1)\n",
    "# df.set_index('ID', inplace = True)\n",
    "\n",
    "cols = df.columns\n",
    "cols = cols[cols != '取引価格（総額）_log']\n",
    "cols = cols[cols != '学習データ']\n",
    "cols = cols[cols != '価格/面積log']\n",
    "cols = cols[cols != '面積（㎡）']\n",
    "# cols = cols[cols != 'ID']\n",
    "\n",
    "test = df[df['学習データ']==False]\n",
    "train = df[df['学習データ']==True]"
   ]
  },
  {
   "cell_type": "code",
   "execution_count": null,
   "id": "71e01acc-4d2f-45a7-a8f5-5a73d425ba08",
   "metadata": {},
   "outputs": [],
   "source": [
    "train_1 = train[train['価格/面積log'] <= dropval]\n",
    "train_1 = train_1[train_1['価格/面積log'] >= -1*dropval]\n",
    "print(f'train:{len(train)}, train_1:{len(train_1)}')\n",
    "print(f\"max:{train_1['価格/面積log'].max()}, min:{train_1['価格/面積log'].min()}\")"
   ]
  },
  {
   "cell_type": "code",
   "execution_count": null,
   "id": "1bc192cd-3d86-4394-8e2d-c117d3f767d7",
   "metadata": {},
   "outputs": [],
   "source": [
    "X_np_1 = np.array(train_1[cols])\n",
    "y_np_1 = train_1['取引価格（総額）_log'].values\n",
    "X_submit = np.array(test[cols])\n",
    "X_np = np.array(train[cols])\n",
    "y_np = train['取引価格（総額）_log'].values"
   ]
  },
  {
   "cell_type": "code",
   "execution_count": null,
   "id": "b69a81bb-5610-4bfa-a9b5-1af3942fb558",
   "metadata": {},
   "outputs": [],
   "source": [
    "df.isnull().sum()[df.isnull().sum() != 0]"
   ]
  },
  {
   "cell_type": "code",
   "execution_count": null,
   "id": "4a2edc44-56d5-4cad-8b53-f9dc49f2f9c6",
   "metadata": {},
   "outputs": [],
   "source": [
    "best_params_cat = {'l2_leaf_reg': 33.51917340457483, 'random_strength': 0.16779085114202497, 'subsample': 0.9828709713363581, 'objective': 'MAE', 'colsample_bylevel': 0.09, 'depth': 12, 'boosting_type': 'Plain', 'bootstrap_type': 'Bernoulli', 'eval_metric': 'MAE', 'learning_rate': 0.1, 'early_stopping_rounds': 50, 'iterations': 20000, 'verbose': 500, 'loss_function': 'MAE', 'random_seed': 42}"
   ]
  },
  {
   "cell_type": "code",
   "execution_count": null,
   "id": "85a38e85-55d1-40ea-a38e-9d0e6587c364",
   "metadata": {
    "scrolled": true,
    "tags": []
   },
   "outputs": [],
   "source": [
    "%%time\n",
    "FOLD = 5\n",
    "valid_scores_cat = []\n",
    "models_cat = []\n",
    "y_pred_cat = []\n",
    "kf = KFold(n_splits=FOLD, shuffle=True, random_state=42)\n",
    "for fold, (train_indices, valid_indices) in enumerate(kf.split(X_np_1)):\n",
    "    X_train, X_valid = X_np_1[train_indices], X_np_1[valid_indices]\n",
    "    y_train, y_valid = y_np_1[train_indices], y_np_1[valid_indices]\n",
    "    train_pool = Pool(X_train, y_train)\n",
    "    validate_pool = Pool(X_valid, y_valid)\n",
    "    \n",
    "    model = CatBoostRegressor(**best_params_cat)\n",
    "    model.fit(train_pool, eval_set=validate_pool)\n",
    "\n",
    "    y_valid_pred = model.predict(X_valid)\n",
    "    \n",
    "    X_valid_df = pd.DataFrame(X_valid, columns=cols)\n",
    "    y_valid_pred_df = pd.DataFrame(y_valid_pred, columns=[TARGET])\n",
    "    y_valid_pred_df[ID] = X_valid_df[ID]\n",
    "    \n",
    "    y_pred_cat.append(y_valid_pred_df)\n",
    "    \n",
    "    score = mean_absolute_error(y_valid, y_valid_pred)\n",
    "    print(f'fold {fold} MAE: {score}')\n",
    "    valid_scores_cat.append(score)\n",
    "\n",
    "    models_cat.append(model)\n",
    "\n",
    "cv_score = np.mean(valid_scores_cat)\n",
    "print(f'CV score: {cv_score}')"
   ]
  },
  {
   "cell_type": "code",
   "execution_count": null,
   "id": "845a71ff-fcc2-41a2-936d-985a93746d60",
   "metadata": {},
   "outputs": [],
   "source": [
    "# モデルを保存する\n",
    "filename = 'models/catboost_{}/models_{}.sav'\n",
    "for i in range(5):\n",
    "    pickle.dump(models_cat[i], open(filename.format(dropval, i), 'wb'))"
   ]
  },
  {
   "cell_type": "code",
   "execution_count": null,
   "id": "a11b7a1d-3b32-468d-bfed-a858f5db5ec8",
   "metadata": {},
   "outputs": [],
   "source": [
    "y_pred_cat = pd.concat([y_pred_cat[0], y_pred_cat[1], y_pred_cat[2], y_pred_cat[3], y_pred_cat[4]]).reset_index().drop(['index'], axis=1)\n",
    "y_pred_cat = y_pred_cat.astype({ID:int})\n",
    "y_pred_cat[[ID, TARGET]].to_csv(f'./pre-pred/prepred_cat_{dropval}.csv', index = False)"
   ]
  },
  {
   "cell_type": "code",
   "execution_count": null,
   "id": "e29b9cff-dee3-4ffc-9bd2-04b6255aac36",
   "metadata": {},
   "outputs": [],
   "source": [
    "# 保存したモデルをロードする\n",
    "filename = 'models/catboost_{}/models_{}.sav'\n",
    "models_cat = []\n",
    "for i in range(5):\n",
    "    loaded_model = pickle.load(open(filename.format(dropval, i), 'rb'))\n",
    "    models_cat.append(loaded_model)"
   ]
  },
  {
   "cell_type": "code",
   "execution_count": null,
   "id": "aaf7dc14-ada0-42ac-a4c6-5759dc68c6a4",
   "metadata": {},
   "outputs": [],
   "source": [
    "# lgb0モデルでsubmitデータを作る\n",
    "submit_pred_cat = []\n",
    "for i in range(5):\n",
    "    submit_pred = models_cat[i].predict(X_submit)\n",
    "    submit_pred_cat.append(submit_pred)\n",
    "submit_pred_cat = (submit_pred_cat[0] + submit_pred_cat[1] + submit_pred_cat[2] + submit_pred_cat[3] + submit_pred_cat[4])/5"
   ]
  },
  {
   "cell_type": "code",
   "execution_count": null,
   "id": "68eff66b-7dd2-4913-b053-9d03b811c481",
   "metadata": {},
   "outputs": [],
   "source": [
    "submit_pred_cat = np.log10(np.ceil(np.power(10, submit_pred_cat)/100000)*100000)"
   ]
  },
  {
   "cell_type": "code",
   "execution_count": null,
   "id": "0a4e5a52-6770-4306-ab5f-bcd9f52513e2",
   "metadata": {},
   "outputs": [],
   "source": [
    "X_submit_df = pd.DataFrame(X_submit, columns=cols)\n",
    "submit_pred_cat_df = pd.DataFrame(submit_pred_cat, columns=[TARGET])\n",
    "submit_pred_cat_df[ID] = X_submit_df[ID]\n",
    "submit_pred_cat_df = submit_pred_cat_df[[ID, TARGET]].astype({ID:int})\n",
    "submit_pred_cat_df.to_csv(f'./pre-pred/submit/prepred_cat_{}.csv', index = False)"
   ]
  },
  {
   "cell_type": "code",
   "execution_count": null,
   "id": "bb5787fd-2a86-4394-a326-c8884c9ffb12",
   "metadata": {},
   "outputs": [],
   "source": []
  }
 ],
 "metadata": {
  "kernelspec": {
   "display_name": "Python 3 (ipykernel)",
   "language": "python",
   "name": "python3"
  },
  "language_info": {
   "codemirror_mode": {
    "name": "ipython",
    "version": 3
   },
   "file_extension": ".py",
   "mimetype": "text/x-python",
   "name": "python",
   "nbconvert_exporter": "python",
   "pygments_lexer": "ipython3",
   "version": "3.9.7"
  }
 },
 "nbformat": 4,
 "nbformat_minor": 5
}
